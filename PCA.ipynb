{
 "cells": [
  {
   "cell_type": "markdown",
   "metadata": {},
   "source": [
    "# Loading"
   ]
  },
  {
   "cell_type": "code",
   "execution_count": 15,
   "metadata": {},
   "outputs": [],
   "source": [
    "import my_code\n",
    "%matplotlib qt"
   ]
  },
  {
   "cell_type": "code",
   "execution_count": 16,
   "metadata": {},
   "outputs": [],
   "source": [
    "import os\n",
    "import numpy as np\n",
    "import matplotlib.pyplot as plt\n",
    "import mne\n",
    "from mne.io import read_raw_edf"
   ]
  },
  {
   "cell_type": "code",
   "execution_count": 17,
   "metadata": {},
   "outputs": [
    {
     "name": "stdout",
     "output_type": "stream",
     "text": [
      "C:\\Users\\domin\\Desktop\\Thesis Coding\\Datafiles from Giuseppe\n"
     ]
    }
   ],
   "source": [
    "path = os.getcwd()\n",
    "print(path)"
   ]
  },
  {
   "cell_type": "code",
   "execution_count": 18,
   "metadata": {},
   "outputs": [
    {
     "name": "stdout",
     "output_type": "stream",
     "text": [
      "Extracting EDF parameters from C:\\Users\\domin\\Desktop\\Thesis Coding\\Datafiles from Giuseppe\\Giuseppe01_01.02.21_08.43.22.edf...\n",
      "EDF file detected\n",
      "Setting channel info structure...\n",
      "Creating raw.info structure...\n",
      "Reading 0 ... 45055  =      0.000 ...   175.996 secs...\n",
      "Extracting EDF parameters from C:\\Users\\domin\\Desktop\\Thesis Coding\\Datafiles from Giuseppe\\Giuseppe02_02.02.21_08.30.42.edf...\n",
      "EDF file detected\n",
      "Setting channel info structure...\n",
      "Creating raw.info structure...\n",
      "Reading 0 ... 45823  =      0.000 ...   178.996 secs...\n",
      "Extracting EDF parameters from C:\\Users\\domin\\Desktop\\Thesis Coding\\Datafiles from Giuseppe\\Giuseppe03_03.02.21_08.33.04.edf...\n",
      "EDF file detected\n",
      "Setting channel info structure...\n",
      "Creating raw.info structure...\n",
      "Reading 0 ... 45311  =      0.000 ...   176.996 secs...\n",
      "Extracting EDF parameters from C:\\Users\\domin\\Desktop\\Thesis Coding\\Datafiles from Giuseppe\\Giuseppe04_03.02.21_08.43.13.edf...\n",
      "EDF file detected\n",
      "Setting channel info structure...\n",
      "Creating raw.info structure...\n",
      "Reading 0 ... 47103  =      0.000 ...   183.996 secs...\n",
      "Extracting EDF parameters from C:\\Users\\domin\\Desktop\\Thesis Coding\\Datafiles from Giuseppe\\Giuseppe05_04.02.21_08.33.05.edf...\n",
      "EDF file detected\n",
      "Setting channel info structure...\n",
      "Creating raw.info structure...\n",
      "Reading 0 ... 44543  =      0.000 ...   173.996 secs...\n",
      "Extracting EDF parameters from C:\\Users\\domin\\Desktop\\Thesis Coding\\Datafiles from Giuseppe\\Giuseppe06_04.02.21_08.45.14.edf...\n",
      "EDF file detected\n",
      "Setting channel info structure...\n",
      "Creating raw.info structure...\n",
      "Reading 0 ... 45055  =      0.000 ...   175.996 secs...\n",
      "Extracting EDF parameters from C:\\Users\\domin\\Desktop\\Thesis Coding\\Datafiles from Giuseppe\\Giuseppe07_08.02.21_08.39.35.edf...\n",
      "EDF file detected\n",
      "Setting channel info structure...\n",
      "Creating raw.info structure...\n",
      "Reading 0 ... 45567  =      0.000 ...   177.996 secs...\n",
      "Extracting EDF parameters from C:\\Users\\domin\\Desktop\\Thesis Coding\\Datafiles from Giuseppe\\Giuseppe08_08.02.21_08.51.46.edf...\n",
      "EDF file detected\n",
      "Setting channel info structure...\n",
      "Creating raw.info structure...\n",
      "Reading 0 ... 45311  =      0.000 ...   176.996 secs...\n",
      "Extracting EDF parameters from C:\\Users\\domin\\Desktop\\Thesis Coding\\Datafiles from Giuseppe\\Giuseppe09_09.02.21_08.31.15.edf...\n",
      "EDF file detected\n",
      "Setting channel info structure...\n",
      "Creating raw.info structure...\n",
      "Reading 0 ... 46591  =      0.000 ...   181.996 secs...\n",
      "Extracting EDF parameters from C:\\Users\\domin\\Desktop\\Thesis Coding\\Datafiles from Giuseppe\\Giuseppe10_09.02.21_08.42.21.edf...\n",
      "EDF file detected\n",
      "Setting channel info structure...\n",
      "Creating raw.info structure...\n",
      "Reading 0 ... 46335  =      0.000 ...   180.996 secs...\n",
      "Extracting EDF parameters from C:\\Users\\domin\\Desktop\\Thesis Coding\\Datafiles from Giuseppe\\Giuseppe11_10.02.21_08.30.59.edf...\n",
      "EDF file detected\n",
      "Setting channel info structure...\n",
      "Creating raw.info structure...\n",
      "Reading 0 ... 44799  =      0.000 ...   174.996 secs...\n",
      "Extracting EDF parameters from C:\\Users\\domin\\Desktop\\Thesis Coding\\Datafiles from Giuseppe\\Giuseppe12_10.02.21_08.38.55.edf...\n",
      "EDF file detected\n",
      "Setting channel info structure...\n",
      "Creating raw.info structure...\n",
      "Reading 0 ... 44799  =      0.000 ...   174.996 secs...\n",
      "Extracting EDF parameters from C:\\Users\\domin\\Desktop\\Thesis Coding\\Datafiles from Giuseppe\\Giuseppe13_11.02.21_08.28.07.edf...\n",
      "EDF file detected\n",
      "Setting channel info structure...\n",
      "Creating raw.info structure...\n",
      "Reading 0 ... 44799  =      0.000 ...   174.996 secs...\n",
      "Extracting EDF parameters from C:\\Users\\domin\\Desktop\\Thesis Coding\\Datafiles from Giuseppe\\Giuseppe14_11.02.21_08.36.41.edf...\n",
      "EDF file detected\n",
      "Setting channel info structure...\n",
      "Creating raw.info structure...\n",
      "Reading 0 ... 45567  =      0.000 ...   177.996 secs...\n",
      "Extracting EDF parameters from C:\\Users\\domin\\Desktop\\Thesis Coding\\Datafiles from Giuseppe\\Giuseppe15_11.02.21_08.46.24.edf...\n",
      "EDF file detected\n",
      "Setting channel info structure...\n",
      "Creating raw.info structure...\n",
      "Reading 0 ... 44799  =      0.000 ...   174.996 secs...\n",
      "Extracting EDF parameters from C:\\Users\\domin\\Desktop\\Thesis Coding\\Datafiles from Giuseppe\\Giuseppe16_12.02.21_08.35.57.edf...\n",
      "EDF file detected\n",
      "Setting channel info structure...\n",
      "Creating raw.info structure...\n",
      "Reading 0 ... 44799  =      0.000 ...   174.996 secs...\n",
      "Extracting EDF parameters from C:\\Users\\domin\\Desktop\\Thesis Coding\\Datafiles from Giuseppe\\Giuseppe17_12.02.21_08.44.40.edf...\n",
      "EDF file detected\n",
      "Setting channel info structure...\n",
      "Creating raw.info structure...\n",
      "Reading 0 ... 44799  =      0.000 ...   174.996 secs...\n",
      "Extracting EDF parameters from C:\\Users\\domin\\Desktop\\Thesis Coding\\Datafiles from Giuseppe\\Giuseppe18_16.02.21_08.17.11.edf...\n",
      "EDF file detected\n",
      "Setting channel info structure...\n",
      "Creating raw.info structure...\n",
      "Reading 0 ... 46079  =      0.000 ...   179.996 secs...\n",
      "Extracting EDF parameters from C:\\Users\\domin\\Desktop\\Thesis Coding\\Datafiles from Giuseppe\\Giuseppe19_16.02.21_08.24.47.edf...\n",
      "EDF file detected\n",
      "Setting channel info structure...\n",
      "Creating raw.info structure...\n",
      "Reading 0 ... 44543  =      0.000 ...   173.996 secs...\n",
      "Extracting EDF parameters from C:\\Users\\domin\\Desktop\\Thesis Coding\\Datafiles from Giuseppe\\Giuseppe20_16.02.21_08.35.10.edf...\n",
      "EDF file detected\n",
      "Setting channel info structure...\n",
      "Creating raw.info structure...\n",
      "Reading 0 ... 44799  =      0.000 ...   174.996 secs...\n",
      "Extracting EDF parameters from C:\\Users\\domin\\Desktop\\Thesis Coding\\Datafiles from Giuseppe\\Giuseppe21_16.02.21_08.44.29.edf...\n",
      "EDF file detected\n",
      "Setting channel info structure...\n",
      "Creating raw.info structure...\n",
      "Reading 0 ... 45055  =      0.000 ...   175.996 secs...\n",
      "Extracting EDF parameters from C:\\Users\\domin\\Desktop\\Thesis Coding\\Datafiles from Giuseppe\\Giuseppe22_17.02.21_08.31.24.edf...\n",
      "EDF file detected\n",
      "Setting channel info structure...\n",
      "Creating raw.info structure...\n",
      "Reading 0 ... 44799  =      0.000 ...   174.996 secs...\n",
      "Extracting EDF parameters from C:\\Users\\domin\\Desktop\\Thesis Coding\\Datafiles from Giuseppe\\Giuseppe23_17.02.21_08.39.05.edf...\n",
      "EDF file detected\n",
      "Setting channel info structure...\n",
      "Creating raw.info structure...\n",
      "Reading 0 ... 44799  =      0.000 ...   174.996 secs...\n",
      "Extracting EDF parameters from C:\\Users\\domin\\Desktop\\Thesis Coding\\Datafiles from Giuseppe\\Giuseppe24_17.02.21_08.50.33.edf...\n",
      "EDF file detected\n",
      "Setting channel info structure...\n",
      "Creating raw.info structure...\n",
      "Reading 0 ... 44799  =      0.000 ...   174.996 secs...\n",
      "Extracting EDF parameters from C:\\Users\\domin\\Desktop\\Thesis Coding\\Datafiles from Giuseppe\\Giuseppe25_18.02.21_08.35.56.edf...\n",
      "EDF file detected\n",
      "Setting channel info structure...\n",
      "Creating raw.info structure...\n",
      "Reading 0 ... 44543  =      0.000 ...   173.996 secs...\n",
      "Extracting EDF parameters from C:\\Users\\domin\\Desktop\\Thesis Coding\\Datafiles from Giuseppe\\Giuseppe26_18.02.21_08.43.36.edf...\n",
      "EDF file detected\n",
      "Setting channel info structure...\n",
      "Creating raw.info structure...\n",
      "Reading 0 ... 44799  =      0.000 ...   174.996 secs...\n",
      "Extracting EDF parameters from C:\\Users\\domin\\Desktop\\Thesis Coding\\Datafiles from Giuseppe\\Giuseppe27_18.02.21_08.54.59.edf...\n",
      "EDF file detected\n",
      "Setting channel info structure...\n",
      "Creating raw.info structure...\n",
      "Reading 0 ... 44287  =      0.000 ...   172.996 secs...\n",
      "Extracting EDF parameters from C:\\Users\\domin\\Desktop\\Thesis Coding\\Datafiles from Giuseppe\\Giuseppe28_19.02.21_08.31.37.edf...\n",
      "EDF file detected\n",
      "Setting channel info structure...\n",
      "Creating raw.info structure...\n",
      "Reading 0 ... 44287  =      0.000 ...   172.996 secs...\n",
      "Extracting EDF parameters from C:\\Users\\domin\\Desktop\\Thesis Coding\\Datafiles from Giuseppe\\Giuseppe29_19.02.21_08.40.08.edf...\n",
      "EDF file detected\n",
      "Setting channel info structure...\n",
      "Creating raw.info structure...\n",
      "Reading 0 ... 44543  =      0.000 ...   173.996 secs...\n",
      "Extracting EDF parameters from C:\\Users\\domin\\Desktop\\Thesis Coding\\Datafiles from Giuseppe\\Giuseppe30_19.02.21_08.49.01.edf...\n",
      "EDF file detected\n",
      "Setting channel info structure...\n",
      "Creating raw.info structure...\n",
      "Reading 0 ... 44799  =      0.000 ...   174.996 secs...\n"
     ]
    }
   ],
   "source": [
    "raw_datasets = my_code.load_all_datasets(path = path)"
   ]
  },
  {
   "cell_type": "code",
   "execution_count": 19,
   "metadata": {},
   "outputs": [
    {
     "name": "stdout",
     "output_type": "stream",
     "text": [
      "EEG channel type selected for re-referencing\n",
      "Applying a custom EEG reference.\n",
      "Filtering raw data in 1 contiguous segment\n",
      "Setting up high-pass filter at 0.16 Hz\n",
      "\n",
      "FIR filter parameters\n",
      "---------------------\n",
      "Designing a one-pass, zero-phase, non-causal highpass filter:\n",
      "- Windowed time-domain design (firwin) method\n",
      "- Hamming window with 0.0194 passband ripple and 53 dB stopband attenuation\n",
      "- Lower passband edge: 0.16\n",
      "- Lower transition bandwidth: 0.16 Hz (-6 dB cutoff frequency: 0.08 Hz)\n",
      "- Filter length: 5281 samples (20.629 sec)\n",
      "\n",
      "Used Annotations descriptions: ['Push', 'Relax']\n",
      "EEG channel type selected for re-referencing\n",
      "Applying a custom EEG reference.\n",
      "Filtering raw data in 1 contiguous segment\n",
      "Setting up high-pass filter at 0.16 Hz\n",
      "\n",
      "FIR filter parameters\n",
      "---------------------\n",
      "Designing a one-pass, zero-phase, non-causal highpass filter:\n",
      "- Windowed time-domain design (firwin) method\n",
      "- Hamming window with 0.0194 passband ripple and 53 dB stopband attenuation\n",
      "- Lower passband edge: 0.16\n",
      "- Lower transition bandwidth: 0.16 Hz (-6 dB cutoff frequency: 0.08 Hz)\n",
      "- Filter length: 5281 samples (20.629 sec)\n",
      "\n",
      "Used Annotations descriptions: ['Push', 'Relax']\n",
      "EEG channel type selected for re-referencing\n",
      "Applying a custom EEG reference.\n",
      "Filtering raw data in 1 contiguous segment\n",
      "Setting up high-pass filter at 0.16 Hz\n",
      "\n",
      "FIR filter parameters\n",
      "---------------------\n",
      "Designing a one-pass, zero-phase, non-causal highpass filter:\n",
      "- Windowed time-domain design (firwin) method\n",
      "- Hamming window with 0.0194 passband ripple and 53 dB stopband attenuation\n",
      "- Lower passband edge: 0.16\n",
      "- Lower transition bandwidth: 0.16 Hz (-6 dB cutoff frequency: 0.08 Hz)\n",
      "- Filter length: 5281 samples (20.629 sec)\n",
      "\n",
      "Used Annotations descriptions: ['Push', 'Relax']\n",
      "EEG channel type selected for re-referencing\n",
      "Applying a custom EEG reference.\n",
      "Filtering raw data in 1 contiguous segment\n",
      "Setting up high-pass filter at 0.16 Hz\n",
      "\n",
      "FIR filter parameters\n",
      "---------------------\n",
      "Designing a one-pass, zero-phase, non-causal highpass filter:\n",
      "- Windowed time-domain design (firwin) method\n",
      "- Hamming window with 0.0194 passband ripple and 53 dB stopband attenuation\n",
      "- Lower passband edge: 0.16\n",
      "- Lower transition bandwidth: 0.16 Hz (-6 dB cutoff frequency: 0.08 Hz)\n",
      "- Filter length: 5281 samples (20.629 sec)\n",
      "\n",
      "Used Annotations descriptions: ['Push', 'Relax']\n",
      "EEG channel type selected for re-referencing\n",
      "Applying a custom EEG reference.\n",
      "Filtering raw data in 1 contiguous segment\n",
      "Setting up high-pass filter at 0.16 Hz\n",
      "\n",
      "FIR filter parameters\n",
      "---------------------\n",
      "Designing a one-pass, zero-phase, non-causal highpass filter:\n",
      "- Windowed time-domain design (firwin) method\n",
      "- Hamming window with 0.0194 passband ripple and 53 dB stopband attenuation\n",
      "- Lower passband edge: 0.16\n",
      "- Lower transition bandwidth: 0.16 Hz (-6 dB cutoff frequency: 0.08 Hz)\n",
      "- Filter length: 5281 samples (20.629 sec)\n",
      "\n",
      "Used Annotations descriptions: ['Push', 'Relax']\n",
      "EEG channel type selected for re-referencing\n",
      "Applying a custom EEG reference.\n",
      "Filtering raw data in 1 contiguous segment\n",
      "Setting up high-pass filter at 0.16 Hz\n",
      "\n",
      "FIR filter parameters\n",
      "---------------------\n",
      "Designing a one-pass, zero-phase, non-causal highpass filter:\n",
      "- Windowed time-domain design (firwin) method\n",
      "- Hamming window with 0.0194 passband ripple and 53 dB stopband attenuation\n",
      "- Lower passband edge: 0.16\n",
      "- Lower transition bandwidth: 0.16 Hz (-6 dB cutoff frequency: 0.08 Hz)\n",
      "- Filter length: 5281 samples (20.629 sec)\n",
      "\n",
      "Used Annotations descriptions: ['Push', 'Relax']\n",
      "EEG channel type selected for re-referencing\n",
      "Applying a custom EEG reference.\n",
      "Filtering raw data in 1 contiguous segment\n",
      "Setting up high-pass filter at 0.16 Hz\n",
      "\n",
      "FIR filter parameters\n",
      "---------------------\n",
      "Designing a one-pass, zero-phase, non-causal highpass filter:\n",
      "- Windowed time-domain design (firwin) method\n",
      "- Hamming window with 0.0194 passband ripple and 53 dB stopband attenuation\n",
      "- Lower passband edge: 0.16\n",
      "- Lower transition bandwidth: 0.16 Hz (-6 dB cutoff frequency: 0.08 Hz)\n",
      "- Filter length: 5281 samples (20.629 sec)\n",
      "\n",
      "Used Annotations descriptions: ['Push', 'Relax']\n",
      "EEG channel type selected for re-referencing\n",
      "Applying a custom EEG reference.\n",
      "Filtering raw data in 1 contiguous segment\n",
      "Setting up high-pass filter at 0.16 Hz\n",
      "\n",
      "FIR filter parameters\n",
      "---------------------\n",
      "Designing a one-pass, zero-phase, non-causal highpass filter:\n",
      "- Windowed time-domain design (firwin) method\n",
      "- Hamming window with 0.0194 passband ripple and 53 dB stopband attenuation\n",
      "- Lower passband edge: 0.16\n",
      "- Lower transition bandwidth: 0.16 Hz (-6 dB cutoff frequency: 0.08 Hz)\n",
      "- Filter length: 5281 samples (20.629 sec)\n",
      "\n",
      "Used Annotations descriptions: ['Push', 'Relax']\n",
      "EEG channel type selected for re-referencing\n",
      "Applying a custom EEG reference.\n",
      "Filtering raw data in 1 contiguous segment\n",
      "Setting up high-pass filter at 0.16 Hz\n",
      "\n",
      "FIR filter parameters\n",
      "---------------------\n",
      "Designing a one-pass, zero-phase, non-causal highpass filter:\n",
      "- Windowed time-domain design (firwin) method\n",
      "- Hamming window with 0.0194 passband ripple and 53 dB stopband attenuation\n",
      "- Lower passband edge: 0.16\n",
      "- Lower transition bandwidth: 0.16 Hz (-6 dB cutoff frequency: 0.08 Hz)\n",
      "- Filter length: 5281 samples (20.629 sec)\n",
      "\n",
      "Used Annotations descriptions: ['Push', 'Relax']\n",
      "EEG channel type selected for re-referencing\n",
      "Applying a custom EEG reference.\n",
      "Filtering raw data in 1 contiguous segment\n",
      "Setting up high-pass filter at 0.16 Hz\n",
      "\n",
      "FIR filter parameters\n",
      "---------------------\n",
      "Designing a one-pass, zero-phase, non-causal highpass filter:\n",
      "- Windowed time-domain design (firwin) method\n",
      "- Hamming window with 0.0194 passband ripple and 53 dB stopband attenuation\n",
      "- Lower passband edge: 0.16\n",
      "- Lower transition bandwidth: 0.16 Hz (-6 dB cutoff frequency: 0.08 Hz)\n",
      "- Filter length: 5281 samples (20.629 sec)\n",
      "\n",
      "Used Annotations descriptions: ['Push', 'Relax']\n",
      "EEG channel type selected for re-referencing\n",
      "Applying a custom EEG reference.\n",
      "Filtering raw data in 1 contiguous segment\n",
      "Setting up high-pass filter at 0.16 Hz\n",
      "\n",
      "FIR filter parameters\n",
      "---------------------\n",
      "Designing a one-pass, zero-phase, non-causal highpass filter:\n",
      "- Windowed time-domain design (firwin) method\n",
      "- Hamming window with 0.0194 passband ripple and 53 dB stopband attenuation\n",
      "- Lower passband edge: 0.16\n",
      "- Lower transition bandwidth: 0.16 Hz (-6 dB cutoff frequency: 0.08 Hz)\n",
      "- Filter length: 5281 samples (20.629 sec)\n",
      "\n",
      "Used Annotations descriptions: ['Push', 'Relax']\n",
      "EEG channel type selected for re-referencing\n",
      "Applying a custom EEG reference.\n",
      "Filtering raw data in 1 contiguous segment\n",
      "Setting up high-pass filter at 0.16 Hz\n",
      "\n",
      "FIR filter parameters\n",
      "---------------------\n",
      "Designing a one-pass, zero-phase, non-causal highpass filter:\n",
      "- Windowed time-domain design (firwin) method\n",
      "- Hamming window with 0.0194 passband ripple and 53 dB stopband attenuation\n",
      "- Lower passband edge: 0.16\n",
      "- Lower transition bandwidth: 0.16 Hz (-6 dB cutoff frequency: 0.08 Hz)\n",
      "- Filter length: 5281 samples (20.629 sec)\n",
      "\n",
      "Used Annotations descriptions: ['Push', 'Relax']\n",
      "EEG channel type selected for re-referencing\n",
      "Applying a custom EEG reference.\n",
      "Filtering raw data in 1 contiguous segment\n",
      "Setting up high-pass filter at 0.16 Hz\n",
      "\n",
      "FIR filter parameters\n",
      "---------------------\n",
      "Designing a one-pass, zero-phase, non-causal highpass filter:\n",
      "- Windowed time-domain design (firwin) method\n",
      "- Hamming window with 0.0194 passband ripple and 53 dB stopband attenuation\n",
      "- Lower passband edge: 0.16\n",
      "- Lower transition bandwidth: 0.16 Hz (-6 dB cutoff frequency: 0.08 Hz)\n",
      "- Filter length: 5281 samples (20.629 sec)\n",
      "\n",
      "Used Annotations descriptions: ['Push', 'Relax']\n",
      "EEG channel type selected for re-referencing\n",
      "Applying a custom EEG reference.\n",
      "Filtering raw data in 1 contiguous segment\n",
      "Setting up high-pass filter at 0.16 Hz\n",
      "\n",
      "FIR filter parameters\n",
      "---------------------\n",
      "Designing a one-pass, zero-phase, non-causal highpass filter:\n",
      "- Windowed time-domain design (firwin) method\n",
      "- Hamming window with 0.0194 passband ripple and 53 dB stopband attenuation\n",
      "- Lower passband edge: 0.16\n",
      "- Lower transition bandwidth: 0.16 Hz (-6 dB cutoff frequency: 0.08 Hz)\n",
      "- Filter length: 5281 samples (20.629 sec)\n",
      "\n",
      "Used Annotations descriptions: ['Push', 'Relax']\n",
      "EEG channel type selected for re-referencing\n"
     ]
    },
    {
     "name": "stdout",
     "output_type": "stream",
     "text": [
      "Applying a custom EEG reference.\n",
      "Filtering raw data in 1 contiguous segment\n",
      "Setting up high-pass filter at 0.16 Hz\n",
      "\n",
      "FIR filter parameters\n",
      "---------------------\n",
      "Designing a one-pass, zero-phase, non-causal highpass filter:\n",
      "- Windowed time-domain design (firwin) method\n",
      "- Hamming window with 0.0194 passband ripple and 53 dB stopband attenuation\n",
      "- Lower passband edge: 0.16\n",
      "- Lower transition bandwidth: 0.16 Hz (-6 dB cutoff frequency: 0.08 Hz)\n",
      "- Filter length: 5281 samples (20.629 sec)\n",
      "\n",
      "Used Annotations descriptions: ['Push', 'Relax']\n",
      "EEG channel type selected for re-referencing\n",
      "Applying a custom EEG reference.\n",
      "Filtering raw data in 1 contiguous segment\n",
      "Setting up high-pass filter at 0.16 Hz\n",
      "\n",
      "FIR filter parameters\n",
      "---------------------\n",
      "Designing a one-pass, zero-phase, non-causal highpass filter:\n",
      "- Windowed time-domain design (firwin) method\n",
      "- Hamming window with 0.0194 passband ripple and 53 dB stopband attenuation\n",
      "- Lower passband edge: 0.16\n",
      "- Lower transition bandwidth: 0.16 Hz (-6 dB cutoff frequency: 0.08 Hz)\n",
      "- Filter length: 5281 samples (20.629 sec)\n",
      "\n",
      "Used Annotations descriptions: ['Push', 'Relax']\n",
      "EEG channel type selected for re-referencing\n",
      "Applying a custom EEG reference.\n",
      "Filtering raw data in 1 contiguous segment\n",
      "Setting up high-pass filter at 0.16 Hz\n",
      "\n",
      "FIR filter parameters\n",
      "---------------------\n",
      "Designing a one-pass, zero-phase, non-causal highpass filter:\n",
      "- Windowed time-domain design (firwin) method\n",
      "- Hamming window with 0.0194 passband ripple and 53 dB stopband attenuation\n",
      "- Lower passband edge: 0.16\n",
      "- Lower transition bandwidth: 0.16 Hz (-6 dB cutoff frequency: 0.08 Hz)\n",
      "- Filter length: 5281 samples (20.629 sec)\n",
      "\n",
      "Used Annotations descriptions: ['Push', 'Relax']\n",
      "EEG channel type selected for re-referencing\n",
      "Applying a custom EEG reference.\n",
      "Filtering raw data in 1 contiguous segment\n",
      "Setting up high-pass filter at 0.16 Hz\n",
      "\n",
      "FIR filter parameters\n",
      "---------------------\n",
      "Designing a one-pass, zero-phase, non-causal highpass filter:\n",
      "- Windowed time-domain design (firwin) method\n",
      "- Hamming window with 0.0194 passband ripple and 53 dB stopband attenuation\n",
      "- Lower passband edge: 0.16\n",
      "- Lower transition bandwidth: 0.16 Hz (-6 dB cutoff frequency: 0.08 Hz)\n",
      "- Filter length: 5281 samples (20.629 sec)\n",
      "\n",
      "Used Annotations descriptions: ['Push', 'Relax']\n",
      "EEG channel type selected for re-referencing\n",
      "Applying a custom EEG reference.\n",
      "Filtering raw data in 1 contiguous segment\n",
      "Setting up high-pass filter at 0.16 Hz\n",
      "\n",
      "FIR filter parameters\n",
      "---------------------\n",
      "Designing a one-pass, zero-phase, non-causal highpass filter:\n",
      "- Windowed time-domain design (firwin) method\n",
      "- Hamming window with 0.0194 passband ripple and 53 dB stopband attenuation\n",
      "- Lower passband edge: 0.16\n",
      "- Lower transition bandwidth: 0.16 Hz (-6 dB cutoff frequency: 0.08 Hz)\n",
      "- Filter length: 5281 samples (20.629 sec)\n",
      "\n",
      "Used Annotations descriptions: ['Push', 'Relax']\n",
      "EEG channel type selected for re-referencing\n",
      "Applying a custom EEG reference.\n",
      "Filtering raw data in 1 contiguous segment\n",
      "Setting up high-pass filter at 0.16 Hz\n",
      "\n",
      "FIR filter parameters\n",
      "---------------------\n",
      "Designing a one-pass, zero-phase, non-causal highpass filter:\n",
      "- Windowed time-domain design (firwin) method\n",
      "- Hamming window with 0.0194 passband ripple and 53 dB stopband attenuation\n",
      "- Lower passband edge: 0.16\n",
      "- Lower transition bandwidth: 0.16 Hz (-6 dB cutoff frequency: 0.08 Hz)\n",
      "- Filter length: 5281 samples (20.629 sec)\n",
      "\n",
      "Used Annotations descriptions: ['Push', 'Relax']\n",
      "EEG channel type selected for re-referencing\n",
      "Applying a custom EEG reference.\n",
      "Filtering raw data in 1 contiguous segment\n",
      "Setting up high-pass filter at 0.16 Hz\n",
      "\n",
      "FIR filter parameters\n",
      "---------------------\n",
      "Designing a one-pass, zero-phase, non-causal highpass filter:\n",
      "- Windowed time-domain design (firwin) method\n",
      "- Hamming window with 0.0194 passband ripple and 53 dB stopband attenuation\n",
      "- Lower passband edge: 0.16\n",
      "- Lower transition bandwidth: 0.16 Hz (-6 dB cutoff frequency: 0.08 Hz)\n",
      "- Filter length: 5281 samples (20.629 sec)\n",
      "\n",
      "Used Annotations descriptions: ['Push', 'Relax']\n",
      "EEG channel type selected for re-referencing\n",
      "Applying a custom EEG reference.\n",
      "Filtering raw data in 1 contiguous segment\n",
      "Setting up high-pass filter at 0.16 Hz\n",
      "\n",
      "FIR filter parameters\n",
      "---------------------\n",
      "Designing a one-pass, zero-phase, non-causal highpass filter:\n",
      "- Windowed time-domain design (firwin) method\n",
      "- Hamming window with 0.0194 passband ripple and 53 dB stopband attenuation\n",
      "- Lower passband edge: 0.16\n",
      "- Lower transition bandwidth: 0.16 Hz (-6 dB cutoff frequency: 0.08 Hz)\n",
      "- Filter length: 5281 samples (20.629 sec)\n",
      "\n",
      "Used Annotations descriptions: ['Push', 'Relax']\n",
      "EEG channel type selected for re-referencing\n",
      "Applying a custom EEG reference.\n",
      "Filtering raw data in 1 contiguous segment\n",
      "Setting up high-pass filter at 0.16 Hz\n",
      "\n",
      "FIR filter parameters\n",
      "---------------------\n",
      "Designing a one-pass, zero-phase, non-causal highpass filter:\n",
      "- Windowed time-domain design (firwin) method\n",
      "- Hamming window with 0.0194 passband ripple and 53 dB stopband attenuation\n",
      "- Lower passband edge: 0.16\n",
      "- Lower transition bandwidth: 0.16 Hz (-6 dB cutoff frequency: 0.08 Hz)\n",
      "- Filter length: 5281 samples (20.629 sec)\n",
      "\n",
      "Used Annotations descriptions: ['Push', 'Relax']\n",
      "EEG channel type selected for re-referencing\n",
      "Applying a custom EEG reference.\n",
      "Filtering raw data in 1 contiguous segment\n",
      "Setting up high-pass filter at 0.16 Hz\n",
      "\n",
      "FIR filter parameters\n",
      "---------------------\n",
      "Designing a one-pass, zero-phase, non-causal highpass filter:\n",
      "- Windowed time-domain design (firwin) method\n",
      "- Hamming window with 0.0194 passband ripple and 53 dB stopband attenuation\n",
      "- Lower passband edge: 0.16\n",
      "- Lower transition bandwidth: 0.16 Hz (-6 dB cutoff frequency: 0.08 Hz)\n",
      "- Filter length: 5281 samples (20.629 sec)\n",
      "\n",
      "Used Annotations descriptions: ['Push', 'Relax']\n",
      "EEG channel type selected for re-referencing\n",
      "Applying a custom EEG reference.\n",
      "Filtering raw data in 1 contiguous segment\n",
      "Setting up high-pass filter at 0.16 Hz\n",
      "\n",
      "FIR filter parameters\n",
      "---------------------\n",
      "Designing a one-pass, zero-phase, non-causal highpass filter:\n",
      "- Windowed time-domain design (firwin) method\n",
      "- Hamming window with 0.0194 passband ripple and 53 dB stopband attenuation\n",
      "- Lower passband edge: 0.16\n",
      "- Lower transition bandwidth: 0.16 Hz (-6 dB cutoff frequency: 0.08 Hz)\n",
      "- Filter length: 5281 samples (20.629 sec)\n",
      "\n",
      "Used Annotations descriptions: ['Push', 'Relax']\n",
      "EEG channel type selected for re-referencing\n",
      "Applying a custom EEG reference.\n",
      "Filtering raw data in 1 contiguous segment\n",
      "Setting up high-pass filter at 0.16 Hz\n",
      "\n",
      "FIR filter parameters\n",
      "---------------------\n",
      "Designing a one-pass, zero-phase, non-causal highpass filter:\n",
      "- Windowed time-domain design (firwin) method\n",
      "- Hamming window with 0.0194 passband ripple and 53 dB stopband attenuation\n",
      "- Lower passband edge: 0.16\n",
      "- Lower transition bandwidth: 0.16 Hz (-6 dB cutoff frequency: 0.08 Hz)\n",
      "- Filter length: 5281 samples (20.629 sec)\n",
      "\n",
      "Used Annotations descriptions: ['Push', 'Relax']\n",
      "EEG channel type selected for re-referencing\n",
      "Applying a custom EEG reference.\n",
      "Filtering raw data in 1 contiguous segment\n",
      "Setting up high-pass filter at 0.16 Hz\n",
      "\n",
      "FIR filter parameters\n",
      "---------------------\n",
      "Designing a one-pass, zero-phase, non-causal highpass filter:\n",
      "- Windowed time-domain design (firwin) method\n",
      "- Hamming window with 0.0194 passband ripple and 53 dB stopband attenuation\n",
      "- Lower passband edge: 0.16\n",
      "- Lower transition bandwidth: 0.16 Hz (-6 dB cutoff frequency: 0.08 Hz)\n",
      "- Filter length: 5281 samples (20.629 sec)\n",
      "\n",
      "Used Annotations descriptions: ['Push', 'Relax']\n",
      "EEG channel type selected for re-referencing\n",
      "Applying a custom EEG reference.\n",
      "Filtering raw data in 1 contiguous segment\n",
      "Setting up high-pass filter at 0.16 Hz\n",
      "\n",
      "FIR filter parameters\n",
      "---------------------\n",
      "Designing a one-pass, zero-phase, non-causal highpass filter:\n",
      "- Windowed time-domain design (firwin) method\n",
      "- Hamming window with 0.0194 passband ripple and 53 dB stopband attenuation\n",
      "- Lower passband edge: 0.16\n",
      "- Lower transition bandwidth: 0.16 Hz (-6 dB cutoff frequency: 0.08 Hz)\n",
      "- Filter length: 5281 samples (20.629 sec)\n",
      "\n",
      "Used Annotations descriptions: ['Push', 'Relax']\n",
      "EEG channel type selected for re-referencing\n",
      "Applying a custom EEG reference.\n",
      "Filtering raw data in 1 contiguous segment\n"
     ]
    },
    {
     "name": "stdout",
     "output_type": "stream",
     "text": [
      "Setting up high-pass filter at 0.16 Hz\n",
      "\n",
      "FIR filter parameters\n",
      "---------------------\n",
      "Designing a one-pass, zero-phase, non-causal highpass filter:\n",
      "- Windowed time-domain design (firwin) method\n",
      "- Hamming window with 0.0194 passband ripple and 53 dB stopband attenuation\n",
      "- Lower passband edge: 0.16\n",
      "- Lower transition bandwidth: 0.16 Hz (-6 dB cutoff frequency: 0.08 Hz)\n",
      "- Filter length: 5281 samples (20.629 sec)\n",
      "\n",
      "Used Annotations descriptions: ['Push', 'Relax']\n",
      "EEG channel type selected for re-referencing\n",
      "Applying a custom EEG reference.\n",
      "Filtering raw data in 1 contiguous segment\n",
      "Setting up high-pass filter at 0.16 Hz\n",
      "\n",
      "FIR filter parameters\n",
      "---------------------\n",
      "Designing a one-pass, zero-phase, non-causal highpass filter:\n",
      "- Windowed time-domain design (firwin) method\n",
      "- Hamming window with 0.0194 passband ripple and 53 dB stopband attenuation\n",
      "- Lower passband edge: 0.16\n",
      "- Lower transition bandwidth: 0.16 Hz (-6 dB cutoff frequency: 0.08 Hz)\n",
      "- Filter length: 5281 samples (20.629 sec)\n",
      "\n",
      "Used Annotations descriptions: ['Push', 'Relax']\n"
     ]
    }
   ],
   "source": [
    "pre_processed_datasets = my_code.preliminary_steps(raw_datasets)"
   ]
  },
  {
   "cell_type": "code",
   "execution_count": 20,
   "metadata": {},
   "outputs": [
    {
     "name": "stdout",
     "output_type": "stream",
     "text": [
      "Used Annotations descriptions: ['Push', 'Relax']\n"
     ]
    }
   ],
   "source": [
    "events_from_annot, event_dict = mne.events_from_annotations(pre_processed_datasets[0])\n",
    "event_dict = {\"Push\" : 1, \"Relax\" : 2}\n",
    "baseline = (0.5, 0.5)\n",
    "delay = 0.5"
   ]
  },
  {
   "cell_type": "code",
   "execution_count": 21,
   "metadata": {},
   "outputs": [
    {
     "name": "stdout",
     "output_type": "stream",
     "text": [
      "Not setting metadata\n",
      "Not setting metadata\n",
      "10 matching events found\n",
      "Applying baseline correction (mode: mean)\n",
      "0 projection items activated\n",
      "Loading data for 10 events and 2305 original time points ...\n",
      "0 bad epochs dropped\n"
     ]
    }
   ],
   "source": [
    "epochs_all = mne.Epochs(pre_processed_datasets[0], events=events_from_annot, event_id = event_dict, baseline = baseline, tmin = 0.5, tmax = (10-delay), preload = True, reject_by_annotation=False)"
   ]
  },
  {
   "cell_type": "code",
   "execution_count": 22,
   "metadata": {},
   "outputs": [
    {
     "name": "stdout",
     "output_type": "stream",
     "text": [
      "Used Annotations descriptions: ['Push', 'Relax']\n",
      "Not setting metadata\n",
      "Not setting metadata\n",
      "10 matching events found\n",
      "Applying baseline correction (mode: mean)\n",
      "0 projection items activated\n",
      "Loading data for 10 events and 2305 original time points ...\n",
      "0 bad epochs dropped\n",
      "Not setting metadata\n",
      "Not setting metadata\n",
      "10 matching events found\n",
      "Applying baseline correction (mode: mean)\n",
      "0 projection items activated\n",
      "Loading data for 10 events and 2305 original time points ...\n",
      "0 bad epochs dropped\n",
      "Not setting metadata\n",
      "Not setting metadata\n",
      "20 matching events found\n",
      "Applying baseline correction (mode: mean)\n",
      "0 bad epochs dropped\n",
      "Not setting metadata\n",
      "Not setting metadata\n",
      "10 matching events found\n",
      "Applying baseline correction (mode: mean)\n",
      "0 projection items activated\n",
      "Loading data for 10 events and 2305 original time points ...\n",
      "0 bad epochs dropped\n",
      "Not setting metadata\n",
      "Not setting metadata\n",
      "30 matching events found\n",
      "Applying baseline correction (mode: mean)\n",
      "0 bad epochs dropped\n",
      "Not setting metadata\n",
      "Not setting metadata\n",
      "10 matching events found\n",
      "Applying baseline correction (mode: mean)\n",
      "0 projection items activated\n",
      "Loading data for 10 events and 2305 original time points ...\n",
      "0 bad epochs dropped\n",
      "Not setting metadata\n",
      "Not setting metadata\n",
      "40 matching events found\n",
      "Applying baseline correction (mode: mean)\n",
      "0 bad epochs dropped\n",
      "Not setting metadata\n",
      "Not setting metadata\n",
      "10 matching events found\n",
      "Applying baseline correction (mode: mean)\n",
      "0 projection items activated\n",
      "Loading data for 10 events and 2305 original time points ...\n",
      "0 bad epochs dropped\n",
      "Not setting metadata\n",
      "Not setting metadata\n",
      "50 matching events found\n",
      "Applying baseline correction (mode: mean)\n",
      "0 bad epochs dropped\n",
      "Not setting metadata\n",
      "Not setting metadata\n",
      "10 matching events found\n",
      "Applying baseline correction (mode: mean)\n",
      "0 projection items activated\n",
      "Loading data for 10 events and 2305 original time points ...\n",
      "0 bad epochs dropped\n",
      "Not setting metadata\n",
      "Not setting metadata\n",
      "60 matching events found\n",
      "Applying baseline correction (mode: mean)\n",
      "0 bad epochs dropped\n",
      "Not setting metadata\n",
      "Not setting metadata\n",
      "10 matching events found\n",
      "Applying baseline correction (mode: mean)\n",
      "0 projection items activated\n",
      "Loading data for 10 events and 2305 original time points ...\n",
      "0 bad epochs dropped\n",
      "Not setting metadata\n",
      "Not setting metadata\n",
      "70 matching events found\n",
      "Applying baseline correction (mode: mean)\n",
      "0 bad epochs dropped\n",
      "Not setting metadata\n",
      "Not setting metadata\n",
      "10 matching events found\n",
      "Applying baseline correction (mode: mean)\n",
      "0 projection items activated\n",
      "Loading data for 10 events and 2305 original time points ...\n",
      "0 bad epochs dropped\n",
      "Not setting metadata\n",
      "Not setting metadata\n",
      "80 matching events found\n",
      "Applying baseline correction (mode: mean)\n",
      "0 bad epochs dropped\n",
      "Not setting metadata\n",
      "Not setting metadata\n",
      "10 matching events found\n",
      "Applying baseline correction (mode: mean)\n",
      "0 projection items activated\n",
      "Loading data for 10 events and 2305 original time points ...\n",
      "0 bad epochs dropped\n",
      "Not setting metadata\n",
      "Not setting metadata\n",
      "90 matching events found\n",
      "Applying baseline correction (mode: mean)\n",
      "0 bad epochs dropped\n",
      "Not setting metadata\n",
      "Not setting metadata\n",
      "10 matching events found\n",
      "Applying baseline correction (mode: mean)\n",
      "0 projection items activated\n",
      "Loading data for 10 events and 2305 original time points ...\n",
      "0 bad epochs dropped\n",
      "Not setting metadata\n",
      "Not setting metadata\n",
      "100 matching events found\n",
      "Applying baseline correction (mode: mean)\n",
      "0 bad epochs dropped\n",
      "Not setting metadata\n",
      "Not setting metadata\n",
      "10 matching events found\n",
      "Applying baseline correction (mode: mean)\n",
      "0 projection items activated\n",
      "Loading data for 10 events and 2305 original time points ...\n",
      "0 bad epochs dropped\n",
      "Not setting metadata\n",
      "Not setting metadata\n",
      "110 matching events found\n",
      "Applying baseline correction (mode: mean)\n",
      "0 bad epochs dropped\n",
      "Not setting metadata\n",
      "Not setting metadata\n",
      "10 matching events found\n",
      "Applying baseline correction (mode: mean)\n",
      "0 projection items activated\n",
      "Loading data for 10 events and 2305 original time points ...\n",
      "0 bad epochs dropped\n",
      "Not setting metadata\n",
      "Not setting metadata\n",
      "120 matching events found\n",
      "Applying baseline correction (mode: mean)\n",
      "0 bad epochs dropped\n",
      "Not setting metadata\n",
      "Not setting metadata\n",
      "10 matching events found\n",
      "Applying baseline correction (mode: mean)\n",
      "0 projection items activated\n",
      "Loading data for 10 events and 2305 original time points ...\n",
      "0 bad epochs dropped\n",
      "Not setting metadata\n",
      "Not setting metadata\n",
      "130 matching events found\n",
      "Applying baseline correction (mode: mean)\n",
      "0 bad epochs dropped\n",
      "Not setting metadata\n",
      "Not setting metadata\n",
      "10 matching events found\n",
      "Applying baseline correction (mode: mean)\n",
      "0 projection items activated\n",
      "Loading data for 10 events and 2305 original time points ...\n",
      "0 bad epochs dropped\n",
      "Not setting metadata\n",
      "Not setting metadata\n",
      "140 matching events found\n",
      "Applying baseline correction (mode: mean)\n",
      "0 bad epochs dropped\n",
      "Not setting metadata\n",
      "Not setting metadata\n",
      "10 matching events found\n",
      "Applying baseline correction (mode: mean)\n",
      "0 projection items activated\n",
      "Loading data for 10 events and 2305 original time points ...\n",
      "0 bad epochs dropped\n",
      "Not setting metadata\n",
      "Not setting metadata\n",
      "150 matching events found\n",
      "Applying baseline correction (mode: mean)\n",
      "0 bad epochs dropped\n",
      "Not setting metadata\n",
      "Not setting metadata\n",
      "10 matching events found\n",
      "Applying baseline correction (mode: mean)\n",
      "0 projection items activated\n",
      "Loading data for 10 events and 2305 original time points ...\n",
      "0 bad epochs dropped\n",
      "Not setting metadata\n",
      "Not setting metadata\n",
      "160 matching events found\n",
      "Applying baseline correction (mode: mean)\n",
      "0 bad epochs dropped\n",
      "Not setting metadata\n",
      "Not setting metadata\n",
      "10 matching events found\n",
      "Applying baseline correction (mode: mean)\n",
      "0 projection items activated\n",
      "Loading data for 10 events and 2305 original time points ...\n",
      "0 bad epochs dropped\n",
      "Not setting metadata\n",
      "Not setting metadata\n",
      "170 matching events found\n",
      "Applying baseline correction (mode: mean)\n",
      "0 bad epochs dropped\n",
      "Not setting metadata\n",
      "Not setting metadata\n",
      "10 matching events found\n",
      "Applying baseline correction (mode: mean)\n",
      "0 projection items activated\n",
      "Loading data for 10 events and 2305 original time points ...\n",
      "0 bad epochs dropped\n",
      "Not setting metadata\n",
      "Not setting metadata\n",
      "180 matching events found\n",
      "Applying baseline correction (mode: mean)\n",
      "0 bad epochs dropped\n",
      "Not setting metadata\n",
      "Not setting metadata\n",
      "10 matching events found\n",
      "Applying baseline correction (mode: mean)\n",
      "0 projection items activated\n",
      "Loading data for 10 events and 2305 original time points ...\n",
      "0 bad epochs dropped\n",
      "Not setting metadata\n",
      "Not setting metadata\n",
      "190 matching events found\n",
      "Applying baseline correction (mode: mean)\n",
      "0 bad epochs dropped\n",
      "Not setting metadata\n",
      "Not setting metadata\n",
      "10 matching events found\n",
      "Applying baseline correction (mode: mean)\n",
      "0 projection items activated\n",
      "Loading data for 10 events and 2305 original time points ...\n",
      "0 bad epochs dropped\n",
      "Not setting metadata\n",
      "Not setting metadata\n",
      "200 matching events found\n",
      "Applying baseline correction (mode: mean)\n",
      "0 bad epochs dropped\n",
      "Not setting metadata\n",
      "Not setting metadata\n",
      "10 matching events found\n",
      "Applying baseline correction (mode: mean)\n",
      "0 projection items activated\n",
      "Loading data for 10 events and 2305 original time points ...\n",
      "0 bad epochs dropped\n",
      "Not setting metadata\n",
      "Not setting metadata\n",
      "210 matching events found\n",
      "Applying baseline correction (mode: mean)\n",
      "0 bad epochs dropped\n",
      "Not setting metadata\n",
      "Not setting metadata\n",
      "10 matching events found\n",
      "Applying baseline correction (mode: mean)\n",
      "0 projection items activated\n",
      "Loading data for 10 events and 2305 original time points ...\n",
      "0 bad epochs dropped\n",
      "Not setting metadata\n",
      "Not setting metadata\n",
      "220 matching events found\n",
      "Applying baseline correction (mode: mean)\n",
      "0 bad epochs dropped\n",
      "Not setting metadata\n",
      "Not setting metadata\n",
      "10 matching events found\n",
      "Applying baseline correction (mode: mean)\n",
      "0 projection items activated\n",
      "Loading data for 10 events and 2305 original time points ...\n",
      "0 bad epochs dropped\n",
      "Not setting metadata\n",
      "Not setting metadata\n",
      "230 matching events found\n",
      "Applying baseline correction (mode: mean)\n",
      "0 bad epochs dropped\n",
      "Not setting metadata\n",
      "Not setting metadata\n",
      "10 matching events found\n",
      "Applying baseline correction (mode: mean)\n",
      "0 projection items activated\n",
      "Loading data for 10 events and 2305 original time points ...\n",
      "0 bad epochs dropped\n"
     ]
    },
    {
     "name": "stdout",
     "output_type": "stream",
     "text": [
      "Not setting metadata\n",
      "Not setting metadata\n",
      "240 matching events found\n",
      "Applying baseline correction (mode: mean)\n",
      "0 bad epochs dropped\n",
      "Not setting metadata\n",
      "Not setting metadata\n",
      "10 matching events found\n",
      "Applying baseline correction (mode: mean)\n",
      "0 projection items activated\n",
      "Loading data for 10 events and 2305 original time points ...\n",
      "0 bad epochs dropped\n",
      "Not setting metadata\n",
      "Not setting metadata\n",
      "250 matching events found\n",
      "Applying baseline correction (mode: mean)\n",
      "0 bad epochs dropped\n",
      "Not setting metadata\n",
      "Not setting metadata\n",
      "10 matching events found\n",
      "Applying baseline correction (mode: mean)\n",
      "0 projection items activated\n",
      "Loading data for 10 events and 2305 original time points ...\n",
      "0 bad epochs dropped\n",
      "Not setting metadata\n",
      "Not setting metadata\n",
      "260 matching events found\n",
      "Applying baseline correction (mode: mean)\n",
      "0 bad epochs dropped\n",
      "Not setting metadata\n",
      "Not setting metadata\n",
      "10 matching events found\n",
      "Applying baseline correction (mode: mean)\n",
      "0 projection items activated\n",
      "Loading data for 10 events and 2305 original time points ...\n",
      "0 bad epochs dropped\n",
      "Not setting metadata\n",
      "Not setting metadata\n",
      "270 matching events found\n",
      "Applying baseline correction (mode: mean)\n",
      "0 bad epochs dropped\n",
      "Not setting metadata\n",
      "Not setting metadata\n",
      "10 matching events found\n",
      "Applying baseline correction (mode: mean)\n",
      "0 projection items activated\n",
      "Loading data for 10 events and 2305 original time points ...\n",
      "0 bad epochs dropped\n",
      "Not setting metadata\n",
      "Not setting metadata\n",
      "280 matching events found\n",
      "Applying baseline correction (mode: mean)\n",
      "0 bad epochs dropped\n",
      "Not setting metadata\n",
      "Not setting metadata\n",
      "10 matching events found\n",
      "Applying baseline correction (mode: mean)\n",
      "0 projection items activated\n",
      "Loading data for 10 events and 2305 original time points ...\n",
      "0 bad epochs dropped\n",
      "Not setting metadata\n",
      "Not setting metadata\n",
      "290 matching events found\n",
      "Applying baseline correction (mode: mean)\n",
      "0 bad epochs dropped\n",
      "Not setting metadata\n",
      "Not setting metadata\n",
      "10 matching events found\n",
      "Applying baseline correction (mode: mean)\n",
      "0 projection items activated\n",
      "Loading data for 10 events and 2305 original time points ...\n",
      "0 bad epochs dropped\n",
      "Not setting metadata\n",
      "Not setting metadata\n",
      "300 matching events found\n",
      "Applying baseline correction (mode: mean)\n",
      "0 bad epochs dropped\n",
      "Not setting metadata\n",
      "Not setting metadata\n",
      "10 matching events found\n",
      "Applying baseline correction (mode: mean)\n",
      "0 projection items activated\n",
      "Loading data for 10 events and 2305 original time points ...\n",
      "0 bad epochs dropped\n",
      "Not setting metadata\n",
      "Not setting metadata\n",
      "310 matching events found\n",
      "Applying baseline correction (mode: mean)\n",
      "0 bad epochs dropped\n",
      "Dropped 10 epochs: 0, 1, 2, 3, 4, 5, 6, 7, 8, 9\n"
     ]
    }
   ],
   "source": [
    "epochs_all = my_code.create_epochs(pre_processed_datasets=pre_processed_datasets)"
   ]
  },
  {
   "cell_type": "code",
   "execution_count": 23,
   "metadata": {},
   "outputs": [],
   "source": [
    "epochs_ica_ptp = epochs_all.copy()\n",
    "epochs_autoreject = epochs_all.copy()"
   ]
  },
  {
   "cell_type": "code",
   "execution_count": 24,
   "metadata": {},
   "outputs": [
    {
     "name": "stdout",
     "output_type": "stream",
     "text": [
      "Fitting ICA to data using 14 channels (please be patient, this may take a while)\n"
     ]
    },
    {
     "name": "stderr",
     "output_type": "stream",
     "text": [
      "<ipython-input-24-e2c80a2cba03>:6: DeprecationWarning: Version 0.23 introduced max_iter=\"auto\", setting max_iter=1000 for `fastica` and max_iter=500 for `infomax` and `picard`. The current default of max_iter=200 will be changed to \"auto\" in version 0.24.\n",
      "  ica = ICA(n_components=14, random_state=97)\n",
      "<ipython-input-24-e2c80a2cba03>:7: RuntimeWarning: The epochs you passed to ICA.fit() were baseline-corrected. However, we suggest to fit ICA only on data that has been high-pass filtered, but NOT baseline-corrected.\n",
      "  ica.fit(epochs_ica_ptp)\n"
     ]
    },
    {
     "name": "stdout",
     "output_type": "stream",
     "text": [
      "Selecting by number: 14 components\n",
      "Fitting ICA took 6.5s.\n",
      "Applying ICA to Epochs instance\n",
      "    Transforming to ICA space (14 components)\n",
      "    Zeroing out 2 ICA components\n",
      "    Projecting back using 14 PCA components\n"
     ]
    },
    {
     "name": "stderr",
     "output_type": "stream",
     "text": [
      "<ipython-input-24-e2c80a2cba03>:9: RuntimeWarning: The data you passed to ICA.apply() was baseline-corrected. Please note that ICA can introduce DC shifts, therefore you may wish to consider baseline-correcting the cleaned data again.\n",
      "  epochs_ica_ptp = ica.apply(epochs_ica_ptp)\n"
     ]
    }
   ],
   "source": [
    "# eye blinks: component 001\n",
    "# hearbeat: component 003 \n",
    "import numpy as np\n",
    "from mne.preprocessing import ICA\n",
    "    \n",
    "ica = ICA(n_components=14, random_state=97)\n",
    "ica.fit(epochs_ica_ptp)\n",
    "ica.exclude = [1,3]\n",
    "epochs_ica_ptp = ica.apply(epochs_ica_ptp)"
   ]
  },
  {
   "cell_type": "code",
   "execution_count": 25,
   "metadata": {},
   "outputs": [
    {
     "name": "stdout",
     "output_type": "stream",
     "text": [
      "    Rejecting  epoch based on EEG : ['AF3', 'F7', 'FC5', 'T7', 'P7', 'O1', 'O2', 'P8', 'T8', 'FC6', 'F4', 'F8', 'AF4']\n",
      "    Rejecting  epoch based on EEG : ['T7', 'P7', 'O1', 'P8', 'FC6', 'F4', 'F8', 'AF4']\n",
      "    Rejecting  epoch based on EEG : ['FC6', 'F4', 'F8', 'AF4']\n",
      "    Rejecting  epoch based on EEG : ['AF3', 'F7', 'FC5', 'P7', 'O1', 'P8', 'T8', 'FC6', 'F4', 'F8', 'AF4']\n",
      "    Rejecting  epoch based on EEG : ['F4']\n",
      "    Rejecting  epoch based on EEG : ['AF3', 'F7', 'F3', 'FC5', 'T7', 'P7', 'O1', 'O2', 'P8', 'T8', 'FC6', 'F4', 'F8', 'AF4']\n",
      "    Rejecting  epoch based on EEG : ['F4']\n",
      "    Rejecting  epoch based on EEG : ['P8', 'FC6', 'F4', 'F8', 'AF4']\n",
      "    Rejecting  epoch based on EEG : ['FC6']\n",
      "    Rejecting  epoch based on EEG : ['O1']\n",
      "    Rejecting  epoch based on EEG : ['O1', 'FC6', 'F4']\n",
      "    Rejecting  epoch based on EEG : ['F4']\n",
      "    Rejecting  epoch based on EEG : ['AF3', 'F7', 'FC5', 'T7', 'P7', 'O1', 'O2', 'P8', 'T8', 'FC6', 'F4', 'F8', 'AF4']\n",
      "    Rejecting  epoch based on EEG : ['FC6', 'F4', 'F8']\n",
      "    Rejecting  epoch based on EEG : ['AF3', 'F7', 'FC5', 'O1', 'O2', 'P8', 'T8', 'FC6', 'F4', 'F8', 'AF4']\n",
      "    Rejecting  epoch based on EEG : ['FC6']\n",
      "    Rejecting  epoch based on EEG : ['F3', 'O1', 'O2', 'P8', 'FC6', 'F4', 'F8', 'AF4']\n",
      "    Rejecting  epoch based on EEG : ['F3']\n",
      "    Rejecting  epoch based on EEG : ['F3', 'AF4']\n",
      "    Rejecting  epoch based on EEG : ['F3']\n",
      "    Rejecting  epoch based on EEG : ['AF3', 'F7', 'F3', 'FC5', 'T7', 'P7', 'O1', 'O2', 'P8', 'T8', 'FC6', 'F4', 'F8', 'AF4']\n",
      "    Rejecting  epoch based on EEG : ['AF3', 'F7', 'F3', 'FC5', 'P7', 'O1', 'O2', 'P8', 'T8', 'FC6', 'F4', 'F8', 'AF4']\n",
      "    Rejecting  epoch based on EEG : ['F3']\n",
      "    Rejecting  epoch based on EEG : ['T7']\n",
      "    Rejecting  epoch based on EEG : ['F4']\n",
      "    Rejecting  epoch based on EEG : ['F4']\n",
      "    Rejecting  epoch based on EEG : ['FC6']\n",
      "    Rejecting  epoch based on EEG : ['O2']\n",
      "    Rejecting  epoch based on EEG : ['P7', 'F4']\n",
      "    Rejecting  epoch based on EEG : ['AF3', 'F7', 'F3', 'FC5', 'T7', 'P7', 'O1', 'O2', 'P8', 'T8', 'FC6', 'F4', 'F8', 'AF4']\n",
      "    Rejecting  epoch based on EEG : ['FC6', 'F4']\n",
      "    Rejecting  epoch based on EEG : ['AF3', 'F7', 'F3', 'FC5', 'T7', 'O1', 'O2', 'P8', 'T8', 'FC6', 'F4', 'F8', 'AF4']\n",
      "    Rejecting  epoch based on EEG : ['FC6', 'F4']\n",
      "    Rejecting  epoch based on EEG : ['FC5']\n",
      "    Rejecting  epoch based on EEG : ['F7', 'T7']\n",
      "    Rejecting  epoch based on EEG : ['O1', 'F4']\n",
      "    Rejecting  epoch based on EEG : ['F4']\n",
      "    Rejecting  epoch based on EEG : ['F4']\n",
      "    Rejecting  epoch based on EEG : ['P8']\n",
      "    Rejecting  epoch based on EEG : ['P8']\n",
      "    Rejecting  epoch based on EEG : ['O2', 'FC6', 'F4', 'F8']\n",
      "    Rejecting  epoch based on EEG : ['P8']\n",
      "    Rejecting  epoch based on EEG : ['P8']\n",
      "    Rejecting  epoch based on EEG : ['P8']\n",
      "    Rejecting  epoch based on EEG : ['AF3', 'F7', 'F3', 'FC5', 'O1', 'O2', 'P8', 'T8', 'FC6', 'F4', 'F8', 'AF4']\n",
      "    Rejecting  epoch based on EEG : ['T7', 'O2', 'P8', 'FC6', 'F4', 'F8', 'AF4']\n",
      "    Rejecting  epoch based on EEG : ['F7', 'FC5', 'P7', 'O1', 'O2', 'P8', 'T8', 'FC6', 'F4', 'F8', 'AF4']\n",
      "    Rejecting  epoch based on EEG : ['F7']\n",
      "    Rejecting  epoch based on EEG : ['F4']\n",
      "    Rejecting  epoch based on EEG : ['F4']\n",
      "    Rejecting  epoch based on EEG : ['AF3', 'F7', 'F3', 'FC5', 'T7', 'P7', 'O1', 'O2', 'P8', 'T8', 'FC6', 'F4', 'F8', 'AF4']\n",
      "    Rejecting  epoch based on EEG : ['F7', 'F3', 'FC5', 'T7', 'P7', 'O2', 'P8', 'FC6', 'F4', 'F8', 'AF4']\n",
      "    Rejecting  epoch based on EEG : ['F7']\n",
      "    Rejecting  epoch based on EEG : ['F4']\n",
      "    Rejecting  epoch based on EEG : ['F7', 'F8']\n",
      "    Rejecting  epoch based on EEG : ['FC5']\n",
      "56 bad epochs dropped\n",
      "(('USER',), ('USER',), ('USER',), ('USER',), ('USER',), ('USER',), ('USER',), ('USER',), ('USER',), ('USER',), ('AF3', 'F7', 'FC5', 'T7', 'P7', 'O1', 'O2', 'P8', 'T8', 'FC6', 'F4', 'F8', 'AF4'), ('T7', 'P7', 'O1', 'P8', 'FC6', 'F4', 'F8', 'AF4'), ('FC6', 'F4', 'F8', 'AF4'), (), ('AF3', 'F7', 'FC5', 'P7', 'O1', 'P8', 'T8', 'FC6', 'F4', 'F8', 'AF4'), ('F4',), ('AF3', 'F7', 'F3', 'FC5', 'T7', 'P7', 'O1', 'O2', 'P8', 'T8', 'FC6', 'F4', 'F8', 'AF4'), ('F4',), ('P8', 'FC6', 'F4', 'F8', 'AF4'), ('FC6',), (), (), (), (), ('O1',), (), ('O1', 'FC6', 'F4'), (), ('F4',), (), (), (), ('AF3', 'F7', 'FC5', 'T7', 'P7', 'O1', 'O2', 'P8', 'T8', 'FC6', 'F4', 'F8', 'AF4'), (), ('FC6', 'F4', 'F8'), (), ('AF3', 'F7', 'FC5', 'O1', 'O2', 'P8', 'T8', 'FC6', 'F4', 'F8', 'AF4'), ('FC6',), (), (), (), (), ('F3', 'O1', 'O2', 'P8', 'FC6', 'F4', 'F8', 'AF4'), ('F3',), ('F3', 'AF4'), (), ('F3',), ('AF3', 'F7', 'F3', 'FC5', 'T7', 'P7', 'O1', 'O2', 'P8', 'T8', 'FC6', 'F4', 'F8', 'AF4'), ('AF3', 'F7', 'F3', 'FC5', 'P7', 'O1', 'O2', 'P8', 'T8', 'FC6', 'F4', 'F8', 'AF4'), ('F3',), ('T7',), (), (), (), (), (), (), (), ('F4',), (), (), (), (), ('F4',), (), (), ('FC6',), (), (), (), (), ('O2',), ('P7', 'F4'), ('AF3', 'F7', 'F3', 'FC5', 'T7', 'P7', 'O1', 'O2', 'P8', 'T8', 'FC6', 'F4', 'F8', 'AF4'), (), ('FC6', 'F4'), (), (), ('AF3', 'F7', 'F3', 'FC5', 'T7', 'O1', 'O2', 'P8', 'T8', 'FC6', 'F4', 'F8', 'AF4'), (), (), (), ('FC6', 'F4'), (), (), (), (), (), (), (), ('FC5',), (), (), (), (), ('F7', 'T7'), ('O1', 'F4'), (), (), (), (), (), (), ('F4',), (), (), ('F4',), (), (), ('P8',), (), (), (), ('P8',), ('O2', 'FC6', 'F4', 'F8'), ('P8',), (), ('P8',), (), ('P8',), (), (), (), (), ('AF3', 'F7', 'F3', 'FC5', 'O1', 'O2', 'P8', 'T8', 'FC6', 'F4', 'F8', 'AF4'), (), (), (), (), (), (), (), (), (), (), (), (), (), (), (), ('T7', 'O2', 'P8', 'FC6', 'F4', 'F8', 'AF4'), (), (), (), (), (), (), (), (), (), (), (), (), (), (), (), (), (), (), (), (), (), (), (), (), (), (), (), (), (), (), (), (), (), (), (), (), (), ('F7', 'FC5', 'P7', 'O1', 'O2', 'P8', 'T8', 'FC6', 'F4', 'F8', 'AF4'), (), ('F7',), (), (), (), (), ('F4',), ('F4',), (), (), (), (), (), (), (), (), ('AF3', 'F7', 'F3', 'FC5', 'T7', 'P7', 'O1', 'O2', 'P8', 'T8', 'FC6', 'F4', 'F8', 'AF4'), (), (), (), (), (), (), (), (), (), (), ('F7', 'F3', 'FC5', 'T7', 'P7', 'O2', 'P8', 'FC6', 'F4', 'F8', 'AF4'), (), (), (), ('F7',), (), (), (), (), (), (), (), (), (), (), (), (), (), (), (), (), (), ('F4',), (), (), (), (), (), (), (), (), (), (), (), (), (), (), (), (), (), (), (), (), (), (), (), (), (), (), (), (), (), (), (), (), (), (), (), (), (), (), (), (), (), ('F7', 'F8'), (), (), (), (), (), (), (), (), (), (), (), (), (), (), (), (), (), (), (), (), (), (), (), (), (), (), (), (), (), ('FC5',), (), (), (), (), (), (), (), (), ())\n"
     ]
    },
    {
     "data": {
      "image/png": "[encoded data removed]",
      "text/plain": [
       "<Figure size 640x480 with 1 Axes>"
      ]
     },
     "execution_count": 25,
     "metadata": {},
     "output_type": "execute_result"
    }
   ],
   "source": [
    "reject_criteria = dict(eeg=200e-6)\n",
    "\n",
    "epochs_ica_ptp= epochs_ica_ptp.drop_bad(reject=reject_criteria)\n",
    "print(epochs_ica_ptp.drop_log)\n",
    "epochs_ica_ptp.plot_drop_log()"
   ]
  },
  {
   "cell_type": "code",
   "execution_count": 26,
   "metadata": {},
   "outputs": [
    {
     "name": "stdout",
     "output_type": "stream",
     "text": [
      "Dropped 14 epochs: 0, 5, 6, 7, 10, 11, 16, 17, 122, 145, 148, 165, 206, 235\n"
     ]
    },
    {
     "data": {
      "text/plain": [
       "(<Epochs |  230 events (all good), 0.5 - 9.5 sec, baseline 0.5 – 0.5 sec, ~56.7 MB, data loaded,\n",
       "  'Push': 115\n",
       "  'Relax': 115>,\n",
       " array([  0,   5,   6,   7,  10,  11,  16,  17, 122, 145, 148, 165, 206,\n",
       "        235], dtype=int64))"
      ]
     },
     "execution_count": 26,
     "metadata": {},
     "output_type": "execute_result"
    }
   ],
   "source": [
    "epochs_ica_ptp.equalize_event_counts(epochs_all.event_id)"
   ]
  },
  {
   "cell_type": "markdown",
   "metadata": {},
   "source": [
    "#### Running PCA & LDA on raw data"
   ]
  },
  {
   "cell_type": "code",
   "execution_count": 27,
   "metadata": {},
   "outputs": [
    {
     "data": {
      "text/plain": [
       "(230, 14, 2305)"
      ]
     },
     "execution_count": 27,
     "metadata": {},
     "output_type": "execute_result"
    }
   ],
   "source": [
    "epochs_ica_ptp_data = epochs_ica_ptp.get_data()\n",
    "labels = np.concatenate((np.ones(shape=(115)), np.zeros(shape=(115))), axis = 0)\n",
    "epochs_ica_ptp_data.shape\n",
    "# shape is 3D for now, but PCA needs 2D output"
   ]
  },
  {
   "cell_type": "code",
   "execution_count": 28,
   "metadata": {},
   "outputs": [
    {
     "data": {
      "text/plain": [
       "(230, 32270)"
      ]
     },
     "execution_count": 28,
     "metadata": {},
     "output_type": "execute_result"
    }
   ],
   "source": [
    "# flattening the \n",
    "epochs_ica_ptp_data = epochs_ica_ptp_data.reshape(230,-1)\n",
    "epochs_ica_ptp_data.shape"
   ]
  },
  {
   "cell_type": "code",
   "execution_count": 29,
   "metadata": {},
   "outputs": [],
   "source": [
    "# normalizing the data \n",
    "\n",
    "from sklearn.preprocessing import StandardScaler\n",
    "epochs_ica_ptp_data  = StandardScaler().fit_transform(epochs_ica_ptp_data )"
   ]
  },
  {
   "cell_type": "code",
   "execution_count": 30,
   "metadata": {},
   "outputs": [],
   "source": [
    "# extracting components\n",
    "\n",
    "from sklearn.decomposition import PCA\n",
    "import pandas as pd\n",
    "pca = PCA(n_components=3)\n",
    "principalComponents = pca.fit_transform(epochs_ica_ptp_data)\n",
    "principalDf = pd.DataFrame(data = principalComponents\n",
    "             , columns = ['principal component 1', 'principal component 2', 'principal component 3'])"
   ]
  },
  {
   "cell_type": "code",
   "execution_count": 31,
   "metadata": {},
   "outputs": [
    {
     "data": {
      "text/html": [
       "<div>\n",
       "<style scoped>\n",
       "    .dataframe tbody tr th:only-of-type {\n",
       "        vertical-align: middle;\n",
       "    }\n",
       "\n",
       "    .dataframe tbody tr th {\n",
       "        vertical-align: top;\n",
       "    }\n",
       "\n",
       "    .dataframe thead th {\n",
       "        text-align: right;\n",
       "    }\n",
       "</style>\n",
       "<table border=\"1\" class=\"dataframe\">\n",
       "  <thead>\n",
       "    <tr style=\"text-align: right;\">\n",
       "      <th></th>\n",
       "      <th>principal component 1</th>\n",
       "      <th>principal component 2</th>\n",
       "      <th>principal component 3</th>\n",
       "    </tr>\n",
       "  </thead>\n",
       "  <tbody>\n",
       "    <tr>\n",
       "      <th>0</th>\n",
       "      <td>-18.386536</td>\n",
       "      <td>-21.279757</td>\n",
       "      <td>-73.377905</td>\n",
       "    </tr>\n",
       "    <tr>\n",
       "      <th>1</th>\n",
       "      <td>-204.354856</td>\n",
       "      <td>25.192249</td>\n",
       "      <td>16.935198</td>\n",
       "    </tr>\n",
       "    <tr>\n",
       "      <th>2</th>\n",
       "      <td>-26.694990</td>\n",
       "      <td>-2.462085</td>\n",
       "      <td>7.827860</td>\n",
       "    </tr>\n",
       "    <tr>\n",
       "      <th>3</th>\n",
       "      <td>38.884598</td>\n",
       "      <td>-12.122631</td>\n",
       "      <td>-28.887851</td>\n",
       "    </tr>\n",
       "    <tr>\n",
       "      <th>4</th>\n",
       "      <td>69.103046</td>\n",
       "      <td>12.318884</td>\n",
       "      <td>-4.190302</td>\n",
       "    </tr>\n",
       "    <tr>\n",
       "      <th>...</th>\n",
       "      <td>...</td>\n",
       "      <td>...</td>\n",
       "      <td>...</td>\n",
       "    </tr>\n",
       "    <tr>\n",
       "      <th>225</th>\n",
       "      <td>113.758809</td>\n",
       "      <td>7.758701</td>\n",
       "      <td>-5.903623</td>\n",
       "    </tr>\n",
       "    <tr>\n",
       "      <th>226</th>\n",
       "      <td>-7.394942</td>\n",
       "      <td>-3.022465</td>\n",
       "      <td>14.833324</td>\n",
       "    </tr>\n",
       "    <tr>\n",
       "      <th>227</th>\n",
       "      <td>-54.534157</td>\n",
       "      <td>6.694230</td>\n",
       "      <td>17.682814</td>\n",
       "    </tr>\n",
       "    <tr>\n",
       "      <th>228</th>\n",
       "      <td>-16.389495</td>\n",
       "      <td>-24.771181</td>\n",
       "      <td>-39.390377</td>\n",
       "    </tr>\n",
       "    <tr>\n",
       "      <th>229</th>\n",
       "      <td>53.225102</td>\n",
       "      <td>17.992574</td>\n",
       "      <td>47.489380</td>\n",
       "    </tr>\n",
       "  </tbody>\n",
       "</table>\n",
       "<p>230 rows × 3 columns</p>\n",
       "</div>"
      ],
      "text/plain": [
       "     principal component 1  principal component 2  principal component 3\n",
       "0               -18.386536             -21.279757             -73.377905\n",
       "1              -204.354856              25.192249              16.935198\n",
       "2               -26.694990              -2.462085               7.827860\n",
       "3                38.884598             -12.122631             -28.887851\n",
       "4                69.103046              12.318884              -4.190302\n",
       "..                     ...                    ...                    ...\n",
       "225             113.758809               7.758701              -5.903623\n",
       "226              -7.394942              -3.022465              14.833324\n",
       "227             -54.534157               6.694230              17.682814\n",
       "228             -16.389495             -24.771181             -39.390377\n",
       "229              53.225102              17.992574              47.489380\n",
       "\n",
       "[230 rows x 3 columns]"
      ]
     },
     "execution_count": 31,
     "metadata": {},
     "output_type": "execute_result"
    }
   ],
   "source": [
    "principalDf"
   ]
  },
  {
   "cell_type": "code",
   "execution_count": 32,
   "metadata": {},
   "outputs": [
    {
     "name": "stdout",
     "output_type": "stream",
     "text": [
      "[0.36797361 0.04011936 0.03567101]\n"
     ]
    },
    {
     "data": {
      "text/plain": [
       "array([11921.18815264,  1299.74122876,  1155.6284577 ])"
      ]
     },
     "execution_count": 32,
     "metadata": {},
     "output_type": "execute_result"
    }
   ],
   "source": [
    "# percentage of the explained variance by consecutive components\n",
    "\n",
    "print(pca.explained_variance_ratio_)\n",
    "\n",
    "# actual eigenvalues\n",
    "\n",
    "pca.explained_variance_"
   ]
  },
  {
   "cell_type": "code",
   "execution_count": 33,
   "metadata": {},
   "outputs": [
    {
     "data": {
      "text/plain": [
       "(230, 3)"
      ]
     },
     "execution_count": 33,
     "metadata": {},
     "output_type": "execute_result"
    }
   ],
   "source": [
    "# getting the components into a numpy array so it can be passed through a classifier\n",
    "\n",
    "principalDf_data = principalDf.to_numpy()\n",
    "principalDf_data.shape"
   ]
  },
  {
   "cell_type": "code",
   "execution_count": 34,
   "metadata": {},
   "outputs": [
    {
     "data": {
      "text/plain": [
       "(230, 4)"
      ]
     },
     "execution_count": 34,
     "metadata": {},
     "output_type": "execute_result"
    }
   ],
   "source": [
    "# reshaping labels so it can be concatenated with the features \n",
    "# and so components can be plotted \n",
    "labels = np.reshape(labels, (230,1))\n",
    "final_data = np.concatenate((principalDf_data, labels), axis=1)\n",
    "final_data.shape"
   ]
  },
  {
   "cell_type": "code",
   "execution_count": 35,
   "metadata": {},
   "outputs": [],
   "source": [
    "from mpl_toolkits import mplot3d\n",
    "fig = plt.figure()\n",
    "ax = plt.axes(projection='3d')"
   ]
  },
  {
   "cell_type": "code",
   "execution_count": 38,
   "metadata": {},
   "outputs": [
    {
     "data": {
      "text/plain": [
       "Text(0.5, 0, 'PC 3')"
      ]
     },
     "execution_count": 38,
     "metadata": {},
     "output_type": "execute_result"
    },
    {
     "data": {
      "image/png": "[encoded data removed]",
      "text/plain": [
       "<Figure size 432x288 with 1 Axes>"
      ]
     },
     "metadata": {
      "needs_background": "light"
     },
     "output_type": "display_data"
    }
   ],
   "source": [
    "%matplotlib inline\n",
    "ax = plt.axes(projection='3d')\n",
    "zdata1 = final_data[:115, 0]\n",
    "xdata1 = final_data[:115, 1]\n",
    "ydata1 = final_data[:115, 2]\n",
    "zdata2 = final_data[115:230, 0]\n",
    "xdata2 = final_data[115:230, 1]\n",
    "ydata2 = final_data[115:230, 2]\n",
    "ax.scatter3D(xdata1, ydata1, zdata1, c=\"r\");\n",
    "ax.scatter3D(xdata2, ydata2, zdata2, c=\"b\");\n",
    "ax.legend(['Push', 'Relax'])\n",
    "ax.set_xlabel('PC 1', fontsize = 10)\n",
    "ax.set_ylabel('PC 2', fontsize = 10)\n",
    "ax.set_zlabel('PC 3', fontsize = 10)"
   ]
  },
  {
   "cell_type": "code",
   "execution_count": 41,
   "metadata": {},
   "outputs": [
    {
     "name": "stdout",
     "output_type": "stream",
     "text": [
      "LDA Classification accuracy: 0.49347826086956514\n"
     ]
    }
   ],
   "source": [
    "# now, we will pass the components through LDA \n",
    "\n",
    "labels = labels.reshape(230,)   \n",
    "input_data = principalDf_data\n",
    "    \n",
    "    \n",
    "# Now, we run the alpha data through LDA\n",
    "\n",
    "from sklearn.pipeline import Pipeline\n",
    "from sklearn.discriminant_analysis import LinearDiscriminantAnalysis\n",
    "from sklearn.model_selection import ShuffleSplit, cross_val_score\n",
    "\n",
    "scores = []\n",
    "all_data = input_data\n",
    "all_data_train = input_data.copy()\n",
    "cv = ShuffleSplit(10, test_size=0.2, random_state=42)\n",
    "cv_split = cv.split(all_data_train)\n",
    "\n",
    "# Assemble a classifier\n",
    "lda = LinearDiscriminantAnalysis()\n",
    "\n",
    "# Use scikit-learn Pipeline with cross_val_score function\n",
    "clf = Pipeline([('LDA', lda)])\n",
    "scores = cross_val_score(clf, all_data_train, labels, cv=cv, n_jobs=1)\n",
    "\n",
    "# Printing the results\n",
    "class_balance = np.mean(labels == labels[0])\n",
    "class_balance = max(class_balance, 1. - class_balance)\n",
    "print(\"LDA Classification accuracy:\", np.mean(scores))\n"
   ]
  },
  {
   "cell_type": "markdown",
   "metadata": {},
   "source": [
    "### Running PCA and LDA on frequency data"
   ]
  },
  {
   "cell_type": "code",
   "execution_count": 42,
   "metadata": {},
   "outputs": [],
   "source": [
    "freqs, alpha_push_power, alpha_push_itc, instances = my_code.create_time_frequency_matrices(8, 12, 20, 115, 14, 769, epochs_ica_ptp[\"Push\"])\n",
    "freqs, alpha_relax_power, alpha_relax_itc, instances = my_code.create_time_frequency_matrices(8, 12, 20, 115, 14, 769, epochs_ica_ptp[\"Relax\"])\n",
    "freqs, beta_push_power, beta_push_itc, instances = my_code.create_time_frequency_matrices(13, 30, 20, 115, 14, 769, epochs_ica_ptp[\"Push\"])\n",
    "freqs, beta_relax_power, beta_relax_itc, instances = my_code.create_time_frequency_matrices(13, 30, 20, 115, 14, 769, epochs_ica_ptp[\"Relax\"])\n",
    "alpha_beta_push_power = np.concatenate((alpha_push_power, beta_push_power), axis=3)\n",
    "alpha_beta_relax_power = np.concatenate((alpha_relax_power, beta_relax_power), axis=3)\n",
    "freqs, gamma_push_power, gamma_push_itc, instances = my_code.create_time_frequency_matrices(30, 80, 20, 115, 14, 769, epochs_ica_ptp[\"Push\"])\n",
    "freqs, gamma_relax_power, gamma_relax_itc, instances = my_code.create_time_frequency_matrices(30, 80, 20, 115, 14, 769, epochs_ica_ptp[\"Relax\"])\n",
    "alpha_beta_gamma_push_power = np.concatenate((alpha_beta_push_power, gamma_push_power), axis=3)\n",
    "alpha_beta_gamma_relax_power = np.concatenate((alpha_beta_relax_power, gamma_relax_power), axis=3)"
   ]
  },
  {
   "cell_type": "code",
   "execution_count": 43,
   "metadata": {},
   "outputs": [
    {
     "data": {
      "text/plain": [
       "(115, 14, 20, 769)"
      ]
     },
     "execution_count": 43,
     "metadata": {},
     "output_type": "execute_result"
    }
   ],
   "source": [
    "# for now, the input vectors are of shape (115, 14, 20, 769)\n",
    "alpha_push_power.shape"
   ]
  },
  {
   "cell_type": "code",
   "execution_count": 44,
   "metadata": {},
   "outputs": [
    {
     "data": {
      "text/plain": [
       "(230, 10766)"
      ]
     },
     "execution_count": 44,
     "metadata": {},
     "output_type": "execute_result"
    }
   ],
   "source": [
    "alpha_push_power_flattenned=alpha_push_power.mean(axis=2)\n",
    "alpha_relax_power_flattenned=alpha_relax_power.mean(axis=2)\n",
    "    \n",
    "# flattening the input vectors\n",
    "    \n",
    "alpha_push_power_flattenned = alpha_push_power_flattenned.reshape(115, -1)\n",
    "alpha_relax_power_flattenned = alpha_relax_power_flattenned.reshape(115, -1)\n",
    "    \n",
    "# concatenating into one input vector\n",
    "    \n",
    "input_data = np.concatenate((alpha_push_power_flattenned, alpha_push_power_flattenned), axis = 0)\n",
    "input_data.shape"
   ]
  },
  {
   "cell_type": "code",
   "execution_count": 45,
   "metadata": {},
   "outputs": [],
   "source": [
    "# normalizing the data\n",
    "\n",
    "from sklearn.preprocessing import StandardScaler\n",
    "input_data  = StandardScaler().fit_transform(input_data )"
   ]
  },
  {
   "cell_type": "code",
   "execution_count": 46,
   "metadata": {},
   "outputs": [],
   "source": [
    "# extracting components\n",
    "\n",
    "from sklearn.decomposition import PCA\n",
    "import pandas as pd\n",
    "pca = PCA(n_components=3)\n",
    "principalComponents = pca.fit_transform(input_data)\n",
    "principalDf = pd.DataFrame(data = principalComponents\n",
    "             , columns = ['principal component 1', 'principal component 2', 'principal component 3'])"
   ]
  },
  {
   "cell_type": "code",
   "execution_count": 47,
   "metadata": {},
   "outputs": [
    {
     "data": {
      "text/html": [
       "<div>\n",
       "<style scoped>\n",
       "    .dataframe tbody tr th:only-of-type {\n",
       "        vertical-align: middle;\n",
       "    }\n",
       "\n",
       "    .dataframe tbody tr th {\n",
       "        vertical-align: top;\n",
       "    }\n",
       "\n",
       "    .dataframe thead th {\n",
       "        text-align: right;\n",
       "    }\n",
       "</style>\n",
       "<table border=\"1\" class=\"dataframe\">\n",
       "  <thead>\n",
       "    <tr style=\"text-align: right;\">\n",
       "      <th></th>\n",
       "      <th>principal component 1</th>\n",
       "      <th>principal component 2</th>\n",
       "      <th>principal component 3</th>\n",
       "    </tr>\n",
       "  </thead>\n",
       "  <tbody>\n",
       "    <tr>\n",
       "      <th>0</th>\n",
       "      <td>-7.921110</td>\n",
       "      <td>-9.941046</td>\n",
       "      <td>-1.558620</td>\n",
       "    </tr>\n",
       "    <tr>\n",
       "      <th>1</th>\n",
       "      <td>-17.780557</td>\n",
       "      <td>1.369090</td>\n",
       "      <td>3.725971</td>\n",
       "    </tr>\n",
       "    <tr>\n",
       "      <th>2</th>\n",
       "      <td>-21.742048</td>\n",
       "      <td>16.706428</td>\n",
       "      <td>-6.043173</td>\n",
       "    </tr>\n",
       "    <tr>\n",
       "      <th>3</th>\n",
       "      <td>-14.564242</td>\n",
       "      <td>-13.555188</td>\n",
       "      <td>5.513244</td>\n",
       "    </tr>\n",
       "    <tr>\n",
       "      <th>4</th>\n",
       "      <td>-26.802399</td>\n",
       "      <td>14.293568</td>\n",
       "      <td>9.896464</td>\n",
       "    </tr>\n",
       "    <tr>\n",
       "      <th>...</th>\n",
       "      <td>...</td>\n",
       "      <td>...</td>\n",
       "      <td>...</td>\n",
       "    </tr>\n",
       "    <tr>\n",
       "      <th>225</th>\n",
       "      <td>21.501598</td>\n",
       "      <td>-45.700191</td>\n",
       "      <td>30.607082</td>\n",
       "    </tr>\n",
       "    <tr>\n",
       "      <th>226</th>\n",
       "      <td>71.102994</td>\n",
       "      <td>34.307093</td>\n",
       "      <td>17.401370</td>\n",
       "    </tr>\n",
       "    <tr>\n",
       "      <th>227</th>\n",
       "      <td>-7.638611</td>\n",
       "      <td>-4.160965</td>\n",
       "      <td>12.753148</td>\n",
       "    </tr>\n",
       "    <tr>\n",
       "      <th>228</th>\n",
       "      <td>3.635346</td>\n",
       "      <td>-50.218244</td>\n",
       "      <td>-49.500180</td>\n",
       "    </tr>\n",
       "    <tr>\n",
       "      <th>229</th>\n",
       "      <td>-18.308074</td>\n",
       "      <td>-11.314000</td>\n",
       "      <td>9.848857</td>\n",
       "    </tr>\n",
       "  </tbody>\n",
       "</table>\n",
       "<p>230 rows × 3 columns</p>\n",
       "</div>"
      ],
      "text/plain": [
       "     principal component 1  principal component 2  principal component 3\n",
       "0                -7.921110              -9.941046              -1.558620\n",
       "1               -17.780557               1.369090               3.725971\n",
       "2               -21.742048              16.706428              -6.043173\n",
       "3               -14.564242             -13.555188               5.513244\n",
       "4               -26.802399              14.293568               9.896464\n",
       "..                     ...                    ...                    ...\n",
       "225              21.501598             -45.700191              30.607082\n",
       "226              71.102994              34.307093              17.401370\n",
       "227              -7.638611              -4.160965              12.753148\n",
       "228               3.635346             -50.218244             -49.500180\n",
       "229             -18.308074             -11.314000               9.848857\n",
       "\n",
       "[230 rows x 3 columns]"
      ]
     },
     "execution_count": 47,
     "metadata": {},
     "output_type": "execute_result"
    }
   ],
   "source": [
    "principalDf"
   ]
  },
  {
   "cell_type": "code",
   "execution_count": 48,
   "metadata": {},
   "outputs": [
    {
     "name": "stdout",
     "output_type": "stream",
     "text": [
      "[0.05140332 0.04262496 0.0405663 ]\n"
     ]
    },
    {
     "data": {
      "text/plain": [
       "array([555.82482239, 460.90429444, 438.64390583])"
      ]
     },
     "execution_count": 48,
     "metadata": {},
     "output_type": "execute_result"
    }
   ],
   "source": [
    "# percentage of the explained variance by consecutive components\n",
    "\n",
    "print(pca.explained_variance_ratio_)\n",
    "\n",
    "# actual eigenvalues\n",
    "\n",
    "pca.explained_variance_"
   ]
  },
  {
   "cell_type": "code",
   "execution_count": 49,
   "metadata": {},
   "outputs": [],
   "source": [
    "principalDf_data = principalDf.to_numpy()\n",
    "principalDf_data.shape\n",
    "\n",
    "labels = np.concatenate((np.ones(shape=(115)), np.zeros(shape=(115))), axis = 0)\n",
    "labels = np.reshape(labels, (230,1))\n",
    "\n",
    "final_data = np.concatenate((principalDf_data, labels), axis=1)"
   ]
  },
  {
   "cell_type": "code",
   "execution_count": 50,
   "metadata": {},
   "outputs": [
    {
     "data": {
      "text/plain": [
       "Text(0.5, 0, 'PC 3')"
      ]
     },
     "execution_count": 50,
     "metadata": {},
     "output_type": "execute_result"
    },
    {
     "data": {
      "image/png": "[encoded data removed]",
      "text/plain": [
       "<Figure size 432x288 with 1 Axes>"
      ]
     },
     "metadata": {
      "needs_background": "light"
     },
     "output_type": "display_data"
    }
   ],
   "source": [
    "ax = plt.axes(projection='3d')\n",
    "zdata1 = final_data[:115, 0]\n",
    "xdata1 = final_data[:115, 1]\n",
    "ydata1 = final_data[:115, 2]\n",
    "zdata2 = final_data[115:230, 0]\n",
    "xdata2 = final_data[115:230, 1]\n",
    "ydata2 = final_data[115:230, 2]\n",
    "ax.scatter3D(xdata1, ydata1, zdata1, c=\"r\");\n",
    "ax.scatter3D(xdata2, ydata2, zdata2, c=\"b\");\n",
    "ax.legend(['Push', 'Relax'])\n",
    "ax.set_xlabel('PC 1', fontsize = 10)\n",
    "ax.set_ylabel('PC 2', fontsize = 10)\n",
    "ax.set_zlabel('PC 3', fontsize = 10)"
   ]
  },
  {
   "cell_type": "code",
   "execution_count": 51,
   "metadata": {},
   "outputs": [
    {
     "name": "stdout",
     "output_type": "stream",
     "text": [
      "LDA Classification accuracy: 0.3978260869565217\n"
     ]
    }
   ],
   "source": [
    "# now, we will pass the components through LDA \n",
    "\n",
    "labels = labels.reshape(230,)  \n",
    "input_data = principalDf_data\n",
    "    \n",
    "    \n",
    "# Now, we run the alpha data through LDA\n",
    "\n",
    "from sklearn.pipeline import Pipeline\n",
    "from sklearn.discriminant_analysis import LinearDiscriminantAnalysis\n",
    "from sklearn.model_selection import ShuffleSplit, cross_val_score\n",
    "\n",
    "scores = []\n",
    "all_data = input_data\n",
    "all_data_train = input_data.copy()\n",
    "cv = ShuffleSplit(10, test_size=0.2, random_state=42)\n",
    "cv_split = cv.split(all_data_train)\n",
    "\n",
    "# Assemble a classifier\n",
    "lda = LinearDiscriminantAnalysis()\n",
    "\n",
    "# Use scikit-learn Pipeline with cross_val_score function\n",
    "clf = Pipeline([('LDA', lda)])\n",
    "scores = cross_val_score(clf, all_data_train, labels, cv=cv, n_jobs=1)\n",
    "\n",
    "# Printing the results\n",
    "class_balance = np.mean(labels == labels[0])\n",
    "class_balance = max(class_balance, 1. - class_balance)\n",
    "print(\"LDA Classification accuracy:\", np.mean(scores))\n"
   ]
  },
  {
   "cell_type": "markdown",
   "metadata": {},
   "source": [
    "## PCA and LDA on selected channels of alpha"
   ]
  },
  {
   "cell_type": "code",
   "execution_count": 52,
   "metadata": {},
   "outputs": [],
   "source": [
    "alpha_push_power_cropped = my_code.select_channels((0,1,3,4,5,6,7,11,12,13), alpha_push_power, 115, 769)\n",
    "alpha_relax_power_cropped = my_code.select_channels((0,1,3,4,5,6,7,11,12,13), alpha_relax_power, 115, 769)"
   ]
  },
  {
   "cell_type": "code",
   "execution_count": 53,
   "metadata": {},
   "outputs": [],
   "source": [
    "alpha_push_power_cropped.shape\n",
    "\n",
    "input_data = np.concatenate((alpha_push_power_cropped, alpha_relax_power_cropped), axis = 0)"
   ]
  },
  {
   "cell_type": "code",
   "execution_count": 54,
   "metadata": {},
   "outputs": [],
   "source": [
    "input_data=alpha_push_power.mean(axis=2)\n",
    "    \n",
    "    # flattening the input vectors\n",
    "    \n",
    "input_data = input_data.reshape(230, -1)\n",
    "\n"
   ]
  },
  {
   "cell_type": "code",
   "execution_count": 55,
   "metadata": {},
   "outputs": [],
   "source": [
    "from sklearn.preprocessing import StandardScaler\n",
    "input_data  = StandardScaler().fit_transform(input_data)"
   ]
  },
  {
   "cell_type": "code",
   "execution_count": 56,
   "metadata": {},
   "outputs": [],
   "source": [
    "from sklearn.decomposition import PCA\n",
    "import pandas as pd\n",
    "pca = PCA(n_components=3)\n",
    "principalComponents = pca.fit_transform(input_data)\n",
    "principalDf = pd.DataFrame(data = principalComponents\n",
    "             , columns = ['principal component 1', 'principal component 2', 'principal component 3'])"
   ]
  },
  {
   "cell_type": "code",
   "execution_count": 57,
   "metadata": {},
   "outputs": [
    {
     "data": {
      "text/html": [
       "<div>\n",
       "<style scoped>\n",
       "    .dataframe tbody tr th:only-of-type {\n",
       "        vertical-align: middle;\n",
       "    }\n",
       "\n",
       "    .dataframe tbody tr th {\n",
       "        vertical-align: top;\n",
       "    }\n",
       "\n",
       "    .dataframe thead th {\n",
       "        text-align: right;\n",
       "    }\n",
       "</style>\n",
       "<table border=\"1\" class=\"dataframe\">\n",
       "  <thead>\n",
       "    <tr style=\"text-align: right;\">\n",
       "      <th></th>\n",
       "      <th>principal component 1</th>\n",
       "      <th>principal component 2</th>\n",
       "      <th>principal component 3</th>\n",
       "    </tr>\n",
       "  </thead>\n",
       "  <tbody>\n",
       "    <tr>\n",
       "      <th>0</th>\n",
       "      <td>-26.928956</td>\n",
       "      <td>-4.847669</td>\n",
       "      <td>8.490462</td>\n",
       "    </tr>\n",
       "    <tr>\n",
       "      <th>1</th>\n",
       "      <td>22.876827</td>\n",
       "      <td>-12.663262</td>\n",
       "      <td>-5.089651</td>\n",
       "    </tr>\n",
       "    <tr>\n",
       "      <th>2</th>\n",
       "      <td>-29.277001</td>\n",
       "      <td>-2.871522</td>\n",
       "      <td>1.331635</td>\n",
       "    </tr>\n",
       "    <tr>\n",
       "      <th>3</th>\n",
       "      <td>9.935050</td>\n",
       "      <td>-3.477706</td>\n",
       "      <td>-6.186157</td>\n",
       "    </tr>\n",
       "    <tr>\n",
       "      <th>4</th>\n",
       "      <td>-21.988877</td>\n",
       "      <td>-5.110784</td>\n",
       "      <td>-7.802750</td>\n",
       "    </tr>\n",
       "    <tr>\n",
       "      <th>...</th>\n",
       "      <td>...</td>\n",
       "      <td>...</td>\n",
       "      <td>...</td>\n",
       "    </tr>\n",
       "    <tr>\n",
       "      <th>225</th>\n",
       "      <td>22.212443</td>\n",
       "      <td>-6.112114</td>\n",
       "      <td>12.324875</td>\n",
       "    </tr>\n",
       "    <tr>\n",
       "      <th>226</th>\n",
       "      <td>-17.804307</td>\n",
       "      <td>-17.976021</td>\n",
       "      <td>-2.974219</td>\n",
       "    </tr>\n",
       "    <tr>\n",
       "      <th>227</th>\n",
       "      <td>42.182684</td>\n",
       "      <td>-47.542688</td>\n",
       "      <td>-8.753219</td>\n",
       "    </tr>\n",
       "    <tr>\n",
       "      <th>228</th>\n",
       "      <td>-26.117264</td>\n",
       "      <td>-7.604138</td>\n",
       "      <td>0.693963</td>\n",
       "    </tr>\n",
       "    <tr>\n",
       "      <th>229</th>\n",
       "      <td>13.126515</td>\n",
       "      <td>-14.421395</td>\n",
       "      <td>6.564912</td>\n",
       "    </tr>\n",
       "  </tbody>\n",
       "</table>\n",
       "<p>230 rows × 3 columns</p>\n",
       "</div>"
      ],
      "text/plain": [
       "     principal component 1  principal component 2  principal component 3\n",
       "0               -26.928956              -4.847669               8.490462\n",
       "1                22.876827             -12.663262              -5.089651\n",
       "2               -29.277001              -2.871522               1.331635\n",
       "3                 9.935050              -3.477706              -6.186157\n",
       "4               -21.988877              -5.110784              -7.802750\n",
       "..                     ...                    ...                    ...\n",
       "225              22.212443              -6.112114              12.324875\n",
       "226             -17.804307             -17.976021              -2.974219\n",
       "227              42.182684             -47.542688              -8.753219\n",
       "228             -26.117264              -7.604138               0.693963\n",
       "229              13.126515             -14.421395               6.564912\n",
       "\n",
       "[230 rows x 3 columns]"
      ]
     },
     "execution_count": 57,
     "metadata": {},
     "output_type": "execute_result"
    }
   ],
   "source": [
    "principalDf"
   ]
  },
  {
   "cell_type": "code",
   "execution_count": 58,
   "metadata": {},
   "outputs": [
    {
     "name": "stdout",
     "output_type": "stream",
     "text": [
      "[0.11767245 0.03625289 0.03178074]\n"
     ]
    },
    {
     "data": {
      "text/plain": [
       "array([636.19688167, 196.0014945 , 171.82279269])"
      ]
     },
     "execution_count": 58,
     "metadata": {},
     "output_type": "execute_result"
    }
   ],
   "source": [
    "# percentage of the explained variance by consecutive components\n",
    "\n",
    "print(pca.explained_variance_ratio_)\n",
    "\n",
    "# actual eigenvalues\n",
    "\n",
    "pca.explained_variance_"
   ]
  },
  {
   "cell_type": "code",
   "execution_count": 59,
   "metadata": {},
   "outputs": [
    {
     "data": {
      "text/plain": [
       "(230, 3)"
      ]
     },
     "execution_count": 59,
     "metadata": {},
     "output_type": "execute_result"
    }
   ],
   "source": [
    "principalDf_data = principalDf.to_numpy()\n",
    "principalDf_data.shape"
   ]
  },
  {
   "cell_type": "code",
   "execution_count": 60,
   "metadata": {},
   "outputs": [],
   "source": [
    "labels = np.concatenate((np.ones(shape=(115)), np.zeros(shape=(115))), axis = 0)\n",
    "labels = np.reshape(labels, (230,1))"
   ]
  },
  {
   "cell_type": "code",
   "execution_count": 61,
   "metadata": {},
   "outputs": [],
   "source": [
    "final_data = np.concatenate((principalDf_data, labels), axis=1)"
   ]
  },
  {
   "cell_type": "code",
   "execution_count": 62,
   "metadata": {},
   "outputs": [
    {
     "data": {
      "text/plain": [
       "Text(0.5, 0, 'PC 3')"
      ]
     },
     "execution_count": 62,
     "metadata": {},
     "output_type": "execute_result"
    },
    {
     "data": {
      "image/png": "[encoded data removed]",
      "text/plain": [
       "<Figure size 432x288 with 1 Axes>"
      ]
     },
     "metadata": {
      "needs_background": "light"
     },
     "output_type": "display_data"
    }
   ],
   "source": [
    "ax = plt.axes(projection='3d')\n",
    "zdata1 = final_data[:115, 0]\n",
    "xdata1 = final_data[:115, 1]\n",
    "ydata1 = final_data[:115, 2]\n",
    "zdata2 = final_data[115:230, 0]\n",
    "xdata2 = final_data[115:230, 1]\n",
    "ydata2 = final_data[115:230, 2]\n",
    "ax.scatter3D(xdata1, ydata1, zdata1, c=\"r\");\n",
    "ax.scatter3D(xdata2, ydata2, zdata2, c=\"b\");\n",
    "ax.legend(['Push', 'Relax'])\n",
    "ax.set_xlabel('PC 1', fontsize = 10)\n",
    "ax.set_ylabel('PC 2', fontsize = 10)\n",
    "ax.set_zlabel('PC 3', fontsize = 10)"
   ]
  },
  {
   "cell_type": "code",
   "execution_count": 63,
   "metadata": {},
   "outputs": [
    {
     "data": {
      "text/plain": [
       "(230, 5383)"
      ]
     },
     "execution_count": 63,
     "metadata": {},
     "output_type": "execute_result"
    }
   ],
   "source": [
    "input_data.shape"
   ]
  },
  {
   "cell_type": "code",
   "execution_count": 64,
   "metadata": {},
   "outputs": [
    {
     "name": "stdout",
     "output_type": "stream",
     "text": [
      "LDA Classification accuracy: 0.5782608695652174\n"
     ]
    }
   ],
   "source": [
    "# Now, we run the alpha data through LDA\n",
    "\n",
    "from sklearn.pipeline import Pipeline\n",
    "from sklearn.discriminant_analysis import LinearDiscriminantAnalysis\n",
    "from sklearn.model_selection import ShuffleSplit, cross_val_score\n",
    "\n",
    "labels = labels.reshape(230,) \n",
    "scores = []\n",
    "all_data = input_data\n",
    "all_data_train = input_data.copy()\n",
    "cv = ShuffleSplit(10, test_size=0.2, random_state=42)\n",
    "cv_split = cv.split(all_data_train)\n",
    "\n",
    "# Assemble a classifier\n",
    "lda = LinearDiscriminantAnalysis()\n",
    "\n",
    "# Use scikit-learn Pipeline with cross_val_score function\n",
    "clf = Pipeline([('LDA', lda)])\n",
    "scores = cross_val_score(clf, all_data_train, labels, cv=cv, n_jobs=1)\n",
    "\n",
    "# Printing the results\n",
    "class_balance = np.mean(labels == labels[0])\n",
    "class_balance = max(class_balance, 1. - class_balance)\n",
    "print(\"LDA Classification accuracy:\", np.mean(scores))\n"
   ]
  }
 ],
 "metadata": {
  "kernelspec": {
   "display_name": "Python 3",
   "language": "python",
   "name": "python3"
  },
  "language_info": {
   "codemirror_mode": {
    "name": "ipython",
    "version": 3
   },
   "file_extension": ".py",
   "mimetype": "text/x-python",
   "name": "python",
   "nbconvert_exporter": "python",
   "pygments_lexer": "ipython3",
   "version": "3.8.5"
  }
 },
 "nbformat": 4,
 "nbformat_minor": 4
}
