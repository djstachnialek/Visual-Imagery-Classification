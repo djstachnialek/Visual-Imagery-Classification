{
 "cells": [
  {
   "cell_type": "markdown",
   "metadata": {},
   "source": [
    "# Necessary imports and data loading"
   ]
  },
  {
   "cell_type": "code",
   "execution_count": 1,
   "metadata": {},
   "outputs": [],
   "source": [
    "# necessary imports\n",
    "\n",
    "import my_code\n",
    "import os\n",
    "import numpy as np\n",
    "import matplotlib.pyplot as plt\n",
    "import mne\n",
    "from mne.io import read_raw_edf\n",
    "from mne.preprocessing import ICA"
   ]
  },
  {
   "cell_type": "code",
   "execution_count": 2,
   "metadata": {},
   "outputs": [
    {
     "name": "stdout",
     "output_type": "stream",
     "text": [
      "Extracting EDF parameters from C:\\Users\\domin\\Desktop\\Thesis drafting\\Giuseppe01_01.02.21_08.43.22.edf...\n",
      "EDF file detected\n",
      "Setting channel info structure...\n",
      "Creating raw.info structure...\n",
      "Reading 0 ... 45055  =      0.000 ...   175.996 secs...\n",
      "Extracting EDF parameters from C:\\Users\\domin\\Desktop\\Thesis drafting\\Giuseppe02_02.02.21_08.30.42.edf...\n",
      "EDF file detected\n",
      "Setting channel info structure...\n",
      "Creating raw.info structure...\n",
      "Reading 0 ... 45823  =      0.000 ...   178.996 secs...\n",
      "Extracting EDF parameters from C:\\Users\\domin\\Desktop\\Thesis drafting\\Giuseppe03_03.02.21_08.33.04.edf...\n",
      "EDF file detected\n",
      "Setting channel info structure...\n",
      "Creating raw.info structure...\n",
      "Reading 0 ... 45311  =      0.000 ...   176.996 secs...\n",
      "Extracting EDF parameters from C:\\Users\\domin\\Desktop\\Thesis drafting\\Giuseppe04_03.02.21_08.43.13.edf...\n",
      "EDF file detected\n",
      "Setting channel info structure...\n",
      "Creating raw.info structure...\n",
      "Reading 0 ... 47103  =      0.000 ...   183.996 secs...\n",
      "Extracting EDF parameters from C:\\Users\\domin\\Desktop\\Thesis drafting\\Giuseppe05_04.02.21_08.33.05.edf...\n",
      "EDF file detected\n",
      "Setting channel info structure...\n",
      "Creating raw.info structure...\n",
      "Reading 0 ... 44543  =      0.000 ...   173.996 secs...\n",
      "Extracting EDF parameters from C:\\Users\\domin\\Desktop\\Thesis drafting\\Giuseppe06_04.02.21_08.45.14.edf...\n",
      "EDF file detected\n",
      "Setting channel info structure...\n",
      "Creating raw.info structure...\n",
      "Reading 0 ... 45055  =      0.000 ...   175.996 secs...\n",
      "Extracting EDF parameters from C:\\Users\\domin\\Desktop\\Thesis drafting\\Giuseppe07_08.02.21_08.39.35.edf...\n",
      "EDF file detected\n",
      "Setting channel info structure...\n",
      "Creating raw.info structure...\n",
      "Reading 0 ... 45567  =      0.000 ...   177.996 secs...\n",
      "Extracting EDF parameters from C:\\Users\\domin\\Desktop\\Thesis drafting\\Giuseppe08_08.02.21_08.51.46.edf...\n",
      "EDF file detected\n",
      "Setting channel info structure...\n",
      "Creating raw.info structure...\n",
      "Reading 0 ... 45311  =      0.000 ...   176.996 secs...\n",
      "Extracting EDF parameters from C:\\Users\\domin\\Desktop\\Thesis drafting\\Giuseppe09_09.02.21_08.31.15.edf...\n",
      "EDF file detected\n",
      "Setting channel info structure...\n",
      "Creating raw.info structure...\n",
      "Reading 0 ... 46591  =      0.000 ...   181.996 secs...\n",
      "Extracting EDF parameters from C:\\Users\\domin\\Desktop\\Thesis drafting\\Giuseppe10_09.02.21_08.42.21.edf...\n",
      "EDF file detected\n",
      "Setting channel info structure...\n",
      "Creating raw.info structure...\n",
      "Reading 0 ... 46335  =      0.000 ...   180.996 secs...\n",
      "Extracting EDF parameters from C:\\Users\\domin\\Desktop\\Thesis drafting\\Giuseppe11_10.02.21_08.30.59.edf...\n",
      "EDF file detected\n",
      "Setting channel info structure...\n",
      "Creating raw.info structure...\n",
      "Reading 0 ... 44799  =      0.000 ...   174.996 secs...\n",
      "Extracting EDF parameters from C:\\Users\\domin\\Desktop\\Thesis drafting\\Giuseppe12_10.02.21_08.38.55.edf...\n",
      "EDF file detected\n",
      "Setting channel info structure...\n",
      "Creating raw.info structure...\n",
      "Reading 0 ... 44799  =      0.000 ...   174.996 secs...\n",
      "Extracting EDF parameters from C:\\Users\\domin\\Desktop\\Thesis drafting\\Giuseppe13_11.02.21_08.28.07.edf...\n",
      "EDF file detected\n",
      "Setting channel info structure...\n",
      "Creating raw.info structure...\n",
      "Reading 0 ... 44799  =      0.000 ...   174.996 secs...\n",
      "Extracting EDF parameters from C:\\Users\\domin\\Desktop\\Thesis drafting\\Giuseppe14_11.02.21_08.36.41.edf...\n",
      "EDF file detected\n",
      "Setting channel info structure...\n",
      "Creating raw.info structure...\n",
      "Reading 0 ... 45567  =      0.000 ...   177.996 secs...\n",
      "Extracting EDF parameters from C:\\Users\\domin\\Desktop\\Thesis drafting\\Giuseppe15_11.02.21_08.46.24.edf...\n",
      "EDF file detected\n",
      "Setting channel info structure...\n",
      "Creating raw.info structure...\n",
      "Reading 0 ... 44799  =      0.000 ...   174.996 secs...\n",
      "Extracting EDF parameters from C:\\Users\\domin\\Desktop\\Thesis drafting\\Giuseppe16_12.02.21_08.35.57.edf...\n",
      "EDF file detected\n",
      "Setting channel info structure...\n",
      "Creating raw.info structure...\n",
      "Reading 0 ... 44799  =      0.000 ...   174.996 secs...\n",
      "Extracting EDF parameters from C:\\Users\\domin\\Desktop\\Thesis drafting\\Giuseppe17_12.02.21_08.44.40.edf...\n",
      "EDF file detected\n",
      "Setting channel info structure...\n",
      "Creating raw.info structure...\n",
      "Reading 0 ... 44799  =      0.000 ...   174.996 secs...\n",
      "Extracting EDF parameters from C:\\Users\\domin\\Desktop\\Thesis drafting\\Giuseppe18_16.02.21_08.17.11.edf...\n",
      "EDF file detected\n",
      "Setting channel info structure...\n",
      "Creating raw.info structure...\n",
      "Reading 0 ... 46079  =      0.000 ...   179.996 secs...\n",
      "Extracting EDF parameters from C:\\Users\\domin\\Desktop\\Thesis drafting\\Giuseppe19_16.02.21_08.24.47.edf...\n",
      "EDF file detected\n",
      "Setting channel info structure...\n",
      "Creating raw.info structure...\n",
      "Reading 0 ... 44543  =      0.000 ...   173.996 secs...\n",
      "Extracting EDF parameters from C:\\Users\\domin\\Desktop\\Thesis drafting\\Giuseppe20_16.02.21_08.35.10.edf...\n",
      "EDF file detected\n",
      "Setting channel info structure...\n",
      "Creating raw.info structure...\n",
      "Reading 0 ... 44799  =      0.000 ...   174.996 secs...\n",
      "Extracting EDF parameters from C:\\Users\\domin\\Desktop\\Thesis drafting\\Giuseppe21_16.02.21_08.44.29.edf...\n",
      "EDF file detected\n",
      "Setting channel info structure...\n",
      "Creating raw.info structure...\n",
      "Reading 0 ... 45055  =      0.000 ...   175.996 secs...\n",
      "Extracting EDF parameters from C:\\Users\\domin\\Desktop\\Thesis drafting\\Giuseppe22_17.02.21_08.31.24.edf...\n",
      "EDF file detected\n",
      "Setting channel info structure...\n",
      "Creating raw.info structure...\n",
      "Reading 0 ... 44799  =      0.000 ...   174.996 secs...\n",
      "Extracting EDF parameters from C:\\Users\\domin\\Desktop\\Thesis drafting\\Giuseppe23_17.02.21_08.39.05.edf...\n",
      "EDF file detected\n",
      "Setting channel info structure...\n",
      "Creating raw.info structure...\n",
      "Reading 0 ... 44799  =      0.000 ...   174.996 secs...\n",
      "Extracting EDF parameters from C:\\Users\\domin\\Desktop\\Thesis drafting\\Giuseppe24_17.02.21_08.50.33.edf...\n",
      "EDF file detected\n",
      "Setting channel info structure...\n",
      "Creating raw.info structure...\n",
      "Reading 0 ... 44799  =      0.000 ...   174.996 secs...\n",
      "Extracting EDF parameters from C:\\Users\\domin\\Desktop\\Thesis drafting\\Giuseppe25_18.02.21_08.35.56.edf...\n",
      "EDF file detected\n",
      "Setting channel info structure...\n",
      "Creating raw.info structure...\n",
      "Reading 0 ... 44543  =      0.000 ...   173.996 secs...\n",
      "Extracting EDF parameters from C:\\Users\\domin\\Desktop\\Thesis drafting\\Giuseppe26_18.02.21_08.43.36.edf...\n",
      "EDF file detected\n",
      "Setting channel info structure...\n",
      "Creating raw.info structure...\n",
      "Reading 0 ... 44799  =      0.000 ...   174.996 secs...\n",
      "Extracting EDF parameters from C:\\Users\\domin\\Desktop\\Thesis drafting\\Giuseppe27_18.02.21_08.54.59.edf...\n",
      "EDF file detected\n",
      "Setting channel info structure...\n",
      "Creating raw.info structure...\n",
      "Reading 0 ... 44287  =      0.000 ...   172.996 secs...\n",
      "Extracting EDF parameters from C:\\Users\\domin\\Desktop\\Thesis drafting\\Giuseppe28_19.02.21_08.31.37.edf...\n",
      "EDF file detected\n",
      "Setting channel info structure...\n",
      "Creating raw.info structure...\n",
      "Reading 0 ... 44287  =      0.000 ...   172.996 secs...\n",
      "Extracting EDF parameters from C:\\Users\\domin\\Desktop\\Thesis drafting\\Giuseppe29_19.02.21_08.40.08.edf...\n",
      "EDF file detected\n",
      "Setting channel info structure...\n",
      "Creating raw.info structure...\n",
      "Reading 0 ... 44543  =      0.000 ...   173.996 secs...\n",
      "Extracting EDF parameters from C:\\Users\\domin\\Desktop\\Thesis drafting\\Giuseppe30_19.02.21_08.49.01.edf...\n",
      "EDF file detected\n",
      "Setting channel info structure...\n",
      "Creating raw.info structure...\n",
      "Reading 0 ... 44799  =      0.000 ...   174.996 secs...\n"
     ]
    }
   ],
   "source": [
    "# loading the raw data (30 files in a list) \n",
    "\n",
    "path = os.getcwd()\n",
    "raw_datasets = my_code.load_all_datasets(path = path)"
   ]
  },
  {
   "cell_type": "markdown",
   "metadata": {},
   "source": [
    "# Pre-processing"
   ]
  },
  {
   "cell_type": "code",
   "execution_count": 3,
   "metadata": {},
   "outputs": [
    {
     "name": "stdout",
     "output_type": "stream",
     "text": [
      "EEG channel type selected for re-referencing\n",
      "Applying a custom EEG reference.\n",
      "Filtering raw data in 1 contiguous segment\n",
      "Setting up high-pass filter at 0.16 Hz\n",
      "\n",
      "FIR filter parameters\n",
      "---------------------\n",
      "Designing a one-pass, zero-phase, non-causal highpass filter:\n",
      "- Windowed time-domain design (firwin) method\n",
      "- Hamming window with 0.0194 passband ripple and 53 dB stopband attenuation\n",
      "- Lower passband edge: 0.16\n",
      "- Lower transition bandwidth: 0.16 Hz (-6 dB cutoff frequency: 0.08 Hz)\n",
      "- Filter length: 5281 samples (20.629 sec)\n",
      "\n",
      "Used Annotations descriptions: ['Push', 'Relax']\n",
      "EEG channel type selected for re-referencing\n",
      "Applying a custom EEG reference.\n",
      "Filtering raw data in 1 contiguous segment\n",
      "Setting up high-pass filter at 0.16 Hz\n",
      "\n",
      "FIR filter parameters\n",
      "---------------------\n",
      "Designing a one-pass, zero-phase, non-causal highpass filter:\n",
      "- Windowed time-domain design (firwin) method\n",
      "- Hamming window with 0.0194 passband ripple and 53 dB stopband attenuation\n",
      "- Lower passband edge: 0.16\n",
      "- Lower transition bandwidth: 0.16 Hz (-6 dB cutoff frequency: 0.08 Hz)\n",
      "- Filter length: 5281 samples (20.629 sec)\n",
      "\n",
      "Used Annotations descriptions: ['Push', 'Relax']\n",
      "EEG channel type selected for re-referencing\n",
      "Applying a custom EEG reference.\n",
      "Filtering raw data in 1 contiguous segment\n",
      "Setting up high-pass filter at 0.16 Hz\n",
      "\n",
      "FIR filter parameters\n",
      "---------------------\n",
      "Designing a one-pass, zero-phase, non-causal highpass filter:\n",
      "- Windowed time-domain design (firwin) method\n",
      "- Hamming window with 0.0194 passband ripple and 53 dB stopband attenuation\n",
      "- Lower passband edge: 0.16\n",
      "- Lower transition bandwidth: 0.16 Hz (-6 dB cutoff frequency: 0.08 Hz)\n",
      "- Filter length: 5281 samples (20.629 sec)\n",
      "\n",
      "Used Annotations descriptions: ['Push', 'Relax']\n",
      "EEG channel type selected for re-referencing\n",
      "Applying a custom EEG reference.\n",
      "Filtering raw data in 1 contiguous segment\n",
      "Setting up high-pass filter at 0.16 Hz\n",
      "\n",
      "FIR filter parameters\n",
      "---------------------\n",
      "Designing a one-pass, zero-phase, non-causal highpass filter:\n",
      "- Windowed time-domain design (firwin) method\n",
      "- Hamming window with 0.0194 passband ripple and 53 dB stopband attenuation\n",
      "- Lower passband edge: 0.16\n",
      "- Lower transition bandwidth: 0.16 Hz (-6 dB cutoff frequency: 0.08 Hz)\n",
      "- Filter length: 5281 samples (20.629 sec)\n",
      "\n",
      "Used Annotations descriptions: ['Push', 'Relax']\n",
      "EEG channel type selected for re-referencing\n",
      "Applying a custom EEG reference.\n",
      "Filtering raw data in 1 contiguous segment\n",
      "Setting up high-pass filter at 0.16 Hz\n",
      "\n",
      "FIR filter parameters\n",
      "---------------------\n",
      "Designing a one-pass, zero-phase, non-causal highpass filter:\n",
      "- Windowed time-domain design (firwin) method\n",
      "- Hamming window with 0.0194 passband ripple and 53 dB stopband attenuation\n",
      "- Lower passband edge: 0.16\n",
      "- Lower transition bandwidth: 0.16 Hz (-6 dB cutoff frequency: 0.08 Hz)\n",
      "- Filter length: 5281 samples (20.629 sec)\n",
      "\n",
      "Used Annotations descriptions: ['Push', 'Relax']\n",
      "EEG channel type selected for re-referencing\n",
      "Applying a custom EEG reference.\n",
      "Filtering raw data in 1 contiguous segment\n",
      "Setting up high-pass filter at 0.16 Hz\n",
      "\n",
      "FIR filter parameters\n",
      "---------------------\n",
      "Designing a one-pass, zero-phase, non-causal highpass filter:\n",
      "- Windowed time-domain design (firwin) method\n",
      "- Hamming window with 0.0194 passband ripple and 53 dB stopband attenuation\n",
      "- Lower passband edge: 0.16\n",
      "- Lower transition bandwidth: 0.16 Hz (-6 dB cutoff frequency: 0.08 Hz)\n",
      "- Filter length: 5281 samples (20.629 sec)\n",
      "\n",
      "Used Annotations descriptions: ['Push', 'Relax']\n",
      "EEG channel type selected for re-referencing\n",
      "Applying a custom EEG reference.\n",
      "Filtering raw data in 1 contiguous segment\n",
      "Setting up high-pass filter at 0.16 Hz\n",
      "\n",
      "FIR filter parameters\n",
      "---------------------\n",
      "Designing a one-pass, zero-phase, non-causal highpass filter:\n",
      "- Windowed time-domain design (firwin) method\n",
      "- Hamming window with 0.0194 passband ripple and 53 dB stopband attenuation\n",
      "- Lower passband edge: 0.16\n",
      "- Lower transition bandwidth: 0.16 Hz (-6 dB cutoff frequency: 0.08 Hz)\n",
      "- Filter length: 5281 samples (20.629 sec)\n",
      "\n",
      "Used Annotations descriptions: ['Push', 'Relax']\n",
      "EEG channel type selected for re-referencing\n",
      "Applying a custom EEG reference.\n",
      "Filtering raw data in 1 contiguous segment\n",
      "Setting up high-pass filter at 0.16 Hz\n",
      "\n",
      "FIR filter parameters\n",
      "---------------------\n",
      "Designing a one-pass, zero-phase, non-causal highpass filter:\n",
      "- Windowed time-domain design (firwin) method\n",
      "- Hamming window with 0.0194 passband ripple and 53 dB stopband attenuation\n",
      "- Lower passband edge: 0.16\n",
      "- Lower transition bandwidth: 0.16 Hz (-6 dB cutoff frequency: 0.08 Hz)\n",
      "- Filter length: 5281 samples (20.629 sec)\n",
      "\n",
      "Used Annotations descriptions: ['Push', 'Relax']\n",
      "EEG channel type selected for re-referencing\n",
      "Applying a custom EEG reference.\n",
      "Filtering raw data in 1 contiguous segment\n",
      "Setting up high-pass filter at 0.16 Hz\n",
      "\n",
      "FIR filter parameters\n",
      "---------------------\n",
      "Designing a one-pass, zero-phase, non-causal highpass filter:\n",
      "- Windowed time-domain design (firwin) method\n",
      "- Hamming window with 0.0194 passband ripple and 53 dB stopband attenuation\n",
      "- Lower passband edge: 0.16\n",
      "- Lower transition bandwidth: 0.16 Hz (-6 dB cutoff frequency: 0.08 Hz)\n",
      "- Filter length: 5281 samples (20.629 sec)\n",
      "\n",
      "Used Annotations descriptions: ['Push', 'Relax']\n",
      "EEG channel type selected for re-referencing\n",
      "Applying a custom EEG reference.\n",
      "Filtering raw data in 1 contiguous segment\n",
      "Setting up high-pass filter at 0.16 Hz\n",
      "\n",
      "FIR filter parameters\n",
      "---------------------\n",
      "Designing a one-pass, zero-phase, non-causal highpass filter:\n",
      "- Windowed time-domain design (firwin) method\n",
      "- Hamming window with 0.0194 passband ripple and 53 dB stopband attenuation\n",
      "- Lower passband edge: 0.16\n",
      "- Lower transition bandwidth: 0.16 Hz (-6 dB cutoff frequency: 0.08 Hz)\n",
      "- Filter length: 5281 samples (20.629 sec)\n",
      "\n",
      "Used Annotations descriptions: ['Push', 'Relax']\n",
      "EEG channel type selected for re-referencing\n",
      "Applying a custom EEG reference.\n",
      "Filtering raw data in 1 contiguous segment\n",
      "Setting up high-pass filter at 0.16 Hz\n",
      "\n",
      "FIR filter parameters\n",
      "---------------------\n",
      "Designing a one-pass, zero-phase, non-causal highpass filter:\n",
      "- Windowed time-domain design (firwin) method\n",
      "- Hamming window with 0.0194 passband ripple and 53 dB stopband attenuation\n",
      "- Lower passband edge: 0.16\n",
      "- Lower transition bandwidth: 0.16 Hz (-6 dB cutoff frequency: 0.08 Hz)\n",
      "- Filter length: 5281 samples (20.629 sec)\n",
      "\n",
      "Used Annotations descriptions: ['Push', 'Relax']\n",
      "EEG channel type selected for re-referencing\n",
      "Applying a custom EEG reference.\n",
      "Filtering raw data in 1 contiguous segment\n",
      "Setting up high-pass filter at 0.16 Hz\n",
      "\n",
      "FIR filter parameters\n",
      "---------------------\n",
      "Designing a one-pass, zero-phase, non-causal highpass filter:\n",
      "- Windowed time-domain design (firwin) method\n",
      "- Hamming window with 0.0194 passband ripple and 53 dB stopband attenuation\n",
      "- Lower passband edge: 0.16\n",
      "- Lower transition bandwidth: 0.16 Hz (-6 dB cutoff frequency: 0.08 Hz)\n",
      "- Filter length: 5281 samples (20.629 sec)\n",
      "\n",
      "Used Annotations descriptions: ['Push', 'Relax']\n",
      "EEG channel type selected for re-referencing\n",
      "Applying a custom EEG reference.\n",
      "Filtering raw data in 1 contiguous segment\n",
      "Setting up high-pass filter at 0.16 Hz\n",
      "\n",
      "FIR filter parameters\n",
      "---------------------\n",
      "Designing a one-pass, zero-phase, non-causal highpass filter:\n",
      "- Windowed time-domain design (firwin) method\n",
      "- Hamming window with 0.0194 passband ripple and 53 dB stopband attenuation\n",
      "- Lower passband edge: 0.16\n",
      "- Lower transition bandwidth: 0.16 Hz (-6 dB cutoff frequency: 0.08 Hz)\n",
      "- Filter length: 5281 samples (20.629 sec)\n",
      "\n",
      "Used Annotations descriptions: ['Push', 'Relax']\n",
      "EEG channel type selected for re-referencing\n",
      "Applying a custom EEG reference.\n",
      "Filtering raw data in 1 contiguous segment\n",
      "Setting up high-pass filter at 0.16 Hz\n",
      "\n",
      "FIR filter parameters\n",
      "---------------------\n",
      "Designing a one-pass, zero-phase, non-causal highpass filter:\n",
      "- Windowed time-domain design (firwin) method\n",
      "- Hamming window with 0.0194 passband ripple and 53 dB stopband attenuation\n",
      "- Lower passband edge: 0.16\n",
      "- Lower transition bandwidth: 0.16 Hz (-6 dB cutoff frequency: 0.08 Hz)\n",
      "- Filter length: 5281 samples (20.629 sec)\n",
      "\n",
      "Used Annotations descriptions: ['Push', 'Relax']\n",
      "EEG channel type selected for re-referencing\n"
     ]
    },
    {
     "name": "stdout",
     "output_type": "stream",
     "text": [
      "Applying a custom EEG reference.\n",
      "Filtering raw data in 1 contiguous segment\n",
      "Setting up high-pass filter at 0.16 Hz\n",
      "\n",
      "FIR filter parameters\n",
      "---------------------\n",
      "Designing a one-pass, zero-phase, non-causal highpass filter:\n",
      "- Windowed time-domain design (firwin) method\n",
      "- Hamming window with 0.0194 passband ripple and 53 dB stopband attenuation\n",
      "- Lower passband edge: 0.16\n",
      "- Lower transition bandwidth: 0.16 Hz (-6 dB cutoff frequency: 0.08 Hz)\n",
      "- Filter length: 5281 samples (20.629 sec)\n",
      "\n",
      "Used Annotations descriptions: ['Push', 'Relax']\n",
      "EEG channel type selected for re-referencing\n",
      "Applying a custom EEG reference.\n",
      "Filtering raw data in 1 contiguous segment\n",
      "Setting up high-pass filter at 0.16 Hz\n",
      "\n",
      "FIR filter parameters\n",
      "---------------------\n",
      "Designing a one-pass, zero-phase, non-causal highpass filter:\n",
      "- Windowed time-domain design (firwin) method\n",
      "- Hamming window with 0.0194 passband ripple and 53 dB stopband attenuation\n",
      "- Lower passband edge: 0.16\n",
      "- Lower transition bandwidth: 0.16 Hz (-6 dB cutoff frequency: 0.08 Hz)\n",
      "- Filter length: 5281 samples (20.629 sec)\n",
      "\n",
      "Used Annotations descriptions: ['Push', 'Relax']\n",
      "EEG channel type selected for re-referencing\n",
      "Applying a custom EEG reference.\n",
      "Filtering raw data in 1 contiguous segment\n",
      "Setting up high-pass filter at 0.16 Hz\n",
      "\n",
      "FIR filter parameters\n",
      "---------------------\n",
      "Designing a one-pass, zero-phase, non-causal highpass filter:\n",
      "- Windowed time-domain design (firwin) method\n",
      "- Hamming window with 0.0194 passband ripple and 53 dB stopband attenuation\n",
      "- Lower passband edge: 0.16\n",
      "- Lower transition bandwidth: 0.16 Hz (-6 dB cutoff frequency: 0.08 Hz)\n",
      "- Filter length: 5281 samples (20.629 sec)\n",
      "\n",
      "Used Annotations descriptions: ['Push', 'Relax']\n",
      "EEG channel type selected for re-referencing\n",
      "Applying a custom EEG reference.\n",
      "Filtering raw data in 1 contiguous segment\n",
      "Setting up high-pass filter at 0.16 Hz\n",
      "\n",
      "FIR filter parameters\n",
      "---------------------\n",
      "Designing a one-pass, zero-phase, non-causal highpass filter:\n",
      "- Windowed time-domain design (firwin) method\n",
      "- Hamming window with 0.0194 passband ripple and 53 dB stopband attenuation\n",
      "- Lower passband edge: 0.16\n",
      "- Lower transition bandwidth: 0.16 Hz (-6 dB cutoff frequency: 0.08 Hz)\n",
      "- Filter length: 5281 samples (20.629 sec)\n",
      "\n",
      "Used Annotations descriptions: ['Push', 'Relax']\n",
      "EEG channel type selected for re-referencing\n",
      "Applying a custom EEG reference.\n",
      "Filtering raw data in 1 contiguous segment\n",
      "Setting up high-pass filter at 0.16 Hz\n",
      "\n",
      "FIR filter parameters\n",
      "---------------------\n",
      "Designing a one-pass, zero-phase, non-causal highpass filter:\n",
      "- Windowed time-domain design (firwin) method\n",
      "- Hamming window with 0.0194 passband ripple and 53 dB stopband attenuation\n",
      "- Lower passband edge: 0.16\n",
      "- Lower transition bandwidth: 0.16 Hz (-6 dB cutoff frequency: 0.08 Hz)\n",
      "- Filter length: 5281 samples (20.629 sec)\n",
      "\n",
      "Used Annotations descriptions: ['Push', 'Relax']\n",
      "EEG channel type selected for re-referencing\n",
      "Applying a custom EEG reference.\n",
      "Filtering raw data in 1 contiguous segment\n",
      "Setting up high-pass filter at 0.16 Hz\n",
      "\n",
      "FIR filter parameters\n",
      "---------------------\n",
      "Designing a one-pass, zero-phase, non-causal highpass filter:\n",
      "- Windowed time-domain design (firwin) method\n",
      "- Hamming window with 0.0194 passband ripple and 53 dB stopband attenuation\n",
      "- Lower passband edge: 0.16\n",
      "- Lower transition bandwidth: 0.16 Hz (-6 dB cutoff frequency: 0.08 Hz)\n",
      "- Filter length: 5281 samples (20.629 sec)\n",
      "\n",
      "Used Annotations descriptions: ['Push', 'Relax']\n",
      "EEG channel type selected for re-referencing\n",
      "Applying a custom EEG reference.\n",
      "Filtering raw data in 1 contiguous segment\n",
      "Setting up high-pass filter at 0.16 Hz\n",
      "\n",
      "FIR filter parameters\n",
      "---------------------\n",
      "Designing a one-pass, zero-phase, non-causal highpass filter:\n",
      "- Windowed time-domain design (firwin) method\n",
      "- Hamming window with 0.0194 passband ripple and 53 dB stopband attenuation\n",
      "- Lower passband edge: 0.16\n",
      "- Lower transition bandwidth: 0.16 Hz (-6 dB cutoff frequency: 0.08 Hz)\n",
      "- Filter length: 5281 samples (20.629 sec)\n",
      "\n",
      "Used Annotations descriptions: ['Push', 'Relax']\n",
      "EEG channel type selected for re-referencing\n",
      "Applying a custom EEG reference.\n",
      "Filtering raw data in 1 contiguous segment\n",
      "Setting up high-pass filter at 0.16 Hz\n",
      "\n",
      "FIR filter parameters\n",
      "---------------------\n",
      "Designing a one-pass, zero-phase, non-causal highpass filter:\n",
      "- Windowed time-domain design (firwin) method\n",
      "- Hamming window with 0.0194 passband ripple and 53 dB stopband attenuation\n",
      "- Lower passband edge: 0.16\n",
      "- Lower transition bandwidth: 0.16 Hz (-6 dB cutoff frequency: 0.08 Hz)\n",
      "- Filter length: 5281 samples (20.629 sec)\n",
      "\n",
      "Used Annotations descriptions: ['Push', 'Relax']\n",
      "EEG channel type selected for re-referencing\n",
      "Applying a custom EEG reference.\n",
      "Filtering raw data in 1 contiguous segment\n",
      "Setting up high-pass filter at 0.16 Hz\n",
      "\n",
      "FIR filter parameters\n",
      "---------------------\n",
      "Designing a one-pass, zero-phase, non-causal highpass filter:\n",
      "- Windowed time-domain design (firwin) method\n",
      "- Hamming window with 0.0194 passband ripple and 53 dB stopband attenuation\n",
      "- Lower passband edge: 0.16\n",
      "- Lower transition bandwidth: 0.16 Hz (-6 dB cutoff frequency: 0.08 Hz)\n",
      "- Filter length: 5281 samples (20.629 sec)\n",
      "\n",
      "Used Annotations descriptions: ['Push', 'Relax']\n",
      "EEG channel type selected for re-referencing\n",
      "Applying a custom EEG reference.\n",
      "Filtering raw data in 1 contiguous segment\n",
      "Setting up high-pass filter at 0.16 Hz\n",
      "\n",
      "FIR filter parameters\n",
      "---------------------\n",
      "Designing a one-pass, zero-phase, non-causal highpass filter:\n",
      "- Windowed time-domain design (firwin) method\n",
      "- Hamming window with 0.0194 passband ripple and 53 dB stopband attenuation\n",
      "- Lower passband edge: 0.16\n",
      "- Lower transition bandwidth: 0.16 Hz (-6 dB cutoff frequency: 0.08 Hz)\n",
      "- Filter length: 5281 samples (20.629 sec)\n",
      "\n",
      "Used Annotations descriptions: ['Push', 'Relax']\n",
      "EEG channel type selected for re-referencing\n",
      "Applying a custom EEG reference.\n",
      "Filtering raw data in 1 contiguous segment\n",
      "Setting up high-pass filter at 0.16 Hz\n",
      "\n",
      "FIR filter parameters\n",
      "---------------------\n",
      "Designing a one-pass, zero-phase, non-causal highpass filter:\n",
      "- Windowed time-domain design (firwin) method\n",
      "- Hamming window with 0.0194 passband ripple and 53 dB stopband attenuation\n",
      "- Lower passband edge: 0.16\n",
      "- Lower transition bandwidth: 0.16 Hz (-6 dB cutoff frequency: 0.08 Hz)\n",
      "- Filter length: 5281 samples (20.629 sec)\n",
      "\n",
      "Used Annotations descriptions: ['Push', 'Relax']\n",
      "EEG channel type selected for re-referencing\n",
      "Applying a custom EEG reference.\n",
      "Filtering raw data in 1 contiguous segment\n",
      "Setting up high-pass filter at 0.16 Hz\n",
      "\n",
      "FIR filter parameters\n",
      "---------------------\n",
      "Designing a one-pass, zero-phase, non-causal highpass filter:\n",
      "- Windowed time-domain design (firwin) method\n",
      "- Hamming window with 0.0194 passband ripple and 53 dB stopband attenuation\n",
      "- Lower passband edge: 0.16\n",
      "- Lower transition bandwidth: 0.16 Hz (-6 dB cutoff frequency: 0.08 Hz)\n",
      "- Filter length: 5281 samples (20.629 sec)\n",
      "\n",
      "Used Annotations descriptions: ['Push', 'Relax']\n",
      "EEG channel type selected for re-referencing\n",
      "Applying a custom EEG reference.\n",
      "Filtering raw data in 1 contiguous segment\n",
      "Setting up high-pass filter at 0.16 Hz\n",
      "\n",
      "FIR filter parameters\n",
      "---------------------\n",
      "Designing a one-pass, zero-phase, non-causal highpass filter:\n",
      "- Windowed time-domain design (firwin) method\n",
      "- Hamming window with 0.0194 passband ripple and 53 dB stopband attenuation\n",
      "- Lower passband edge: 0.16\n",
      "- Lower transition bandwidth: 0.16 Hz (-6 dB cutoff frequency: 0.08 Hz)\n",
      "- Filter length: 5281 samples (20.629 sec)\n",
      "\n",
      "Used Annotations descriptions: ['Push', 'Relax']\n",
      "EEG channel type selected for re-referencing\n",
      "Applying a custom EEG reference.\n",
      "Filtering raw data in 1 contiguous segment\n",
      "Setting up high-pass filter at 0.16 Hz\n",
      "\n",
      "FIR filter parameters\n",
      "---------------------\n",
      "Designing a one-pass, zero-phase, non-causal highpass filter:\n",
      "- Windowed time-domain design (firwin) method\n",
      "- Hamming window with 0.0194 passband ripple and 53 dB stopband attenuation\n",
      "- Lower passband edge: 0.16\n",
      "- Lower transition bandwidth: 0.16 Hz (-6 dB cutoff frequency: 0.08 Hz)\n",
      "- Filter length: 5281 samples (20.629 sec)\n",
      "\n",
      "Used Annotations descriptions: ['Push', 'Relax']\n",
      "EEG channel type selected for re-referencing\n",
      "Applying a custom EEG reference.\n",
      "Filtering raw data in 1 contiguous segment\n"
     ]
    },
    {
     "name": "stdout",
     "output_type": "stream",
     "text": [
      "Setting up high-pass filter at 0.16 Hz\n",
      "\n",
      "FIR filter parameters\n",
      "---------------------\n",
      "Designing a one-pass, zero-phase, non-causal highpass filter:\n",
      "- Windowed time-domain design (firwin) method\n",
      "- Hamming window with 0.0194 passband ripple and 53 dB stopband attenuation\n",
      "- Lower passband edge: 0.16\n",
      "- Lower transition bandwidth: 0.16 Hz (-6 dB cutoff frequency: 0.08 Hz)\n",
      "- Filter length: 5281 samples (20.629 sec)\n",
      "\n",
      "Used Annotations descriptions: ['Push', 'Relax']\n",
      "EEG channel type selected for re-referencing\n",
      "Applying a custom EEG reference.\n",
      "Filtering raw data in 1 contiguous segment\n",
      "Setting up high-pass filter at 0.16 Hz\n",
      "\n",
      "FIR filter parameters\n",
      "---------------------\n",
      "Designing a one-pass, zero-phase, non-causal highpass filter:\n",
      "- Windowed time-domain design (firwin) method\n",
      "- Hamming window with 0.0194 passband ripple and 53 dB stopband attenuation\n",
      "- Lower passband edge: 0.16\n",
      "- Lower transition bandwidth: 0.16 Hz (-6 dB cutoff frequency: 0.08 Hz)\n",
      "- Filter length: 5281 samples (20.629 sec)\n",
      "\n",
      "Used Annotations descriptions: ['Push', 'Relax']\n"
     ]
    }
   ],
   "source": [
    "# pre-processing the raw data:\n",
    "# setting the reference electrodes to 'CQ_CMS', 'CQ_DRL'\n",
    "# setting the montage\n",
    "# high pass filter at 0.16 Hz to remove slow drifts (potentially built in in the EEG headset)\n",
    "# no notch-filtering as it is built in in the EEG headset \n",
    "# annotating the raw data so that we have 5 instances of push VI, 5 instances of relax VI per dataset\n",
    "# creating events from annotations \n",
    "\n",
    "pre_processed_datasets = my_code.preliminary_steps(raw_datasets)"
   ]
  },
  {
   "cell_type": "markdown",
   "metadata": {},
   "source": [
    "# Epoch creation"
   ]
  },
  {
   "cell_type": "code",
   "execution_count": 4,
   "metadata": {},
   "outputs": [
    {
     "name": "stdout",
     "output_type": "stream",
     "text": [
      "Used Annotations descriptions: ['Push', 'Relax']\n",
      "Not setting metadata\n",
      "Not setting metadata\n",
      "10 matching events found\n",
      "Applying baseline correction (mode: mean)\n",
      "0 projection items activated\n",
      "Loading data for 10 events and 2305 original time points ...\n",
      "0 bad epochs dropped\n",
      "Used Annotations descriptions: ['Push', 'Relax']\n",
      "Not setting metadata\n",
      "Not setting metadata\n",
      "10 matching events found\n",
      "Applying baseline correction (mode: mean)\n",
      "0 projection items activated\n",
      "Loading data for 10 events and 2305 original time points ...\n",
      "0 bad epochs dropped\n",
      "Not setting metadata\n",
      "Not setting metadata\n",
      "10 matching events found\n",
      "Applying baseline correction (mode: mean)\n",
      "0 projection items activated\n",
      "Loading data for 10 events and 2305 original time points ...\n",
      "0 bad epochs dropped\n",
      "Not setting metadata\n",
      "Not setting metadata\n",
      "20 matching events found\n",
      "Applying baseline correction (mode: mean)\n",
      "0 bad epochs dropped\n",
      "Not setting metadata\n",
      "Not setting metadata\n",
      "10 matching events found\n",
      "Applying baseline correction (mode: mean)\n",
      "0 projection items activated\n",
      "Loading data for 10 events and 2305 original time points ...\n",
      "0 bad epochs dropped\n",
      "Not setting metadata\n",
      "Not setting metadata\n",
      "30 matching events found\n",
      "Applying baseline correction (mode: mean)\n",
      "0 bad epochs dropped\n",
      "Not setting metadata\n",
      "Not setting metadata\n",
      "10 matching events found\n",
      "Applying baseline correction (mode: mean)\n",
      "0 projection items activated\n",
      "Loading data for 10 events and 2305 original time points ...\n",
      "0 bad epochs dropped\n",
      "Not setting metadata\n",
      "Not setting metadata\n",
      "40 matching events found\n",
      "Applying baseline correction (mode: mean)\n",
      "0 bad epochs dropped\n",
      "Not setting metadata\n",
      "Not setting metadata\n",
      "10 matching events found\n",
      "Applying baseline correction (mode: mean)\n",
      "0 projection items activated\n",
      "Loading data for 10 events and 2305 original time points ...\n",
      "0 bad epochs dropped\n",
      "Not setting metadata\n",
      "Not setting metadata\n",
      "50 matching events found\n",
      "Applying baseline correction (mode: mean)\n",
      "0 bad epochs dropped\n",
      "Not setting metadata\n",
      "Not setting metadata\n",
      "10 matching events found\n",
      "Applying baseline correction (mode: mean)\n",
      "0 projection items activated\n",
      "Loading data for 10 events and 2305 original time points ...\n",
      "0 bad epochs dropped\n",
      "Not setting metadata\n",
      "Not setting metadata\n",
      "60 matching events found\n",
      "Applying baseline correction (mode: mean)\n",
      "0 bad epochs dropped\n",
      "Not setting metadata\n",
      "Not setting metadata\n",
      "10 matching events found\n",
      "Applying baseline correction (mode: mean)\n",
      "0 projection items activated\n",
      "Loading data for 10 events and 2305 original time points ...\n",
      "0 bad epochs dropped\n",
      "Not setting metadata\n",
      "Not setting metadata\n",
      "70 matching events found\n",
      "Applying baseline correction (mode: mean)\n",
      "0 bad epochs dropped\n",
      "Not setting metadata\n",
      "Not setting metadata\n",
      "10 matching events found\n",
      "Applying baseline correction (mode: mean)\n",
      "0 projection items activated\n",
      "Loading data for 10 events and 2305 original time points ...\n",
      "0 bad epochs dropped\n",
      "Not setting metadata\n",
      "Not setting metadata\n",
      "80 matching events found\n",
      "Applying baseline correction (mode: mean)\n",
      "0 bad epochs dropped\n",
      "Not setting metadata\n",
      "Not setting metadata\n",
      "10 matching events found\n",
      "Applying baseline correction (mode: mean)\n",
      "0 projection items activated\n",
      "Loading data for 10 events and 2305 original time points ...\n",
      "0 bad epochs dropped\n",
      "Not setting metadata\n",
      "Not setting metadata\n",
      "90 matching events found\n",
      "Applying baseline correction (mode: mean)\n",
      "0 bad epochs dropped\n",
      "Not setting metadata\n",
      "Not setting metadata\n",
      "10 matching events found\n",
      "Applying baseline correction (mode: mean)\n",
      "0 projection items activated\n",
      "Loading data for 10 events and 2305 original time points ...\n",
      "0 bad epochs dropped\n",
      "Not setting metadata\n",
      "Not setting metadata\n",
      "100 matching events found\n",
      "Applying baseline correction (mode: mean)\n",
      "0 bad epochs dropped\n",
      "Not setting metadata\n",
      "Not setting metadata\n",
      "10 matching events found\n",
      "Applying baseline correction (mode: mean)\n",
      "0 projection items activated\n",
      "Loading data for 10 events and 2305 original time points ...\n",
      "0 bad epochs dropped\n",
      "Not setting metadata\n",
      "Not setting metadata\n",
      "110 matching events found\n",
      "Applying baseline correction (mode: mean)\n",
      "0 bad epochs dropped\n",
      "Not setting metadata\n",
      "Not setting metadata\n",
      "10 matching events found\n",
      "Applying baseline correction (mode: mean)\n",
      "0 projection items activated\n",
      "Loading data for 10 events and 2305 original time points ...\n",
      "0 bad epochs dropped\n",
      "Not setting metadata\n",
      "Not setting metadata\n",
      "120 matching events found\n",
      "Applying baseline correction (mode: mean)\n",
      "0 bad epochs dropped\n",
      "Not setting metadata\n",
      "Not setting metadata\n",
      "10 matching events found\n",
      "Applying baseline correction (mode: mean)\n",
      "0 projection items activated\n",
      "Loading data for 10 events and 2305 original time points ...\n",
      "0 bad epochs dropped\n",
      "Not setting metadata\n",
      "Not setting metadata\n",
      "130 matching events found\n",
      "Applying baseline correction (mode: mean)\n",
      "0 bad epochs dropped\n",
      "Not setting metadata\n",
      "Not setting metadata\n",
      "10 matching events found\n",
      "Applying baseline correction (mode: mean)\n",
      "0 projection items activated\n",
      "Loading data for 10 events and 2305 original time points ...\n",
      "0 bad epochs dropped\n",
      "Not setting metadata\n",
      "Not setting metadata\n",
      "140 matching events found\n",
      "Applying baseline correction (mode: mean)\n",
      "0 bad epochs dropped\n",
      "Not setting metadata\n",
      "Not setting metadata\n",
      "10 matching events found\n",
      "Applying baseline correction (mode: mean)\n",
      "0 projection items activated\n",
      "Loading data for 10 events and 2305 original time points ...\n",
      "0 bad epochs dropped\n",
      "Not setting metadata\n",
      "Not setting metadata\n",
      "150 matching events found\n",
      "Applying baseline correction (mode: mean)\n",
      "0 bad epochs dropped\n",
      "Not setting metadata\n",
      "Not setting metadata\n",
      "10 matching events found\n",
      "Applying baseline correction (mode: mean)\n",
      "0 projection items activated\n",
      "Loading data for 10 events and 2305 original time points ...\n",
      "0 bad epochs dropped\n",
      "Not setting metadata\n",
      "Not setting metadata\n",
      "160 matching events found\n",
      "Applying baseline correction (mode: mean)\n",
      "0 bad epochs dropped\n",
      "Not setting metadata\n",
      "Not setting metadata\n",
      "10 matching events found\n",
      "Applying baseline correction (mode: mean)\n",
      "0 projection items activated\n",
      "Loading data for 10 events and 2305 original time points ...\n",
      "0 bad epochs dropped\n",
      "Not setting metadata\n",
      "Not setting metadata\n",
      "170 matching events found\n",
      "Applying baseline correction (mode: mean)\n",
      "0 bad epochs dropped\n",
      "Not setting metadata\n",
      "Not setting metadata\n",
      "10 matching events found\n",
      "Applying baseline correction (mode: mean)\n",
      "0 projection items activated\n",
      "Loading data for 10 events and 2305 original time points ...\n",
      "0 bad epochs dropped\n",
      "Not setting metadata\n",
      "Not setting metadata\n",
      "180 matching events found\n",
      "Applying baseline correction (mode: mean)\n",
      "0 bad epochs dropped\n",
      "Not setting metadata\n",
      "Not setting metadata\n",
      "10 matching events found\n",
      "Applying baseline correction (mode: mean)\n",
      "0 projection items activated\n",
      "Loading data for 10 events and 2305 original time points ...\n",
      "0 bad epochs dropped\n",
      "Not setting metadata\n",
      "Not setting metadata\n",
      "190 matching events found\n",
      "Applying baseline correction (mode: mean)\n",
      "0 bad epochs dropped\n",
      "Not setting metadata\n",
      "Not setting metadata\n",
      "10 matching events found\n",
      "Applying baseline correction (mode: mean)\n",
      "0 projection items activated\n",
      "Loading data for 10 events and 2305 original time points ...\n",
      "0 bad epochs dropped\n",
      "Not setting metadata\n",
      "Not setting metadata\n",
      "200 matching events found\n",
      "Applying baseline correction (mode: mean)\n",
      "0 bad epochs dropped\n",
      "Not setting metadata\n",
      "Not setting metadata\n",
      "10 matching events found\n",
      "Applying baseline correction (mode: mean)\n",
      "0 projection items activated\n",
      "Loading data for 10 events and 2305 original time points ...\n",
      "0 bad epochs dropped\n",
      "Not setting metadata\n",
      "Not setting metadata\n",
      "210 matching events found\n",
      "Applying baseline correction (mode: mean)\n",
      "0 bad epochs dropped\n",
      "Not setting metadata\n",
      "Not setting metadata\n",
      "10 matching events found\n",
      "Applying baseline correction (mode: mean)\n",
      "0 projection items activated\n",
      "Loading data for 10 events and 2305 original time points ...\n",
      "0 bad epochs dropped\n",
      "Not setting metadata\n",
      "Not setting metadata\n",
      "220 matching events found\n",
      "Applying baseline correction (mode: mean)\n",
      "0 bad epochs dropped\n",
      "Not setting metadata\n",
      "Not setting metadata\n",
      "10 matching events found\n",
      "Applying baseline correction (mode: mean)\n",
      "0 projection items activated\n",
      "Loading data for 10 events and 2305 original time points ...\n",
      "0 bad epochs dropped\n",
      "Not setting metadata\n",
      "Not setting metadata\n",
      "230 matching events found\n",
      "Applying baseline correction (mode: mean)\n"
     ]
    },
    {
     "name": "stdout",
     "output_type": "stream",
     "text": [
      "0 bad epochs dropped\n",
      "Not setting metadata\n",
      "Not setting metadata\n",
      "10 matching events found\n",
      "Applying baseline correction (mode: mean)\n",
      "0 projection items activated\n",
      "Loading data for 10 events and 2305 original time points ...\n",
      "0 bad epochs dropped\n",
      "Not setting metadata\n",
      "Not setting metadata\n",
      "240 matching events found\n",
      "Applying baseline correction (mode: mean)\n",
      "0 bad epochs dropped\n",
      "Not setting metadata\n",
      "Not setting metadata\n",
      "10 matching events found\n",
      "Applying baseline correction (mode: mean)\n",
      "0 projection items activated\n",
      "Loading data for 10 events and 2305 original time points ...\n",
      "0 bad epochs dropped\n",
      "Not setting metadata\n",
      "Not setting metadata\n",
      "250 matching events found\n",
      "Applying baseline correction (mode: mean)\n",
      "0 bad epochs dropped\n",
      "Not setting metadata\n",
      "Not setting metadata\n",
      "10 matching events found\n",
      "Applying baseline correction (mode: mean)\n",
      "0 projection items activated\n",
      "Loading data for 10 events and 2305 original time points ...\n",
      "0 bad epochs dropped\n",
      "Not setting metadata\n",
      "Not setting metadata\n",
      "260 matching events found\n",
      "Applying baseline correction (mode: mean)\n",
      "0 bad epochs dropped\n",
      "Not setting metadata\n",
      "Not setting metadata\n",
      "10 matching events found\n",
      "Applying baseline correction (mode: mean)\n",
      "0 projection items activated\n",
      "Loading data for 10 events and 2305 original time points ...\n",
      "0 bad epochs dropped\n",
      "Not setting metadata\n",
      "Not setting metadata\n",
      "270 matching events found\n",
      "Applying baseline correction (mode: mean)\n",
      "0 bad epochs dropped\n",
      "Not setting metadata\n",
      "Not setting metadata\n",
      "10 matching events found\n",
      "Applying baseline correction (mode: mean)\n",
      "0 projection items activated\n",
      "Loading data for 10 events and 2305 original time points ...\n",
      "0 bad epochs dropped\n",
      "Not setting metadata\n",
      "Not setting metadata\n",
      "280 matching events found\n",
      "Applying baseline correction (mode: mean)\n",
      "0 bad epochs dropped\n",
      "Not setting metadata\n",
      "Not setting metadata\n",
      "10 matching events found\n",
      "Applying baseline correction (mode: mean)\n",
      "0 projection items activated\n",
      "Loading data for 10 events and 2305 original time points ...\n",
      "0 bad epochs dropped\n",
      "Not setting metadata\n",
      "Not setting metadata\n",
      "290 matching events found\n",
      "Applying baseline correction (mode: mean)\n",
      "0 bad epochs dropped\n",
      "Not setting metadata\n",
      "Not setting metadata\n",
      "10 matching events found\n",
      "Applying baseline correction (mode: mean)\n",
      "0 projection items activated\n",
      "Loading data for 10 events and 2305 original time points ...\n",
      "0 bad epochs dropped\n",
      "Not setting metadata\n",
      "Not setting metadata\n",
      "300 matching events found\n",
      "Applying baseline correction (mode: mean)\n",
      "0 bad epochs dropped\n",
      "Not setting metadata\n",
      "Not setting metadata\n",
      "10 matching events found\n",
      "Applying baseline correction (mode: mean)\n",
      "0 projection items activated\n",
      "Loading data for 10 events and 2305 original time points ...\n",
      "0 bad epochs dropped\n",
      "Not setting metadata\n",
      "Not setting metadata\n",
      "310 matching events found\n",
      "Applying baseline correction (mode: mean)\n",
      "0 bad epochs dropped\n",
      "Dropped 10 epochs: 0, 1, 2, 3, 4, 5, 6, 7, 8, 9\n"
     ]
    }
   ],
   "source": [
    "# creating epochs from the events (starting at 0.5 s of a push/relax instance and ending at 9.5 s of a push/relax instance)\n",
    "\n",
    "# first, creating a set of epochs based just on one dataset\n",
    "\n",
    "events_from_annot, event_dict = mne.events_from_annotations(pre_processed_datasets[0])\n",
    "event_dict = {\"Push\" : 1, \"Relax\" : 2}\n",
    "baseline = (0.5, 0.5)\n",
    "delay = 0.5\n",
    "epochs_all = mne.Epochs(pre_processed_datasets[0], events=events_from_annot, event_id = event_dict, baseline = baseline, tmin = 0.5, tmax = (10-delay), preload = True, reject_by_annotation=False)\n",
    "\n",
    "# then, looping it so more sets of epochs are appended \n",
    "\n",
    "epochs_all = my_code.create_epochs(pre_processed_datasets=pre_processed_datasets)"
   ]
  },
  {
   "cell_type": "markdown",
   "metadata": {},
   "source": [
    "# Applying different cleaning & artifact detection methods"
   ]
  },
  {
   "cell_type": "markdown",
   "metadata": {},
   "source": [
    "#### ICA --> peak to peak "
   ]
  },
  {
   "cell_type": "code",
   "execution_count": 5,
   "metadata": {},
   "outputs": [
    {
     "name": "stdout",
     "output_type": "stream",
     "text": [
      "Fitting ICA to data using 14 channels (please be patient, this may take a while)\n"
     ]
    },
    {
     "name": "stderr",
     "output_type": "stream",
     "text": [
      "<ipython-input-5-4f90ad862aed>:9: DeprecationWarning: Version 0.23 introduced max_iter=\"auto\", setting max_iter=1000 for `fastica` and max_iter=500 for `infomax` and `picard`. The current default of max_iter=200 will be changed to \"auto\" in version 0.24.\n",
      "  ica = ICA(n_components=14, random_state=97)\n",
      "<ipython-input-5-4f90ad862aed>:10: RuntimeWarning: The epochs you passed to ICA.fit() were baseline-corrected. However, we suggest to fit ICA only on data that has been high-pass filtered, but NOT baseline-corrected.\n",
      "  ica.fit(epochs_ica)\n"
     ]
    },
    {
     "name": "stdout",
     "output_type": "stream",
     "text": [
      "Selecting by number: 14 components\n",
      "Fitting ICA took 8.9s.\n",
      "Applying ICA to Epochs instance\n",
      "    Transforming to ICA space (14 components)\n",
      "    Zeroing out 2 ICA components\n",
      "    Projecting back using 14 PCA components\n"
     ]
    },
    {
     "name": "stderr",
     "output_type": "stream",
     "text": [
      "<ipython-input-5-4f90ad862aed>:12: RuntimeWarning: The data you passed to ICA.apply() was baseline-corrected. Please note that ICA can introduce DC shifts, therefore you may wish to consider baseline-correcting the cleaned data again.\n",
      "  epochs_ica = ica.apply(epochs_ica)\n"
     ]
    },
    {
     "name": "stdout",
     "output_type": "stream",
     "text": [
      "    Rejecting  epoch based on EEG : ['AF3', 'F7', 'FC5', 'T7', 'P7', 'O1', 'O2', 'P8', 'T8', 'FC6', 'F4', 'F8', 'AF4']\n",
      "    Rejecting  epoch based on EEG : ['T7', 'P7', 'O1', 'P8', 'FC6', 'F4', 'F8', 'AF4']\n",
      "    Rejecting  epoch based on EEG : ['FC6', 'F4', 'F8', 'AF4']\n",
      "    Rejecting  epoch based on EEG : ['AF3', 'F7', 'FC5', 'P7', 'O1', 'P8', 'T8', 'FC6', 'F4', 'F8', 'AF4']\n",
      "    Rejecting  epoch based on EEG : ['F4']\n",
      "    Rejecting  epoch based on EEG : ['AF3', 'F7', 'F3', 'FC5', 'T7', 'P7', 'O1', 'O2', 'P8', 'T8', 'FC6', 'F4', 'F8', 'AF4']\n",
      "    Rejecting  epoch based on EEG : ['F4']\n",
      "    Rejecting  epoch based on EEG : ['P8', 'FC6', 'F4', 'F8', 'AF4']\n",
      "    Rejecting  epoch based on EEG : ['FC6']\n",
      "    Rejecting  epoch based on EEG : ['O1']\n",
      "    Rejecting  epoch based on EEG : ['O1', 'FC6', 'F4']\n",
      "    Rejecting  epoch based on EEG : ['F4']\n",
      "    Rejecting  epoch based on EEG : ['AF3', 'F7', 'FC5', 'T7', 'P7', 'O1', 'O2', 'P8', 'T8', 'FC6', 'F4', 'F8', 'AF4']\n",
      "    Rejecting  epoch based on EEG : ['FC6', 'F4', 'F8']\n",
      "    Rejecting  epoch based on EEG : ['AF3', 'F7', 'FC5', 'O1', 'O2', 'P8', 'T8', 'FC6', 'F4', 'F8', 'AF4']\n",
      "    Rejecting  epoch based on EEG : ['FC6']\n",
      "    Rejecting  epoch based on EEG : ['F3', 'O1', 'O2', 'P8', 'FC6', 'F4', 'F8', 'AF4']\n",
      "    Rejecting  epoch based on EEG : ['F3']\n",
      "    Rejecting  epoch based on EEG : ['F3', 'AF4']\n",
      "    Rejecting  epoch based on EEG : ['F3']\n",
      "    Rejecting  epoch based on EEG : ['AF3', 'F7', 'F3', 'FC5', 'T7', 'P7', 'O1', 'O2', 'P8', 'T8', 'FC6', 'F4', 'F8', 'AF4']\n",
      "    Rejecting  epoch based on EEG : ['AF3', 'F7', 'F3', 'FC5', 'P7', 'O1', 'O2', 'P8', 'T8', 'FC6', 'F4', 'F8', 'AF4']\n",
      "    Rejecting  epoch based on EEG : ['F3']\n",
      "    Rejecting  epoch based on EEG : ['T7']\n",
      "    Rejecting  epoch based on EEG : ['F4']\n",
      "    Rejecting  epoch based on EEG : ['F4']\n",
      "    Rejecting  epoch based on EEG : ['FC6']\n",
      "    Rejecting  epoch based on EEG : ['O2']\n",
      "    Rejecting  epoch based on EEG : ['P7', 'F4']\n",
      "    Rejecting  epoch based on EEG : ['AF3', 'F7', 'F3', 'FC5', 'T7', 'P7', 'O1', 'O2', 'P8', 'T8', 'FC6', 'F4', 'F8', 'AF4']\n",
      "    Rejecting  epoch based on EEG : ['FC6', 'F4']\n",
      "    Rejecting  epoch based on EEG : ['AF3', 'F7', 'F3', 'FC5', 'T7', 'O1', 'O2', 'P8', 'T8', 'FC6', 'F4', 'F8', 'AF4']\n",
      "    Rejecting  epoch based on EEG : ['FC6', 'F4']\n",
      "    Rejecting  epoch based on EEG : ['FC5']\n",
      "    Rejecting  epoch based on EEG : ['F7', 'T7']\n",
      "    Rejecting  epoch based on EEG : ['O1', 'F4']\n",
      "    Rejecting  epoch based on EEG : ['F4']\n",
      "    Rejecting  epoch based on EEG : ['F4']\n",
      "    Rejecting  epoch based on EEG : ['P8']\n",
      "    Rejecting  epoch based on EEG : ['P8']\n",
      "    Rejecting  epoch based on EEG : ['O2', 'FC6', 'F4', 'F8']\n",
      "    Rejecting  epoch based on EEG : ['P8']\n",
      "    Rejecting  epoch based on EEG : ['P8']\n",
      "    Rejecting  epoch based on EEG : ['P8']\n",
      "    Rejecting  epoch based on EEG : ['AF3', 'F7', 'F3', 'FC5', 'O1', 'O2', 'P8', 'T8', 'FC6', 'F4', 'F8', 'AF4']\n",
      "    Rejecting  epoch based on EEG : ['T7', 'O2', 'P8', 'FC6', 'F4', 'F8', 'AF4']\n",
      "    Rejecting  epoch based on EEG : ['F7', 'FC5', 'P7', 'O1', 'O2', 'P8', 'T8', 'FC6', 'F4', 'F8', 'AF4']\n",
      "    Rejecting  epoch based on EEG : ['F7']\n",
      "    Rejecting  epoch based on EEG : ['F4']\n",
      "    Rejecting  epoch based on EEG : ['F4']\n",
      "    Rejecting  epoch based on EEG : ['AF3', 'F7', 'F3', 'FC5', 'T7', 'P7', 'O1', 'O2', 'P8', 'T8', 'FC6', 'F4', 'F8', 'AF4']\n",
      "    Rejecting  epoch based on EEG : ['F7', 'F3', 'FC5', 'T7', 'P7', 'O2', 'P8', 'FC6', 'F4', 'F8', 'AF4']\n",
      "    Rejecting  epoch based on EEG : ['F7']\n",
      "    Rejecting  epoch based on EEG : ['F4']\n",
      "    Rejecting  epoch based on EEG : ['F7', 'F8']\n",
      "    Rejecting  epoch based on EEG : ['FC5']\n",
      "56 bad epochs dropped\n",
      "(('USER',), ('USER',), ('USER',), ('USER',), ('USER',), ('USER',), ('USER',), ('USER',), ('USER',), ('USER',), ('AF3', 'F7', 'FC5', 'T7', 'P7', 'O1', 'O2', 'P8', 'T8', 'FC6', 'F4', 'F8', 'AF4'), ('T7', 'P7', 'O1', 'P8', 'FC6', 'F4', 'F8', 'AF4'), ('FC6', 'F4', 'F8', 'AF4'), (), ('AF3', 'F7', 'FC5', 'P7', 'O1', 'P8', 'T8', 'FC6', 'F4', 'F8', 'AF4'), ('F4',), ('AF3', 'F7', 'F3', 'FC5', 'T7', 'P7', 'O1', 'O2', 'P8', 'T8', 'FC6', 'F4', 'F8', 'AF4'), ('F4',), ('P8', 'FC6', 'F4', 'F8', 'AF4'), ('FC6',), (), (), (), (), ('O1',), (), ('O1', 'FC6', 'F4'), (), ('F4',), (), (), (), ('AF3', 'F7', 'FC5', 'T7', 'P7', 'O1', 'O2', 'P8', 'T8', 'FC6', 'F4', 'F8', 'AF4'), (), ('FC6', 'F4', 'F8'), (), ('AF3', 'F7', 'FC5', 'O1', 'O2', 'P8', 'T8', 'FC6', 'F4', 'F8', 'AF4'), ('FC6',), (), (), (), (), ('F3', 'O1', 'O2', 'P8', 'FC6', 'F4', 'F8', 'AF4'), ('F3',), ('F3', 'AF4'), (), ('F3',), ('AF3', 'F7', 'F3', 'FC5', 'T7', 'P7', 'O1', 'O2', 'P8', 'T8', 'FC6', 'F4', 'F8', 'AF4'), ('AF3', 'F7', 'F3', 'FC5', 'P7', 'O1', 'O2', 'P8', 'T8', 'FC6', 'F4', 'F8', 'AF4'), ('F3',), ('T7',), (), (), (), (), (), (), (), ('F4',), (), (), (), (), ('F4',), (), (), ('FC6',), (), (), (), (), ('O2',), ('P7', 'F4'), ('AF3', 'F7', 'F3', 'FC5', 'T7', 'P7', 'O1', 'O2', 'P8', 'T8', 'FC6', 'F4', 'F8', 'AF4'), (), ('FC6', 'F4'), (), (), ('AF3', 'F7', 'F3', 'FC5', 'T7', 'O1', 'O2', 'P8', 'T8', 'FC6', 'F4', 'F8', 'AF4'), (), (), (), ('FC6', 'F4'), (), (), (), (), (), (), (), ('FC5',), (), (), (), (), ('F7', 'T7'), ('O1', 'F4'), (), (), (), (), (), (), ('F4',), (), (), ('F4',), (), (), ('P8',), (), (), (), ('P8',), ('O2', 'FC6', 'F4', 'F8'), ('P8',), (), ('P8',), (), ('P8',), (), (), (), (), ('AF3', 'F7', 'F3', 'FC5', 'O1', 'O2', 'P8', 'T8', 'FC6', 'F4', 'F8', 'AF4'), (), (), (), (), (), (), (), (), (), (), (), (), (), (), (), ('T7', 'O2', 'P8', 'FC6', 'F4', 'F8', 'AF4'), (), (), (), (), (), (), (), (), (), (), (), (), (), (), (), (), (), (), (), (), (), (), (), (), (), (), (), (), (), (), (), (), (), (), (), (), (), ('F7', 'FC5', 'P7', 'O1', 'O2', 'P8', 'T8', 'FC6', 'F4', 'F8', 'AF4'), (), ('F7',), (), (), (), (), ('F4',), ('F4',), (), (), (), (), (), (), (), (), ('AF3', 'F7', 'F3', 'FC5', 'T7', 'P7', 'O1', 'O2', 'P8', 'T8', 'FC6', 'F4', 'F8', 'AF4'), (), (), (), (), (), (), (), (), (), (), ('F7', 'F3', 'FC5', 'T7', 'P7', 'O2', 'P8', 'FC6', 'F4', 'F8', 'AF4'), (), (), (), ('F7',), (), (), (), (), (), (), (), (), (), (), (), (), (), (), (), (), (), ('F4',), (), (), (), (), (), (), (), (), (), (), (), (), (), (), (), (), (), (), (), (), (), (), (), (), (), (), (), (), (), (), (), (), (), (), (), (), (), (), (), (), (), ('F7', 'F8'), (), (), (), (), (), (), (), (), (), (), (), (), (), (), (), (), (), (), (), (), (), (), (), (), (), (), (), (), (), ('FC5',), (), (), (), (), (), (), (), (), ())\n"
     ]
    },
    {
     "data": {
      "image/png": "[encoded data removed]",
      "text/plain": [
       "<Figure size 432x288 with 1 Axes>"
      ]
     },
     "metadata": {
      "needs_background": "light"
     },
     "output_type": "display_data"
    },
    {
     "name": "stdout",
     "output_type": "stream",
     "text": [
      "Dropped 14 epochs: 0, 5, 6, 7, 10, 11, 16, 17, 122, 145, 148, 165, 206, 235\n"
     ]
    },
    {
     "data": {
      "text/plain": [
       "(<Epochs |  230 events (all good), 0.5 - 9.5 sec, baseline 0.5 – 0.5 sec, ~56.7 MB, data loaded,\n",
       "  'Push': 115\n",
       "  'Relax': 115>,\n",
       " array([  0,   5,   6,   7,  10,  11,  16,  17, 122, 145, 148, 165, 206,\n",
       "        235], dtype=int64))"
      ]
     },
     "execution_count": 5,
     "metadata": {},
     "output_type": "execute_result"
    }
   ],
   "source": [
    "# artifact detection/repair/deletion mix 1\n",
    "# first ICA; visualize the components\n",
    "\n",
    "#my_code.apply_ica(epochs_all)\n",
    "\n",
    "    # decide which components to reject and reject them\n",
    "    \n",
    "epochs_ica = epochs_all.copy()\n",
    "ica = ICA(n_components=14, random_state=97)\n",
    "ica.fit(epochs_ica)\n",
    "ica.exclude = [1,3]\n",
    "epochs_ica = ica.apply(epochs_ica)\n",
    "\n",
    "# then peak-to-peak amplitude rejection threshold of 200 mV\n",
    "\n",
    "reject_criteria = dict(eeg=200e-6)\n",
    "\n",
    "epochs_ica_ptp_200 = epochs_ica.drop_bad(reject=reject_criteria)\n",
    "print(epochs_ica_ptp_200.drop_log)\n",
    "epochs_ica_ptp_200.plot_drop_log()\n",
    "\n",
    "# equalizing instance counts\n",
    "\n",
    "epochs_ica_ptp_200.equalize_event_counts(epochs_ica_ptp_200.event_id)"
   ]
  },
  {
   "cell_type": "markdown",
   "metadata": {},
   "source": [
    "#### peak to peak --> ICA "
   ]
  },
  {
   "cell_type": "code",
   "execution_count": null,
   "metadata": {},
   "outputs": [],
   "source": [
    "# artifact detection/repair/deletion mix 2\n",
    "\n",
    "# first peak-to-peak amplitude rejection threshold of 150 mV\n",
    "epochs_ptp_200 = epochs_all.copy()\n",
    "reject_criteria = dict(eeg=200e-6)\n",
    "\n",
    "epochs_ptp_200 = epochs_ptp_200.drop_bad(reject=reject_criteria)\n",
    "print(epochs_ptp_200.drop_log)\n",
    "epochs_ptp_200.plot_drop_log()\n",
    "\n",
    "# then ICA; visualize the components\n",
    "\n",
    "my_code.apply_ica(epochs_ptp_200)\n",
    "\n",
    "    # decide which components to reject and reject them\n",
    "    \n",
    "ica = ICA(n_components=14, random_state=97)\n",
    "ica.fit(epochs_ptp_200)\n",
    "ica.exclude = [1,3]\n",
    "epochs_ptp_200_ica = ica.apply(epochs_ptp_200)\n",
    "\n",
    "# equalizing instance counts\n",
    "\n",
    "epochs_ptp_200_ica.equalize_event_counts(epochs_ptp_200_ica.event_id)\n"
   ]
  },
  {
   "cell_type": "markdown",
   "metadata": {},
   "source": [
    "#### ICA --> Autoreject"
   ]
  },
  {
   "cell_type": "code",
   "execution_count": null,
   "metadata": {},
   "outputs": [],
   "source": [
    "# artifact detection/repair/deletion mix 3\n",
    "\n",
    "\n",
    "# first ICA; visualize the components\n",
    "\n",
    "#my_code.apply_ica(epochs_all)\n",
    "\n",
    "    # decide which components to reject and reject them\n",
    "    \n",
    "epochs_ica = epochs_all.copy()\n",
    "ica = ICA(n_components=14, random_state=97)\n",
    "ica.fit(epochs_ica)\n",
    "ica.exclude = [1,3]\n",
    "epochs_ica = ica.apply(epochs_ica)\n",
    "\n",
    "# then Autoreject\n",
    "\n",
    "epochs_ica_autoreject = my_code.clean_epochs(epochs_all = epochs_ica)\n",
    "\n",
    "# equalizing instance counts\n",
    "\n",
    "epochs_ica_autoreject.equalize_event_counts(epochs_ica_autoreject.event_id)"
   ]
  },
  {
   "cell_type": "markdown",
   "metadata": {},
   "source": [
    "#### Autoreject --> ICA "
   ]
  },
  {
   "cell_type": "code",
   "execution_count": null,
   "metadata": {},
   "outputs": [],
   "source": [
    "# artifact detection/repair/deletion mix 4\n",
    "\n",
    "# first Autoreject\n",
    "\n",
    "epochs_autoreject = epochs_all.copy()\n",
    "epochs_autoreject = my_code.clean_epochs(epochs_all = epochs_autoreject)\n",
    "\n",
    "\n",
    "# then ICA; visualize the components\n",
    "\n",
    "#my_code.apply_ica(epochs_autoreject)\n",
    "\n",
    "    # decide which components to reject and reject them\n",
    "    \n",
    "ica = ICA(n_components=14, random_state=97)\n",
    "ica.fit(epochs_autoreject)\n",
    "ica.exclude = [1,3]\n",
    "epochs_autoreject_ica = ica.apply(epochs_autoreject)\n",
    "\n",
    "# equalizing instance counts\n",
    "\n",
    "epochs_autoreject_ica.equalize_event_counts(epochs_autoreject_ica.event_id)\n"
   ]
  },
  {
   "cell_type": "markdown",
   "metadata": {},
   "source": [
    "# Feature extraction methods"
   ]
  },
  {
   "cell_type": "markdown",
   "metadata": {},
   "source": [
    "## Time-frequency"
   ]
  },
  {
   "cell_type": "code",
   "execution_count": 6,
   "metadata": {},
   "outputs": [],
   "source": [
    "alpha_push_power, alpha_relax_power = my_code.create_TF_object_for_plotting(8, 12, 20, epochs_ica_ptp_200[\"Push\"], epochs_ica_ptp_200[\"Relax\"])\n",
    "beta_push_power, beta_relax_power = my_code.create_TF_object_for_plotting(12, 30, 20, epochs_ica_ptp_200[\"Push\"], epochs_ica_ptp_200[\"Relax\"])\n",
    "gamma_push_power, gamma_relax_power = my_code.create_TF_object_for_plotting(30, 80, 20, epochs_ica_ptp_200[\"Push\"], epochs_ica_ptp_200[\"Relax\"])"
   ]
  },
  {
   "cell_type": "markdown",
   "metadata": {},
   "source": [
    "## PyEEG features"
   ]
  },
  {
   "cell_type": "code",
   "execution_count": 7,
   "metadata": {},
   "outputs": [],
   "source": [
    "# extracting detrended fluctuation analysis coefficients, fisher information, hurst component\n",
    "# hjorth fractal dimension, hjirth mobility, hjorth complexity, petrosian fractal dimension"
   ]
  },
  {
   "cell_type": "code",
   "execution_count": 8,
   "metadata": {},
   "outputs": [
    {
     "name": "stdout",
     "output_type": "stream",
     "text": [
      "(115,)\n"
     ]
    },
    {
     "name": "stderr",
     "output_type": "stream",
     "text": [
      "D:\\Anaconda\\envs\\tf\\lib\\site-packages\\pyeeg-0.4.4-py3.8.egg\\pyeeg\\detrended_fluctuation_analysis.py:125: FutureWarning: `rcond` parameter will change to the default of machine precision times ``max(M, N)`` where M and N are the input matrix dimensions.\n",
      "To use the future default and silence this warning we advise to pass `rcond=None`, to keep using the old, explicitly pass `rcond=-1`.\n",
      "D:\\Anaconda\\envs\\tf\\lib\\site-packages\\pyeeg-0.4.4-py3.8.egg\\pyeeg\\detrended_fluctuation_analysis.py:129: FutureWarning: `rcond` parameter will change to the default of machine precision times ``max(M, N)`` where M and N are the input matrix dimensions.\n",
      "To use the future default and silence this warning we advise to pass `rcond=None`, to keep using the old, explicitly pass `rcond=-1`.\n"
     ]
    },
    {
     "name": "stdout",
     "output_type": "stream",
     "text": [
      "(115, 14)\n",
      "(115, 14)\n",
      "(115, 14)\n",
      "(115, 14)\n"
     ]
    },
    {
     "name": "stderr",
     "output_type": "stream",
     "text": [
      "D:\\Anaconda\\envs\\tf\\lib\\site-packages\\pyeeg-0.4.4-py3.8.egg\\pyeeg\\hurst.py:54: RuntimeWarning: invalid value encountered in true_divide\n",
      "D:\\Anaconda\\envs\\tf\\lib\\site-packages\\pyeeg-0.4.4-py3.8.egg\\pyeeg\\hurst.py:58: FutureWarning: `rcond` parameter will change to the default of machine precision times ``max(M, N)`` where M and N are the input matrix dimensions.\n",
      "To use the future default and silence this warning we advise to pass `rcond=None`, to keep using the old, explicitly pass `rcond=-1`.\n"
     ]
    },
    {
     "name": "stdout",
     "output_type": "stream",
     "text": [
      "(115, 14)\n",
      "(115, 14)\n"
     ]
    },
    {
     "name": "stderr",
     "output_type": "stream",
     "text": [
      "D:\\Anaconda\\envs\\tf\\lib\\site-packages\\pyeeg-0.4.4-py3.8.egg\\pyeeg\\fractal_dimension.py:22: FutureWarning: `rcond` parameter will change to the default of machine precision times ``max(M, N)`` where M and N are the input matrix dimensions.\n",
      "To use the future default and silence this warning we advise to pass `rcond=None`, to keep using the old, explicitly pass `rcond=-1`.\n"
     ]
    },
    {
     "name": "stdout",
     "output_type": "stream",
     "text": [
      "(115, 14)\n",
      "(115, 14)\n",
      "(115, 14)\n",
      "(115, 14)\n",
      "(115, 14)\n",
      "(115, 14)\n",
      "(115, 14)\n",
      "(115, 14)\n"
     ]
    }
   ],
   "source": [
    "fi_epochs_over_channels_push, dfa_epochs_over_channels_push, he_epochs_over_channels_push, hfd_epochs_over_channels_push, hm_epochs_over_channels_push, hc_epochs_over_channels_push, pfd_epochs_over_channels_push, fi_epochs_over_channels_push, dfa_epochs_over_channels_push, he_epochs_over_channels_push, hfd_epochs_over_channels_push, hm_epochs_over_channels_push, hc_epochs_over_channels_push, pfd_epochs_over_channels_push, fi_epochs_over_channels_relax, dfa_epochs_over_channels_relax, he_epochs_over_channels_relax, hfd_epochs_over_channels_relax, hm_epochs_over_channels_relax, hc_epochs_over_channels_relax, pfd_epochs_over_channels_relax,all_pyeeg_features = my_code.extract_pyeegfeatures(115, epochs_ica_ptp_200[\"Push\"],epochs_ica_ptp_200[\"Relax\"]) "
   ]
  },
  {
   "cell_type": "markdown",
   "metadata": {},
   "source": [
    "## Common Spatial Patterns"
   ]
  },
  {
   "cell_type": "code",
   "execution_count": 9,
   "metadata": {},
   "outputs": [],
   "source": [
    "# introductory explanation"
   ]
  },
  {
   "cell_type": "markdown",
   "metadata": {},
   "source": [
    "## Principle Component Analysis"
   ]
  },
  {
   "cell_type": "code",
   "execution_count": 10,
   "metadata": {},
   "outputs": [],
   "source": [
    "# introductory explanation"
   ]
  },
  {
   "cell_type": "markdown",
   "metadata": {},
   "source": [
    "## RGB values from spectrogram images"
   ]
  },
  {
   "cell_type": "code",
   "execution_count": 11,
   "metadata": {},
   "outputs": [],
   "source": [
    "# introductory explanation"
   ]
  },
  {
   "cell_type": "markdown",
   "metadata": {},
   "source": [
    "# Data exploration informing feature-engineering"
   ]
  },
  {
   "cell_type": "markdown",
   "metadata": {},
   "source": [
    "### Plotting averaged epochs per class"
   ]
  },
  {
   "cell_type": "code",
   "execution_count": 12,
   "metadata": {},
   "outputs": [
    {
     "name": "stdout",
     "output_type": "stream",
     "text": [
      "<Epochs |  230 events (all good), 0.5 - 9.5 sec, baseline 0.5 – 0.5 sec, ~56.7 MB, data loaded,\n",
      " 'Push': 115\n",
      " 'Relax': 115>\n"
     ]
    }
   ],
   "source": [
    "print(epochs_ica_ptp_200)\n",
    "#print(epochs_ptp_200_ica)\n",
    "#print(epochs_ica_autoreject)\n",
    "#print(epochs_autoreject_ica)"
   ]
  },
  {
   "cell_type": "code",
   "execution_count": 13,
   "metadata": {},
   "outputs": [
    {
     "name": "stdout",
     "output_type": "stream",
     "text": [
      "combining channels using \"gfp\"\n",
      "combining channels using \"gfp\"\n"
     ]
    },
    {
     "data": {
      "image/png": "[encoded data removed]",
      "text/plain": [
       "<Figure size 576x432 with 1 Axes>"
      ]
     },
     "metadata": {
      "needs_background": "light"
     },
     "output_type": "display_data"
    },
    {
     "data": {
      "text/plain": [
       "[<Figure size 576x432 with 1 Axes>]"
      ]
     },
     "execution_count": 13,
     "metadata": {},
     "output_type": "execute_result"
    }
   ],
   "source": [
    "# visually inspecting the epochs: plotting their averages \n",
    "# need to update it for all the artifact rejection mixes\n",
    "\n",
    "push_average = epochs_ica_ptp_200[\"Push\"].average()\n",
    "relax_average = epochs_ica_ptp_200[\"Relax\"].average()\n",
    "mne.viz.plot_compare_evokeds([push_average, relax_average])"
   ]
  },
  {
   "cell_type": "markdown",
   "metadata": {},
   "source": [
    "### Plotting topomaps of time-frequency data"
   ]
  },
  {
   "cell_type": "code",
   "execution_count": 14,
   "metadata": {},
   "outputs": [
    {
     "name": "stdout",
     "output_type": "stream",
     "text": [
      "Applying baseline correction (mode: mean)\n",
      "Applying baseline correction (mode: mean)\n",
      "Applying baseline correction (mode: mean)\n",
      "Applying baseline correction (mode: mean)\n",
      "Applying baseline correction (mode: mean)\n",
      "Applying baseline correction (mode: mean)\n"
     ]
    },
    {
     "data": {
      "image/png": "[encoded data removed]",
      "text/plain": [
       "<Figure size 144x144 with 2 Axes>"
      ]
     },
     "metadata": {
      "needs_background": "light"
     },
     "output_type": "display_data"
    },
    {
     "data": {
      "image/png": "[encoded data removed]",
      "text/plain": [
       "<Figure size 144x144 with 2 Axes>"
      ]
     },
     "metadata": {
      "needs_background": "light"
     },
     "output_type": "display_data"
    },
    {
     "data": {
      "image/png": "[encoded data removed]",
      "text/plain": [
       "<Figure size 144x144 with 2 Axes>"
      ]
     },
     "metadata": {
      "needs_background": "light"
     },
     "output_type": "display_data"
    },
    {
     "data": {
      "image/png": "[encoded data removed]",
      "text/plain": [
       "<Figure size 144x144 with 2 Axes>"
      ]
     },
     "metadata": {
      "needs_background": "light"
     },
     "output_type": "display_data"
    },
    {
     "data": {
      "image/png": "[encoded data removed]",
      "text/plain": [
       "<Figure size 144x144 with 2 Axes>"
      ]
     },
     "metadata": {
      "needs_background": "light"
     },
     "output_type": "display_data"
    },
    {
     "data": {
      "image/png": "[encoded data removed]",
      "text/plain": [
       "<Figure size 144x144 with 2 Axes>"
      ]
     },
     "metadata": {
      "needs_background": "light"
     },
     "output_type": "display_data"
    }
   ],
   "source": [
    "my_code.plot_topomaps(alpha_push_power, alpha_relax_power,  beta_push_power, beta_relax_power,  gamma_push_power,  gamma_relax_power)"
   ]
  },
  {
   "cell_type": "markdown",
   "metadata": {},
   "source": [
    "### Plotting alpha, beta, gamma power differences per channel"
   ]
  },
  {
   "cell_type": "code",
   "execution_count": 15,
   "metadata": {},
   "outputs": [
    {
     "name": "stdout",
     "output_type": "stream",
     "text": [
      "Alpha differences values in 1st chunk:\n",
      " [9.083517760205455e-11, 9.46541459188724e-11, 4.8658540006303647e-11, 1.4444180065200064e-10, 7.997909715046301e-11, 4.44982358827584e-11, 8.293050659191017e-11, 2.129842939650927e-10, 8.045544667522856e-12, 6.340603111430128e-11, 4.1992980395830095e-11, 1.1025650219870092e-10, 3.1431874595430747e-10, 3.5024675113520665e-10]\n",
      "Alpha differences values in 2nd chunk:\n",
      " [7.278619652080457e-11, 9.86830095127106e-11, 6.084818087930195e-11, 1.229168882839312e-10, 6.984530333181142e-11, 1.1458566899874808e-10, 9.13186976619996e-11, 1.598432872860786e-10, 3.0552277473809976e-11, 5.1232265619313727e-11, 6.539712061699699e-11, 6.410112313678796e-12, 9.929731414330843e-12, 1.0409086899273254e-10]\n",
      "Alpha differences values in 3rd chunk:\n",
      " [1.0866951439711041e-10, 2.0568918362300937e-10, 3.462275239898584e-11, 1.589386824087208e-10, 1.689508396111152e-10, 3.216979630747906e-10, 5.32153985778865e-11, 3.1431378687403385e-10, 1.4004666111211563e-11, 8.072010338719493e-11, 1.509486967346911e-11, 3.481695080124198e-11, 4.6259147109005203e-10, 3.7035605455430785e-10]\n",
      "Beta differences values in 1st chunk:\n",
      " [1.5226473990184755e-11, 7.810790792790836e-12, 1.3583432499893714e-11, 2.387953915284301e-11, 1.3403559405312328e-11, 9.759857291100617e-13, 1.5933286426663696e-11, 1.5136585009495444e-11, 2.0387154563796893e-12, 1.0899283073149761e-11, 8.835384369609113e-14, 6.96506992682764e-13, 5.485307345041802e-11, 4.919478424642995e-11]\n",
      "Beta differences values in 2nd chunk:\n",
      " [1.9025867262563366e-11, 3.2461455589746434e-11, 1.1793430748990375e-11, 3.041579522524703e-11, 2.1356218552494015e-11, 5.863727443178138e-11, 1.7966492467069424e-11, 4.356395924187622e-11, 2.2941840357156003e-12, 1.6740893952291293e-11, 7.137149233346542e-12, 2.999013451707645e-11, 1.3349710701445642e-11, 4.34198523751819e-11]\n",
      "Beta differences values in 3rd chunk:\n",
      " [9.10339219214488e-12, 2.7688800103862325e-11, 5.616906147723851e-12, 2.2147992078994873e-11, 1.1553472745433675e-11, 5.1196651272820704e-11, 6.487753443352917e-12, 3.493148807664015e-11, 5.778312461334515e-12, 9.927753588823855e-12, 3.647557777611295e-12, 8.221580791325929e-12, 1.0717489948129577e-10, 1.0943175941034479e-10]\n",
      "Gamma differences values in 1st chunk:\n",
      " [2.3560170606199823e-12, 3.3080471445218003e-12, 2.1379859314488458e-12, 5.6530398074924015e-12, 8.43088443429496e-13, 8.453065090409507e-12, 2.1208202032574473e-12, 6.421775099220317e-12, 5.306691583766582e-13, 3.100266153131151e-12, 5.318187543381694e-13, 5.426635072939616e-12, 6.634501021718025e-12, 1.0724122142871591e-11]\n",
      "Gamma differences values in 2nd chunk:\n",
      " [1.894750804065527e-12, 3.785738127585337e-12, 1.5040210966958772e-12, 3.410848748165027e-12, 2.428592839239472e-12, 8.583911880459964e-12, 1.475720810401099e-12, 4.448085837205017e-12, 9.991088354981218e-13, 2.4737877435481366e-12, 3.142903454578672e-13, 5.367577884786028e-12, 6.282813050665253e-12, 9.809659983076407e-12]\n",
      "Gamma differences values in 3rd chunk:\n",
      " [5.648700984019594e-13, 1.9291138201485166e-13, 1.3169145798946768e-12, 6.675967176622562e-13, 2.1407452040941506e-13, 2.3521626782282697e-12, 1.4371608505210822e-12, 5.974423651907617e-13, 4.8281743368660537e-14, 2.858457486750229e-14, 4.217914288764623e-14, 8.029009064191234e-13, 1.5366034328723808e-12, 2.7760030520544154e-12]\n"
     ]
    },
    {
     "data": {
      "image/png": "[encoded data removed]",
      "text/plain": [
       "<Figure size 432x288 with 1 Axes>"
      ]
     },
     "metadata": {
      "needs_background": "light"
     },
     "output_type": "display_data"
    },
    {
     "data": {
      "image/png": "[encoded data removed]",
      "text/plain": [
       "<Figure size 432x288 with 1 Axes>"
      ]
     },
     "metadata": {
      "needs_background": "light"
     },
     "output_type": "display_data"
    },
    {
     "data": {
      "image/png": "[encoded data removed]",
      "text/plain": [
       "<Figure size 432x288 with 1 Axes>"
      ]
     },
     "metadata": {
      "needs_background": "light"
     },
     "output_type": "display_data"
    }
   ],
   "source": [
    "my_code.visualize_per_channel_power_diffs(epochs_all,alpha_push_power, alpha_relax_power,  beta_push_power, beta_relax_power,  gamma_push_power,  gamma_relax_power)"
   ]
  },
  {
   "cell_type": "markdown",
   "metadata": {},
   "source": [
    "### Running SlidingEstimator on time-frequency data"
   ]
  },
  {
   "cell_type": "code",
   "execution_count": 16,
   "metadata": {},
   "outputs": [],
   "source": [
    "# extracting alpha, beta, gamma frequencies and their mixes per channel over time \n",
    "# needs a new function as we want matrices, not time-frequency objects\n",
    "# repeat for every artifact rejection mix \n",
    "\n",
    "freqs, alpha_push_power, alpha_push_itc, instances = my_code.create_time_frequency_matrices(8, 12, 20, 115, 14, 769, epochs_ica_ptp_200[\"Push\"])\n",
    "freqs, alpha_relax_power, alpha_relax_itc, instances = my_code.create_time_frequency_matrices(8, 12, 20, 115, 14, 769, epochs_ica_ptp_200[\"Relax\"])\n",
    "freqs, beta_push_power, beta_push_itc, instances = my_code.create_time_frequency_matrices(13, 30, 20, 115, 14, 769, epochs_ica_ptp_200[\"Push\"])\n",
    "freqs, beta_relax_power, beta_relax_itc, instances = my_code.create_time_frequency_matrices(13, 30, 20, 115, 14, 769, epochs_ica_ptp_200[\"Relax\"])\n",
    "freqs, gamma_push_power, gamma_push_itc, instances = my_code.create_time_frequency_matrices(30, 80, 20, 115, 14, 769, epochs_ica_ptp_200[\"Push\"])\n",
    "freqs, gamma_relax_power, gamma_relax_itc, instances = my_code.create_time_frequency_matrices(30, 80, 20, 115, 14, 769, epochs_ica_ptp_200[\"Relax\"])\n",
    "alpha_beta_push_power = np.concatenate((alpha_push_power, beta_push_power), axis=3)\n",
    "alpha_beta_relax_power = np.concatenate((alpha_relax_power, beta_relax_power), axis=3)\n",
    "alpha_beta_gamma_push_power = np.concatenate((alpha_beta_push_power, gamma_push_power), axis=3)\n",
    "alpha_beta_gamma_relax_power = np.concatenate((alpha_beta_relax_power, gamma_relax_power), axis=3)"
   ]
  },
  {
   "cell_type": "code",
   "execution_count": 17,
   "metadata": {},
   "outputs": [
    {
     "data": {
      "application/vnd.jupyter.widget-view+json": {
       "model_id": "449f2a36e9d247c580f1abe7ac1c9ae5",
       "version_major": 2,
       "version_minor": 0
      },
      "text/plain": [
       "HBox(children=(FloatProgress(value=0.0, description='Fitting SlidingEstimator', max=769.0, style=ProgressStyle…"
      ]
     },
     "metadata": {},
     "output_type": "display_data"
    },
    {
     "name": "stdout",
     "output_type": "stream",
     "text": [
      "\n"
     ]
    },
    {
     "data": {
      "application/vnd.jupyter.widget-view+json": {
       "model_id": "d1f3406df04c4954928df7477386ee8d",
       "version_major": 2,
       "version_minor": 0
      },
      "text/plain": [
       "HBox(children=(FloatProgress(value=0.0, description='Fitting SlidingEstimator', max=769.0, style=ProgressStyle…"
      ]
     },
     "metadata": {},
     "output_type": "display_data"
    },
    {
     "name": "stdout",
     "output_type": "stream",
     "text": [
      "\n"
     ]
    },
    {
     "data": {
      "application/vnd.jupyter.widget-view+json": {
       "model_id": "1a12755a69694a1a99e4126bf8677e47",
       "version_major": 2,
       "version_minor": 0
      },
      "text/plain": [
       "HBox(children=(FloatProgress(value=0.0, description='Fitting SlidingEstimator', max=769.0, style=ProgressStyle…"
      ]
     },
     "metadata": {},
     "output_type": "display_data"
    },
    {
     "name": "stdout",
     "output_type": "stream",
     "text": [
      "\n"
     ]
    },
    {
     "data": {
      "application/vnd.jupyter.widget-view+json": {
       "model_id": "811ba88d79e1490ab1995d9eb8a2ac7d",
       "version_major": 2,
       "version_minor": 0
      },
      "text/plain": [
       "HBox(children=(FloatProgress(value=0.0, description='Fitting SlidingEstimator', max=769.0, style=ProgressStyle…"
      ]
     },
     "metadata": {},
     "output_type": "display_data"
    },
    {
     "name": "stdout",
     "output_type": "stream",
     "text": [
      "\n"
     ]
    },
    {
     "data": {
      "application/vnd.jupyter.widget-view+json": {
       "model_id": "b9faaa65cbb14f04841708203b64c412",
       "version_major": 2,
       "version_minor": 0
      },
      "text/plain": [
       "HBox(children=(FloatProgress(value=0.0, description='Fitting SlidingEstimator', max=769.0, style=ProgressStyle…"
      ]
     },
     "metadata": {},
     "output_type": "display_data"
    },
    {
     "name": "stdout",
     "output_type": "stream",
     "text": [
      "\n",
      "Mean cross-validation score across all timepoints: 0.543\n"
     ]
    },
    {
     "name": "stderr",
     "output_type": "stream",
     "text": [
      "C:\\Users\\domin\\Desktop\\Thesis drafting\\my_code.py:689: UserWarning: Matplotlib is currently using module://ipykernel.pylab.backend_inline, which is a non-GUI backend, so cannot show the figure.\n",
      "  fig.show()\n"
     ]
    },
    {
     "data": {
      "application/vnd.jupyter.widget-view+json": {
       "model_id": "d4a7e17441564f9a90aefdf6a3516d86",
       "version_major": 2,
       "version_minor": 0
      },
      "text/plain": [
       "HBox(children=(FloatProgress(value=0.0, description='Fitting SlidingEstimator', max=769.0, style=ProgressStyle…"
      ]
     },
     "metadata": {},
     "output_type": "display_data"
    },
    {
     "name": "stdout",
     "output_type": "stream",
     "text": [
      "\n"
     ]
    },
    {
     "data": {
      "application/vnd.jupyter.widget-view+json": {
       "model_id": "22ef9056ff5f400caf9b05ccc92bb700",
       "version_major": 2,
       "version_minor": 0
      },
      "text/plain": [
       "HBox(children=(FloatProgress(value=0.0, description='Fitting SlidingEstimator', max=769.0, style=ProgressStyle…"
      ]
     },
     "metadata": {},
     "output_type": "display_data"
    },
    {
     "name": "stdout",
     "output_type": "stream",
     "text": [
      "\n"
     ]
    },
    {
     "data": {
      "application/vnd.jupyter.widget-view+json": {
       "model_id": "382df2ad227345969268f9579225743a",
       "version_major": 2,
       "version_minor": 0
      },
      "text/plain": [
       "HBox(children=(FloatProgress(value=0.0, description='Fitting SlidingEstimator', max=769.0, style=ProgressStyle…"
      ]
     },
     "metadata": {},
     "output_type": "display_data"
    },
    {
     "name": "stdout",
     "output_type": "stream",
     "text": [
      "\n"
     ]
    },
    {
     "data": {
      "application/vnd.jupyter.widget-view+json": {
       "model_id": "ea5b5d177fc748b388246a096ea5d3e8",
       "version_major": 2,
       "version_minor": 0
      },
      "text/plain": [
       "HBox(children=(FloatProgress(value=0.0, description='Fitting SlidingEstimator', max=769.0, style=ProgressStyle…"
      ]
     },
     "metadata": {},
     "output_type": "display_data"
    },
    {
     "name": "stdout",
     "output_type": "stream",
     "text": [
      "\n"
     ]
    },
    {
     "data": {
      "application/vnd.jupyter.widget-view+json": {
       "model_id": "203d7d5c95a9408786877eca1451ff51",
       "version_major": 2,
       "version_minor": 0
      },
      "text/plain": [
       "HBox(children=(FloatProgress(value=0.0, description='Fitting SlidingEstimator', max=769.0, style=ProgressStyle…"
      ]
     },
     "metadata": {},
     "output_type": "display_data"
    },
    {
     "name": "stdout",
     "output_type": "stream",
     "text": [
      "\n",
      "Mean cross-validation score across all timepoints: 0.535\n"
     ]
    },
    {
     "name": "stderr",
     "output_type": "stream",
     "text": [
      "C:\\Users\\domin\\Desktop\\Thesis drafting\\my_code.py:689: UserWarning: Matplotlib is currently using module://ipykernel.pylab.backend_inline, which is a non-GUI backend, so cannot show the figure.\n",
      "  fig.show()\n"
     ]
    },
    {
     "data": {
      "application/vnd.jupyter.widget-view+json": {
       "model_id": "f2cce59f1ef84f2e97b9ba536a0403f9",
       "version_major": 2,
       "version_minor": 0
      },
      "text/plain": [
       "HBox(children=(FloatProgress(value=0.0, description='Fitting SlidingEstimator', max=769.0, style=ProgressStyle…"
      ]
     },
     "metadata": {},
     "output_type": "display_data"
    },
    {
     "name": "stdout",
     "output_type": "stream",
     "text": [
      "\n"
     ]
    },
    {
     "data": {
      "application/vnd.jupyter.widget-view+json": {
       "model_id": "a073ce89533e418b894e8e7627df847e",
       "version_major": 2,
       "version_minor": 0
      },
      "text/plain": [
       "HBox(children=(FloatProgress(value=0.0, description='Fitting SlidingEstimator', max=769.0, style=ProgressStyle…"
      ]
     },
     "metadata": {},
     "output_type": "display_data"
    },
    {
     "name": "stdout",
     "output_type": "stream",
     "text": [
      "\n"
     ]
    },
    {
     "data": {
      "application/vnd.jupyter.widget-view+json": {
       "model_id": "7550b44f156b4ea99726087b0bea5d34",
       "version_major": 2,
       "version_minor": 0
      },
      "text/plain": [
       "HBox(children=(FloatProgress(value=0.0, description='Fitting SlidingEstimator', max=769.0, style=ProgressStyle…"
      ]
     },
     "metadata": {},
     "output_type": "display_data"
    },
    {
     "name": "stdout",
     "output_type": "stream",
     "text": [
      "\n"
     ]
    },
    {
     "data": {
      "application/vnd.jupyter.widget-view+json": {
       "model_id": "f1edb975e50f4f5d86e9431ce652e1cd",
       "version_major": 2,
       "version_minor": 0
      },
      "text/plain": [
       "HBox(children=(FloatProgress(value=0.0, description='Fitting SlidingEstimator', max=769.0, style=ProgressStyle…"
      ]
     },
     "metadata": {},
     "output_type": "display_data"
    },
    {
     "name": "stdout",
     "output_type": "stream",
     "text": [
      "\n"
     ]
    },
    {
     "data": {
      "application/vnd.jupyter.widget-view+json": {
       "model_id": "b111280c544e47e09c6ff1613a3f6cc6",
       "version_major": 2,
       "version_minor": 0
      },
      "text/plain": [
       "HBox(children=(FloatProgress(value=0.0, description='Fitting SlidingEstimator', max=769.0, style=ProgressStyle…"
      ]
     },
     "metadata": {},
     "output_type": "display_data"
    },
    {
     "name": "stdout",
     "output_type": "stream",
     "text": [
      "\n",
      "Mean cross-validation score across all timepoints: 0.519\n"
     ]
    },
    {
     "name": "stderr",
     "output_type": "stream",
     "text": [
      "C:\\Users\\domin\\Desktop\\Thesis drafting\\my_code.py:689: UserWarning: Matplotlib is currently using module://ipykernel.pylab.backend_inline, which is a non-GUI backend, so cannot show the figure.\n",
      "  fig.show()\n"
     ]
    },
    {
     "data": {
      "image/png": "[encoded data removed]",
      "text/plain": [
       "<Figure size 432x288 with 1 Axes>"
      ]
     },
     "metadata": {
      "needs_background": "light"
     },
     "output_type": "display_data"
    },
    {
     "data": {
      "image/png": "[encoded data removed]",
      "text/plain": [
       "<Figure size 432x288 with 1 Axes>"
      ]
     },
     "metadata": {
      "needs_background": "light"
     },
     "output_type": "display_data"
    },
    {
     "data": {
      "image/png": "[encoded data removed]",
      "text/plain": [
       "<Figure size 432x288 with 1 Axes>"
      ]
     },
     "metadata": {
      "needs_background": "light"
     },
     "output_type": "display_data"
    }
   ],
   "source": [
    "# running a series of SlidingEstimators to see where the different frequencies achieve biggest accuracy\n",
    "\n",
    "alpha_push_power_channels, alpha_relax_power_channels, mean_scores_alpha = my_code.sliding_estimator(alpha_push_power, alpha_relax_power, 115, 769)\n",
    "beta_push_power_channels, beta_relax_power_channels, mean_scores_beta = my_code.sliding_estimator(beta_push_power, beta_relax_power, 115, 769)\n",
    "gamma_push_power_channels, gamma_relax_power_channels, mean_scores_gamma = my_code.sliding_estimator(gamma_push_power, gamma_relax_power, 115, 769)\n",
    "\n",
    "# repeat for every artifact rejection mix "
   ]
  },
  {
   "cell_type": "code",
   "execution_count": 18,
   "metadata": {},
   "outputs": [],
   "source": [
    "# cropping data into different times & channels based on SlidingEstimator and visual inspection of my method\n",
    "\n",
    "# based on LDA on frequency data from all epoch (choosing timepoints that gave SE an accuracy over a certain threshold)\n",
    "\n",
    "res_alpha = []\n",
    "for idx in range(0, len(mean_scores_alpha)) :\n",
    "    if mean_scores_alpha[idx] > 0.60:\n",
    "        res_alpha.append(idx)\n",
    "\n",
    "samples_alpha_push = alpha_push_power_channels[:,:,res_alpha]\n",
    "samples_alpha_relax = alpha_push_power_channels[:,:,res_alpha]\n",
    "\n",
    "# based on my own visual inspection\n",
    "\n",
    "    #visualinspection_alpha_push = alpha_push_power_channels[:,:,my_timepoints]\n",
    "    #visualinspection_alpha_relax = alpha_push_power_channels[:,:,my_timepoints]\n",
    "\n",
    "# cropping channels based on my own visual inspection \n",
    "\n",
    "    # e.g. choosing only O2, F8, F7, AF4, P7 for alpha frequencies; channel indices: O2 - 7, F8 - 12, F7 - 1, AF3 - 13, P7 - 5\n",
    "    \n",
    "\n",
    "alpha_push_power_croppedchannels = my_code.select_channels((7,12,1,13,5), alpha_push_power, 115, 769)\n",
    "alpha_relax_power_croppedchannels = my_code.select_channels((7,12,1,13,5), alpha_relax_power, 115, 769)"
   ]
  },
  {
   "cell_type": "code",
   "execution_count": 19,
   "metadata": {},
   "outputs": [
    {
     "name": "stdout",
     "output_type": "stream",
     "text": [
      "LDA Classification accuracy: 0.5782608695652175\n"
     ]
    },
    {
     "name": "stderr",
     "output_type": "stream",
     "text": [
      "D:\\Anaconda\\envs\\tf\\lib\\site-packages\\sklearn\\utils\\validation.py:70: FutureWarning: Pass test_size=10 as keyword args. From version 1.0 (renaming of 0.25) passing these as positional arguments will result in an error\n",
      "  warnings.warn(f\"Pass {args_msg} as keyword args. From version \"\n"
     ]
    },
    {
     "name": "stdout",
     "output_type": "stream",
     "text": [
      "SVM Classification score: 0.6308695652173911 (std. 0.15839996276564836)\n",
      "LDA Classification accuracy: 0.6108695652173913\n"
     ]
    },
    {
     "name": "stderr",
     "output_type": "stream",
     "text": [
      "D:\\Anaconda\\envs\\tf\\lib\\site-packages\\sklearn\\utils\\validation.py:70: FutureWarning: Pass test_size=10 as keyword args. From version 1.0 (renaming of 0.25) passing these as positional arguments will result in an error\n",
      "  warnings.warn(f\"Pass {args_msg} as keyword args. From version \"\n"
     ]
    },
    {
     "name": "stdout",
     "output_type": "stream",
     "text": [
      "SVM Classification score: 0.6143478260869565 (std. 0.1518387613615043)\n",
      "LDA Classification accuracy: 0.532608695652174\n"
     ]
    },
    {
     "name": "stderr",
     "output_type": "stream",
     "text": [
      "D:\\Anaconda\\envs\\tf\\lib\\site-packages\\sklearn\\utils\\validation.py:70: FutureWarning: Pass test_size=10 as keyword args. From version 1.0 (renaming of 0.25) passing these as positional arguments will result in an error\n",
      "  warnings.warn(f\"Pass {args_msg} as keyword args. From version \"\n"
     ]
    },
    {
     "name": "stdout",
     "output_type": "stream",
     "text": [
      "SVM Classification score: 0.5539130434782609 (std. 0.1685162649983618)\n",
      "LDA Classification accuracy: 0.6347826086956522\n"
     ]
    },
    {
     "name": "stderr",
     "output_type": "stream",
     "text": [
      "D:\\Anaconda\\envs\\tf\\lib\\site-packages\\sklearn\\utils\\validation.py:70: FutureWarning: Pass test_size=10 as keyword args. From version 1.0 (renaming of 0.25) passing these as positional arguments will result in an error\n",
      "  warnings.warn(f\"Pass {args_msg} as keyword args. From version \"\n"
     ]
    },
    {
     "name": "stdout",
     "output_type": "stream",
     "text": [
      "SVM Classification score: 0.6230434782608695 (std. 0.15753356530148538)\n",
      "LDA Classification accuracy: 0.65\n"
     ]
    },
    {
     "name": "stderr",
     "output_type": "stream",
     "text": [
      "D:\\Anaconda\\envs\\tf\\lib\\site-packages\\sklearn\\utils\\validation.py:70: FutureWarning: Pass test_size=10 as keyword args. From version 1.0 (renaming of 0.25) passing these as positional arguments will result in an error\n",
      "  warnings.warn(f\"Pass {args_msg} as keyword args. From version \"\n"
     ]
    },
    {
     "name": "stdout",
     "output_type": "stream",
     "text": [
      "SVM Classification score: 0.6234782608695651 (std. 0.1551046966365447)\n"
     ]
    }
   ],
   "source": [
    "# classifying different combinations of the TF data by LDA, SVM and DL architectures\n",
    "\n",
    "# alpha frequencies from different artifact mixes \n",
    "\n",
    "    # e.g. \n",
    "\n",
    "alpha_mix1_data, alpha_scores_lda_mix1 = my_code.run_lda(alpha_push_power, alpha_relax_power, 115)\n",
    "alpha_mix1_data, alpha_scores_svm_mix1 = my_code.run_svm(alpha_push_power, alpha_relax_power, 115)\n",
    "\n",
    "# beta frequencies from different artifact mixes \n",
    "\n",
    "    # e.g. \n",
    "\n",
    "beta_mix1_data, beta_scores_lda_mix1 = my_code.run_lda(beta_push_power, beta_relax_power, 115)\n",
    "beta_mix1_data, beta_scores_svm_mix1 = my_code.run_svm(beta_push_power, beta_relax_power, 115)\n",
    "\n",
    "# gamma frequencies from different artifact mixes \n",
    "\n",
    "    # e.g. \n",
    "\n",
    "gamma_mix1_data, gamma_scores_lda_mix1 = my_code.run_lda(gamma_push_power, gamma_relax_power, 115)\n",
    "gamma_mix1_data, gamma_scores_svm_mix1 = my_code.run_svm(gamma_push_power, gamma_relax_power, 115)\n",
    "\n",
    "# alpha&beta frequencies from different artifact mixes \n",
    "\n",
    "    # e.g. \n",
    "\n",
    "alpha_beta_mix1_data, alpha_beta_scores_lda_mix1 = my_code.run_lda(alpha_beta_push_power, alpha_beta_relax_power, 115)\n",
    "alpha_beta_mix1_data, alpha_beta_scores_svm_mix1 = my_code.run_svm(alpha_beta_push_power, alpha_beta_relax_power, 115)\n",
    "\n",
    "# alpha, beta&gamma frequencies from different artifact mixes \n",
    "\n",
    "    # e.g. \n",
    "\n",
    "alpha_beta_gamma_mix1_data, alpha_beta_gamma_scores_lda_mix1 = my_code.run_lda(alpha_beta_gamma_push_power, alpha_beta_gamma_relax_power, 115)\n",
    "alpha_beta_gamma_mix1_data, alpha_beta_gamma_scores_svm_mix1 = my_code.run_svm(alpha_beta_gamma_push_power, alpha_beta_gamma_relax_power, 115)\n",
    "\n"
   ]
  },
  {
   "cell_type": "code",
   "execution_count": 20,
   "metadata": {},
   "outputs": [
    {
     "name": "stdout",
     "output_type": "stream",
     "text": [
      "LDA Classification accuracy: 0.29130434782608694\n"
     ]
    },
    {
     "name": "stderr",
     "output_type": "stream",
     "text": [
      "D:\\Anaconda\\envs\\tf\\lib\\site-packages\\sklearn\\utils\\validation.py:70: FutureWarning: Pass test_size=10 as keyword args. From version 1.0 (renaming of 0.25) passing these as positional arguments will result in an error\n",
      "  warnings.warn(f\"Pass {args_msg} as keyword args. From version \"\n"
     ]
    },
    {
     "name": "stdout",
     "output_type": "stream",
     "text": [
      "SVM Classification score: 0.23478260869565218 (std. 0.10218778814207018)\n",
      "LDA Classification accuracy: 0.582608695652174\n"
     ]
    },
    {
     "name": "stderr",
     "output_type": "stream",
     "text": [
      "D:\\Anaconda\\envs\\tf\\lib\\site-packages\\sklearn\\utils\\validation.py:70: FutureWarning: Pass test_size=10 as keyword args. From version 1.0 (renaming of 0.25) passing these as positional arguments will result in an error\n",
      "  warnings.warn(f\"Pass {args_msg} as keyword args. From version \"\n"
     ]
    },
    {
     "name": "stdout",
     "output_type": "stream",
     "text": [
      "SVM Classification score: 0.5491304347826087 (std. 0.16171399991768237)\n"
     ]
    }
   ],
   "source": [
    "# classification of alpha frequencies at timpoints where SE accuracy was higher than 65%\n",
    "\n",
    "alpha_samples_mix1_data, alpha_samples_scores_lda_mix1 = my_code.run_lda(samples_alpha_push, samples_alpha_relax, 115)\n",
    "alpha_samples_mix1_data, alpha_samples_scores_svm_mix1 = my_code.run_svm(samples_alpha_push, samples_alpha_relax, 115)\n",
    "\n",
    "# classification of alpha frequencies from different channels based on visual inspection \n",
    "\n",
    "alpha_cropped_channels_mix1_data, alpha_cropped_channels_scores_lda_mix1  = my_code.run_lda(alpha_push_power_croppedchannels, alpha_relax_power_croppedchannels, 115)\n",
    "alpha_cropped_channels_mix1_data, alpha_cropped_channels_scores_svm_mix1 = my_code.run_svm(alpha_push_power_croppedchannels, alpha_relax_power_croppedchannels, 115)\n",
    "\n",
    "\n",
    "# repeat those combination for the rest of frequency bands and the rest of artifact rejection mixes \n"
   ]
  },
  {
   "cell_type": "code",
   "execution_count": null,
   "metadata": {},
   "outputs": [],
   "source": [
    "# using pyEEG module to extract the features\n",
    "# TO MODULARIZE THE CODE\n",
    "\n",
    "\n",
    "import pyeeg\n",
    "\n",
    "channels_list = np.arange(14)\n",
    "channels_list\n",
    "instances = np.arange(115)\n",
    "print(instances.shape)\n",
    "\n",
    "push_epochs_data = epochs_all[\"Push\"]\n",
    "relax_epochs_data = epochs_all[\"Relax\"]\n",
    "\n",
    "push_epochs_data = push_epochs_data.get_data()\n",
    "relax_epochs_data = relax_epochs_data.get_data()\n",
    "\n",
    "\n",
    "\n",
    "\n",
    "#### Extracting DFA parameters\n",
    "\n",
    "dfa_per_channel_push = np.zeros(shape=(14))\n",
    "dfa_epochs_over_channels_push = np.zeros(shape=(115, 14))\n",
    "dfa_per_channel_relax = np.zeros(shape=(14))\n",
    "dfa_epochs_over_channels_relax = np.zeros(shape=(115, 14))\n",
    "\n",
    "for instance in instances:\n",
    "    \n",
    "    for channel in channels_list:\n",
    "        dfa_push = pyeeg.dfa(push_epochs_data[instance, channel])\n",
    "        dfa_per_channel_push[channel]=dfa_push\n",
    "        dfa_relax = pyeeg.dfa(relax_epochs_data[instance, channel])\n",
    "        dfa_per_channel_relax[channel]=dfa_relax\n",
    "    \n",
    "    dfa_epochs_over_channels_push[instance] = dfa_per_channel_push\n",
    "    dfa_epochs_over_channels_relax[instance] = dfa_per_channel_relax\n",
    "\n",
    "print(dfa_epochs_over_channels_push.shape)\n",
    "print(dfa_epochs_over_channels_relax.shape)\n",
    "\n",
    "#### Extracting Fisher Information\n",
    "\n",
    "fi_per_channel_push = np.zeros(shape=(14))\n",
    "fi_epochs_over_channels_push = np.zeros(shape=(115, 14))\n",
    "fi_per_channel_relax = np.zeros(shape=(14))\n",
    "fi_epochs_over_channels_relax = np.zeros(shape=(115, 14))\n",
    "\n",
    "for instance in instances:\n",
    "    \n",
    "    for channel in channels_list:\n",
    "        fi_push = pyeeg.fisher_info(push_epochs_data[instance, channel],1, 2)\n",
    "        fi_per_channel_push[channel]=fi_push\n",
    "        fi_relax = pyeeg.fisher_info(relax_epochs_data[instance, channel], 1,2)\n",
    "        fi_per_channel_relax[channel]=fi_relax\n",
    "    \n",
    "    fi_epochs_over_channels_push[instance] =  fi_per_channel_push\n",
    "    fi_epochs_over_channels_relax[instance] =  fi_per_channel_relax\n",
    "\n",
    "print(fi_epochs_over_channels_push.shape)\n",
    "print(fi_epochs_over_channels_relax.shape)\n",
    "\n",
    "#### Extracting Hurst Exponent\n",
    "\n",
    "pyeeg.hurst(push_epochs_data[6, 4])\n",
    "\n",
    "he_per_channel_push = np.zeros(shape=(14))\n",
    "he_epochs_over_channels_push = np.zeros(shape=(115, 14))\n",
    "he_per_channel_relax = np.zeros(shape=(14))\n",
    "he_epochs_over_channels_relax = np.zeros(shape=(115, 14))\n",
    "\n",
    "for instance in instances:\n",
    "    \n",
    "    for channel in channels_list:\n",
    "        he_push = pyeeg.hurst(push_epochs_data[instance, channel])\n",
    "        he_per_channel_push[channel]=he_push\n",
    "        he_relax = pyeeg.hurst(push_epochs_data[instance, channel])\n",
    "        he_per_channel_relax[channel]=he_relax\n",
    "    \n",
    "    he_epochs_over_channels_push[instance] =  he_per_channel_push\n",
    "    he_epochs_over_channels_relax[instance] =  he_per_channel_relax\n",
    "\n",
    "print(he_epochs_over_channels_push.shape)\n",
    "print(he_epochs_over_channels_relax.shape)\n",
    "\n",
    "#### Extracting Hjorth Fractal Dimension \n",
    "\n",
    "### according to a paper saved in my feature extraction folder, value of 18 is best for kmax argument of hfd\n",
    "\n",
    "pyeeg.hfd(push_epochs_data[6, 4],18)\n",
    "\n",
    "hfd_per_channel_push = np.zeros(shape=(14))\n",
    "hfd_epochs_over_channels_push = np.zeros(shape=(115, 14))\n",
    "hfd_per_channel_relax = np.zeros(shape=(14))\n",
    "hfd_epochs_over_channels_relax = np.zeros(shape=(115, 14))\n",
    "\n",
    "for instance in instances:\n",
    "    \n",
    "    for channel in channels_list:\n",
    "        hfd_push = pyeeg.hfd(push_epochs_data[instance, channel], 18)\n",
    "        hfd_per_channel_push[channel]=hfd_push\n",
    "        hfd_relax = pyeeg.hfd(push_epochs_data[instance, channel], 18)\n",
    "        hfd_per_channel_relax[channel]=hfd_relax\n",
    "    \n",
    "    hfd_epochs_over_channels_push[instance] =  hfd_per_channel_push\n",
    "    hfd_epochs_over_channels_relax[instance] =  hfd_per_channel_relax\n",
    "\n",
    "print(hfd_epochs_over_channels_push.shape)\n",
    "print(hfd_epochs_over_channels_relax.shape)\n",
    "\n",
    "#### Extracting Hjorth Mobility & Complexity\n",
    "\n",
    "\n",
    "# first is mobility\n",
    "# second is complexity\n",
    "\n",
    "hm_per_channel_push = np.zeros(shape=(14))\n",
    "hm_epochs_over_channels_push = np.zeros(shape=(115, 14))\n",
    "hc_per_channel_push = np.zeros(shape=(14))\n",
    "hc_epochs_over_channels_push = np.zeros(shape=(115, 14))\n",
    "hm_per_channel_relax = np.zeros(shape=(14))\n",
    "hm_epochs_over_channels_relax = np.zeros(shape=(115, 14))\n",
    "hc_per_channel_relax = np.zeros(shape=(14))\n",
    "hc_epochs_over_channels_relax = np.zeros(shape=(115, 14))\n",
    "\n",
    "for instance in instances:\n",
    "    \n",
    "    for channel in channels_list:\n",
    "        hmc_push = pyeeg.hjorth(push_epochs_data[instance, channel])\n",
    "        hm_per_channel_push[channel]=hmc_push[0]\n",
    "        hc_per_channel_push[channel]=hmc_push[1]\n",
    "        hmc_relax = pyeeg.hjorth(push_epochs_data[instance, channel])\n",
    "        hm_per_channel_relax[channel]=hmc_relax[0]\n",
    "        hc_per_channel_relax[channel]=hmc_relax[1]\n",
    "    \n",
    "    hm_epochs_over_channels_push[instance] =  hm_per_channel_push\n",
    "    hc_epochs_over_channels_push[instance] =  hc_per_channel_push\n",
    "    hm_epochs_over_channels_relax[instance] =  hm_per_channel_relax\n",
    "    hc_epochs_over_channels_relax[instance] =  hc_per_channel_relax\n",
    "\n",
    "print(hm_epochs_over_channels_push.shape)\n",
    "print(hc_epochs_over_channels_relax.shape)\n",
    "print(hm_epochs_over_channels_push.shape)\n",
    "print(hc_epochs_over_channels_relax.shape)\n",
    "\n",
    "#### Extracting Petrosian Fractal Dimension\n",
    "\n",
    "\n",
    "pfd_per_channel_push = np.zeros(shape=(14))\n",
    "pfd_epochs_over_channels_push = np.zeros(shape=(115, 14))\n",
    "pfd_per_channel_relax = np.zeros(shape=(14))\n",
    "pfd_epochs_over_channels_relax = np.zeros(shape=(115, 14))\n",
    "\n",
    "for instance in instances:\n",
    "    \n",
    "    for channel in channels_list:\n",
    "        pfd_push = pyeeg.pfd(push_epochs_data[instance, channel])\n",
    "        pfd_per_channel_push[channel]=pfd_push\n",
    "        pfd_relax = pyeeg.pfd(push_epochs_data[instance, channel])\n",
    "        pfd_per_channel_relax[channel]=pfd_relax\n",
    "    \n",
    "    pfd_epochs_over_channels_push[instance] =  pfd_per_channel_push\n",
    "    pfd_epochs_over_channels_relax[instance] =  pfd_per_channel_relax\n",
    "\n",
    "print(pfd_epochs_over_channels_push.shape)\n",
    "print(pfd_epochs_over_channels_relax.shape)"
   ]
  },
  {
   "cell_type": "code",
   "execution_count": 21,
   "metadata": {},
   "outputs": [
    {
     "name": "stdout",
     "output_type": "stream",
     "text": [
      "LDA Classification accuracy: 0.086957 / Chance level: 0.500000\n",
      "LDA Classification accuracy: 0.456522 / Chance level: 0.500000\n",
      "LDA Classification accuracy: 0.415217 / Chance level: 0.500000\n",
      "LDA Classification accuracy: 0.313043 / Chance level: 0.500000\n",
      "LDA Classification accuracy: 0.308696 / Chance level: 0.500000\n",
      "LDA Classification accuracy: 0.328261 / Chance level: 0.500000\n",
      "LDA Classification accuracy: 0.330435 / Chance level: 0.500000\n",
      "LDA Classification accuracy: 0.286957 / Chance level: 0.500000\n"
     ]
    }
   ],
   "source": [
    "# classifying different combinations of the pyEEG features by LDA, SVM and DL architectures\n",
    "\n",
    "### Running those PyEEG features through LDA\n",
    "\n",
    "from sklearn.pipeline import Pipeline\n",
    "from sklearn.discriminant_analysis import LinearDiscriminantAnalysis\n",
    "from sklearn.model_selection import ShuffleSplit, cross_val_score\n",
    "\n",
    "scores = []\n",
    "all_data = all_pyeeg_features\n",
    "all_data_train = all_pyeeg_features.copy()\n",
    "cv = ShuffleSplit(10, test_size=0.2, random_state=42)\n",
    "cv_split = cv.split(all_data_train)\n",
    "labels = np.concatenate((np.ones(shape=(115)), np.zeros(shape=(115))), axis = 0)\n",
    "\n",
    "# Assemble a classifier\n",
    "lda = LinearDiscriminantAnalysis()\n",
    "\n",
    "# Use scikit-learn Pipeline with cross_val_score function\n",
    "clf = Pipeline([('LDA', lda)])\n",
    "scores = cross_val_score(clf, all_data_train, labels, cv=cv, n_jobs=1)\n",
    "\n",
    "# Printing the results\n",
    "class_balance = np.mean(labels == labels[0])\n",
    "class_balance = max(class_balance, 1. - class_balance)\n",
    "print(\"LDA Classification accuracy: %f / Chance level: %f\" % (np.mean(scores),\n",
    "                                                          class_balance))\n",
    "\n",
    "\n",
    "### Running feature-by-feature through LDA \n",
    "\n",
    "fi_epochs_over_channels = np.concatenate((fi_epochs_over_channels_push, fi_epochs_over_channels_relax), axis = 0)\n",
    "dfa_epochs_over_channels = np.concatenate((dfa_epochs_over_channels_push, dfa_epochs_over_channels_relax), axis = 0)\n",
    "he_epochs_over_channels = np.concatenate((he_epochs_over_channels_push, he_epochs_over_channels_relax), axis = 0)\n",
    "hfd_epochs_over_channels = np.concatenate((hfd_epochs_over_channels_push, hfd_epochs_over_channels_relax), axis = 0)\n",
    "hm_epochs_over_channels = np.concatenate((hm_epochs_over_channels_push, hm_epochs_over_channels_relax), axis = 0)\n",
    "hc_epochs_over_channels = np.concatenate((hc_epochs_over_channels_push, hc_epochs_over_channels_relax), axis = 0)\n",
    "pfd_epochs_over_channels = np.concatenate((pfd_epochs_over_channels_push, pfd_epochs_over_channels_relax), axis = 0)\n",
    "features_list = fi_epochs_over_channels, dfa_epochs_over_channels, he_epochs_over_channels, hfd_epochs_over_channels, hm_epochs_over_channels, hc_epochs_over_channels, pfd_epochs_over_channels\n",
    "\n",
    "for item in features_list:     \n",
    "    \n",
    "    push = np.ones(shape=(115))\n",
    "    relax = np.zeros(shape=(115))\n",
    "    labels = np.concatenate((push ,relax), axis = 0)\n",
    "    \n",
    "\n",
    "    from sklearn.pipeline import Pipeline\n",
    "    from sklearn.discriminant_analysis import LinearDiscriminantAnalysis\n",
    "    from sklearn.model_selection import ShuffleSplit, cross_val_score\n",
    "\n",
    "    scores = []\n",
    "    all_data = item\n",
    "    all_data_train = item.copy()\n",
    "    cv = ShuffleSplit(10, test_size=0.2, random_state=42)\n",
    "    cv_split = cv.split(all_data_train)\n",
    "\n",
    "# Use scikit-learn Pipeline with cross_val_score function\n",
    "    scores = cross_val_score(clf, all_data_train, labels, cv=cv, n_jobs=1)\n",
    "\n",
    "# Printing the results\n",
    "    class_balance = np.mean(labels == labels[0])\n",
    "    class_balance = max(class_balance, 1. - class_balance)\n",
    "    print(\"LDA Classification accuracy: %f / Chance level: %f\" % (np.mean(scores),\n",
    "                                                          class_balance))\n",
    "    \n",
    "    \n",
    "\n",
    "    \n",
    "### Running those PyEEG features through SVM\n",
    "\n"
   ]
  },
  {
   "cell_type": "code",
   "execution_count": 22,
   "metadata": {},
   "outputs": [],
   "source": [
    "# carrying out Principal Comonent Analysis (PCA) to extract features\n",
    "\n",
    "# TO FINISH"
   ]
  },
  {
   "cell_type": "code",
   "execution_count": 23,
   "metadata": {},
   "outputs": [],
   "source": [
    "# classifying PCA features by LDA, SVM and DL architectures\n",
    "\n",
    "# TO FINISH"
   ]
  },
  {
   "cell_type": "code",
   "execution_count": 24,
   "metadata": {},
   "outputs": [],
   "source": [
    "# carrying out Common Spatial Patterns (CSP) to extract features & classifying CSP features by LDA, SVM and DL architectures"
   ]
  },
  {
   "cell_type": "code",
   "execution_count": 26,
   "metadata": {},
   "outputs": [
    {
     "name": "stdout",
     "output_type": "stream",
     "text": [
      "Computing rank from data with rank=None\n",
      "    Using tolerance 4.7e-09 (2.2e-16 eps * 14 dim * 1.5e+06  max singular value)\n",
      "    Estimated rank (mag): 14\n",
      "    MAG: rank 14 computed from 14 data channels with 0 projectors\n",
      "Reducing data rank from 14 -> 14\n",
      "Estimating covariance using EMPIRICAL\n",
      "Done.\n",
      "Computing rank from data with rank=None\n",
      "    Using tolerance 4.7e-09 (2.2e-16 eps * 14 dim * 1.5e+06  max singular value)\n",
      "    Estimated rank (mag): 14\n",
      "    MAG: rank 14 computed from 14 data channels with 0 projectors\n",
      "Reducing data rank from 14 -> 14\n",
      "Estimating covariance using EMPIRICAL\n",
      "Done.\n",
      "Computing rank from data with rank=None\n",
      "    Using tolerance 4.7e-09 (2.2e-16 eps * 14 dim * 1.5e+06  max singular value)\n",
      "    Estimated rank (mag): 14\n",
      "    MAG: rank 14 computed from 14 data channels with 0 projectors\n",
      "Reducing data rank from 14 -> 14\n",
      "Estimating covariance using EMPIRICAL\n",
      "Done.\n",
      "Computing rank from data with rank=None\n",
      "    Using tolerance 4.7e-09 (2.2e-16 eps * 14 dim * 1.5e+06  max singular value)\n",
      "    Estimated rank (mag): 14\n",
      "    MAG: rank 14 computed from 14 data channels with 0 projectors\n",
      "Reducing data rank from 14 -> 14\n",
      "Estimating covariance using EMPIRICAL\n",
      "Done.\n",
      "Computing rank from data with rank=None\n",
      "    Using tolerance 4.8e-09 (2.2e-16 eps * 14 dim * 1.6e+06  max singular value)\n",
      "    Estimated rank (mag): 14\n",
      "    MAG: rank 14 computed from 14 data channels with 0 projectors\n",
      "Reducing data rank from 14 -> 14\n",
      "Estimating covariance using EMPIRICAL\n",
      "Done.\n",
      "Computing rank from data with rank=None\n",
      "    Using tolerance 4.7e-09 (2.2e-16 eps * 14 dim * 1.5e+06  max singular value)\n",
      "    Estimated rank (mag): 14\n",
      "    MAG: rank 14 computed from 14 data channels with 0 projectors\n",
      "Reducing data rank from 14 -> 14\n",
      "Estimating covariance using EMPIRICAL\n",
      "Done.\n",
      "Computing rank from data with rank=None\n",
      "    Using tolerance 4.9e-09 (2.2e-16 eps * 14 dim * 1.6e+06  max singular value)\n",
      "    Estimated rank (mag): 14\n",
      "    MAG: rank 14 computed from 14 data channels with 0 projectors\n",
      "Reducing data rank from 14 -> 14\n",
      "Estimating covariance using EMPIRICAL\n",
      "Done.\n",
      "Computing rank from data with rank=None\n",
      "    Using tolerance 4.5e-09 (2.2e-16 eps * 14 dim * 1.4e+06  max singular value)\n",
      "    Estimated rank (mag): 14\n",
      "    MAG: rank 14 computed from 14 data channels with 0 projectors\n",
      "Reducing data rank from 14 -> 14\n",
      "Estimating covariance using EMPIRICAL\n",
      "Done.\n",
      "Computing rank from data with rank=None\n",
      "    Using tolerance 4.9e-09 (2.2e-16 eps * 14 dim * 1.6e+06  max singular value)\n",
      "    Estimated rank (mag): 14\n",
      "    MAG: rank 14 computed from 14 data channels with 0 projectors\n",
      "Reducing data rank from 14 -> 14\n",
      "Estimating covariance using EMPIRICAL\n",
      "Done.\n",
      "Computing rank from data with rank=None\n",
      "    Using tolerance 4.6e-09 (2.2e-16 eps * 14 dim * 1.5e+06  max singular value)\n",
      "    Estimated rank (mag): 14\n",
      "    MAG: rank 14 computed from 14 data channels with 0 projectors\n",
      "Reducing data rank from 14 -> 14\n",
      "Estimating covariance using EMPIRICAL\n",
      "Done.\n",
      "0.4642722117202268\n",
      "Computing rank from data with rank=None\n",
      "    Using tolerance 9.7e-10 (2.2e-16 eps * 14 dim * 3.1e+05  max singular value)\n",
      "    Estimated rank (mag): 14\n",
      "    MAG: rank 14 computed from 14 data channels with 0 projectors\n",
      "Reducing data rank from 14 -> 14\n",
      "Estimating covariance using EMPIRICAL\n",
      "Done.\n",
      "Computing rank from data with rank=None\n",
      "    Using tolerance 1e-09 (2.2e-16 eps * 14 dim * 3.2e+05  max singular value)\n",
      "    Estimated rank (mag): 14\n",
      "    MAG: rank 14 computed from 14 data channels with 0 projectors\n",
      "Reducing data rank from 14 -> 14\n",
      "Estimating covariance using EMPIRICAL\n",
      "Done.\n",
      "Computing rank from data with rank=None\n",
      "    Using tolerance 9.8e-10 (2.2e-16 eps * 14 dim * 3.1e+05  max singular value)\n",
      "    Estimated rank (mag): 14\n",
      "    MAG: rank 14 computed from 14 data channels with 0 projectors\n",
      "Reducing data rank from 14 -> 14\n",
      "Estimating covariance using EMPIRICAL\n",
      "Done.\n",
      "Computing rank from data with rank=None\n",
      "    Using tolerance 1e-09 (2.2e-16 eps * 14 dim * 3.2e+05  max singular value)\n",
      "    Estimated rank (mag): 14\n",
      "    MAG: rank 14 computed from 14 data channels with 0 projectors\n",
      "Reducing data rank from 14 -> 14\n",
      "Estimating covariance using EMPIRICAL\n",
      "Done.\n",
      "Computing rank from data with rank=None\n",
      "    Using tolerance 9.6e-10 (2.2e-16 eps * 14 dim * 3.1e+05  max singular value)\n",
      "    Estimated rank (mag): 14\n",
      "    MAG: rank 14 computed from 14 data channels with 0 projectors\n",
      "Reducing data rank from 14 -> 14\n",
      "Estimating covariance using EMPIRICAL\n",
      "Done.\n",
      "Computing rank from data with rank=None\n",
      "    Using tolerance 1e-09 (2.2e-16 eps * 14 dim * 3.2e+05  max singular value)\n",
      "    Estimated rank (mag): 14\n",
      "    MAG: rank 14 computed from 14 data channels with 0 projectors\n",
      "Reducing data rank from 14 -> 14\n",
      "Estimating covariance using EMPIRICAL\n",
      "Done.\n",
      "Computing rank from data with rank=None\n",
      "    Using tolerance 9.9e-10 (2.2e-16 eps * 14 dim * 3.2e+05  max singular value)\n",
      "    Estimated rank (mag): 14\n",
      "    MAG: rank 14 computed from 14 data channels with 0 projectors\n",
      "Reducing data rank from 14 -> 14\n",
      "Estimating covariance using EMPIRICAL\n",
      "Done.\n",
      "Computing rank from data with rank=None\n",
      "    Using tolerance 1e-09 (2.2e-16 eps * 14 dim * 3.2e+05  max singular value)\n",
      "    Estimated rank (mag): 14\n",
      "    MAG: rank 14 computed from 14 data channels with 0 projectors\n",
      "Reducing data rank from 14 -> 14\n",
      "Estimating covariance using EMPIRICAL\n",
      "Done.\n",
      "Computing rank from data with rank=None\n",
      "    Using tolerance 9.8e-10 (2.2e-16 eps * 14 dim * 3.2e+05  max singular value)\n",
      "    Estimated rank (mag): 14\n",
      "    MAG: rank 14 computed from 14 data channels with 0 projectors\n",
      "Reducing data rank from 14 -> 14\n",
      "Estimating covariance using EMPIRICAL\n",
      "Done.\n",
      "Computing rank from data with rank=None\n",
      "    Using tolerance 1e-09 (2.2e-16 eps * 14 dim * 3.2e+05  max singular value)\n",
      "    Estimated rank (mag): 14\n",
      "    MAG: rank 14 computed from 14 data channels with 0 projectors\n",
      "Reducing data rank from 14 -> 14\n",
      "Estimating covariance using EMPIRICAL\n",
      "Done.\n",
      "0.539508506616257\n",
      "Computing rank from data with rank=None\n",
      "    Using tolerance 1.6e-10 (2.2e-16 eps * 14 dim * 5.1e+04  max singular value)\n",
      "    Estimated rank (mag): 14\n",
      "    MAG: rank 14 computed from 14 data channels with 0 projectors\n",
      "Reducing data rank from 14 -> 14\n",
      "Estimating covariance using EMPIRICAL\n",
      "Done.\n",
      "Computing rank from data with rank=None\n",
      "    Using tolerance 1.6e-10 (2.2e-16 eps * 14 dim * 5.3e+04  max singular value)\n",
      "    Estimated rank (mag): 14\n",
      "    MAG: rank 14 computed from 14 data channels with 0 projectors\n",
      "Reducing data rank from 14 -> 14\n",
      "Estimating covariance using EMPIRICAL\n",
      "Done.\n",
      "Computing rank from data with rank=None\n",
      "    Using tolerance 1.5e-10 (2.2e-16 eps * 14 dim * 4.9e+04  max singular value)\n",
      "    Estimated rank (mag): 14\n",
      "    MAG: rank 14 computed from 14 data channels with 0 projectors\n",
      "Reducing data rank from 14 -> 14\n",
      "Estimating covariance using EMPIRICAL\n",
      "Done.\n",
      "Computing rank from data with rank=None\n",
      "    Using tolerance 1.6e-10 (2.2e-16 eps * 14 dim * 5e+04  max singular value)\n",
      "    Estimated rank (mag): 14\n",
      "    MAG: rank 14 computed from 14 data channels with 0 projectors\n",
      "Reducing data rank from 14 -> 14\n",
      "Estimating covariance using EMPIRICAL\n",
      "Done.\n",
      "Computing rank from data with rank=None\n",
      "    Using tolerance 1.6e-10 (2.2e-16 eps * 14 dim * 5.1e+04  max singular value)\n",
      "    Estimated rank (mag): 14\n",
      "    MAG: rank 14 computed from 14 data channels with 0 projectors\n",
      "Reducing data rank from 14 -> 14\n",
      "Estimating covariance using EMPIRICAL\n",
      "Done.\n",
      "Computing rank from data with rank=None\n",
      "    Using tolerance 1.7e-10 (2.2e-16 eps * 14 dim * 5.4e+04  max singular value)\n",
      "    Estimated rank (mag): 14\n",
      "    MAG: rank 14 computed from 14 data channels with 0 projectors\n",
      "Reducing data rank from 14 -> 14\n",
      "Estimating covariance using EMPIRICAL\n",
      "Done.\n",
      "Computing rank from data with rank=None\n",
      "    Using tolerance 1.6e-10 (2.2e-16 eps * 14 dim * 5.1e+04  max singular value)\n",
      "    Estimated rank (mag): 14\n",
      "    MAG: rank 14 computed from 14 data channels with 0 projectors\n",
      "Reducing data rank from 14 -> 14\n",
      "Estimating covariance using EMPIRICAL\n",
      "Done.\n",
      "Computing rank from data with rank=None\n",
      "    Using tolerance 1.7e-10 (2.2e-16 eps * 14 dim * 5.4e+04  max singular value)\n",
      "    Estimated rank (mag): 14\n",
      "    MAG: rank 14 computed from 14 data channels with 0 projectors\n",
      "Reducing data rank from 14 -> 14\n",
      "Estimating covariance using EMPIRICAL\n"
     ]
    },
    {
     "name": "stdout",
     "output_type": "stream",
     "text": [
      "Done.\n",
      "Computing rank from data with rank=None\n",
      "    Using tolerance 1.6e-10 (2.2e-16 eps * 14 dim * 5e+04  max singular value)\n",
      "    Estimated rank (mag): 14\n",
      "    MAG: rank 14 computed from 14 data channels with 0 projectors\n",
      "Reducing data rank from 14 -> 14\n",
      "Estimating covariance using EMPIRICAL\n",
      "Done.\n",
      "Computing rank from data with rank=None\n",
      "    Using tolerance 1.7e-10 (2.2e-16 eps * 14 dim * 5.4e+04  max singular value)\n",
      "    Estimated rank (mag): 14\n",
      "    MAG: rank 14 computed from 14 data channels with 0 projectors\n",
      "Reducing data rank from 14 -> 14\n",
      "Estimating covariance using EMPIRICAL\n",
      "Done.\n",
      "0.509640831758034\n",
      "Computing rank from data with rank=None\n",
      "    Using tolerance 4.8e-09 (2.2e-16 eps * 14 dim * 1.6e+06  max singular value)\n",
      "    Estimated rank (mag): 14\n",
      "    MAG: rank 14 computed from 14 data channels with 0 projectors\n",
      "Reducing data rank from 14 -> 14\n",
      "Estimating covariance using EMPIRICAL\n",
      "Done.\n",
      "Computing rank from data with rank=None\n",
      "    Using tolerance 4.8e-09 (2.2e-16 eps * 14 dim * 1.6e+06  max singular value)\n",
      "    Estimated rank (mag): 14\n",
      "    MAG: rank 14 computed from 14 data channels with 0 projectors\n",
      "Reducing data rank from 14 -> 14\n",
      "Estimating covariance using EMPIRICAL\n",
      "Done.\n",
      "Computing rank from data with rank=None\n",
      "    Using tolerance 4.8e-09 (2.2e-16 eps * 14 dim * 1.5e+06  max singular value)\n",
      "    Estimated rank (mag): 14\n",
      "    MAG: rank 14 computed from 14 data channels with 0 projectors\n",
      "Reducing data rank from 14 -> 14\n",
      "Estimating covariance using EMPIRICAL\n",
      "Done.\n",
      "Computing rank from data with rank=None\n",
      "    Using tolerance 4.8e-09 (2.2e-16 eps * 14 dim * 1.5e+06  max singular value)\n",
      "    Estimated rank (mag): 14\n",
      "    MAG: rank 14 computed from 14 data channels with 0 projectors\n",
      "Reducing data rank from 14 -> 14\n",
      "Estimating covariance using EMPIRICAL\n",
      "Done.\n",
      "Computing rank from data with rank=None\n",
      "    Using tolerance 4.9e-09 (2.2e-16 eps * 14 dim * 1.6e+06  max singular value)\n",
      "    Estimated rank (mag): 14\n",
      "    MAG: rank 14 computed from 14 data channels with 0 projectors\n",
      "Reducing data rank from 14 -> 14\n",
      "Estimating covariance using EMPIRICAL\n",
      "Done.\n",
      "Computing rank from data with rank=None\n",
      "    Using tolerance 4.8e-09 (2.2e-16 eps * 14 dim * 1.5e+06  max singular value)\n",
      "    Estimated rank (mag): 14\n",
      "    MAG: rank 14 computed from 14 data channels with 0 projectors\n",
      "Reducing data rank from 14 -> 14\n",
      "Estimating covariance using EMPIRICAL\n",
      "Done.\n",
      "Computing rank from data with rank=None\n",
      "    Using tolerance 5e-09 (2.2e-16 eps * 14 dim * 1.6e+06  max singular value)\n",
      "    Estimated rank (mag): 14\n",
      "    MAG: rank 14 computed from 14 data channels with 0 projectors\n",
      "Reducing data rank from 14 -> 14\n",
      "Estimating covariance using EMPIRICAL\n",
      "Done.\n",
      "Computing rank from data with rank=None\n",
      "    Using tolerance 4.6e-09 (2.2e-16 eps * 14 dim * 1.5e+06  max singular value)\n",
      "    Estimated rank (mag): 14\n",
      "    MAG: rank 14 computed from 14 data channels with 0 projectors\n",
      "Reducing data rank from 14 -> 14\n",
      "Estimating covariance using EMPIRICAL\n",
      "Done.\n",
      "Computing rank from data with rank=None\n",
      "    Using tolerance 5e-09 (2.2e-16 eps * 14 dim * 1.6e+06  max singular value)\n",
      "    Estimated rank (mag): 14\n",
      "    MAG: rank 14 computed from 14 data channels with 0 projectors\n",
      "Reducing data rank from 14 -> 14\n",
      "Estimating covariance using EMPIRICAL\n",
      "Done.\n",
      "Computing rank from data with rank=None\n",
      "    Using tolerance 4.7e-09 (2.2e-16 eps * 14 dim * 1.5e+06  max singular value)\n",
      "    Estimated rank (mag): 14\n",
      "    MAG: rank 14 computed from 14 data channels with 0 projectors\n",
      "Reducing data rank from 14 -> 14\n",
      "Estimating covariance using EMPIRICAL\n",
      "Done.\n",
      "0.46843100189035913\n",
      "Computing rank from data with rank=None\n",
      "    Using tolerance 4.8e-09 (2.2e-16 eps * 14 dim * 1.6e+06  max singular value)\n",
      "    Estimated rank (mag): 14\n",
      "    MAG: rank 14 computed from 14 data channels with 0 projectors\n",
      "Reducing data rank from 14 -> 14\n",
      "Estimating covariance using EMPIRICAL\n",
      "Done.\n",
      "Computing rank from data with rank=None\n",
      "    Using tolerance 4.8e-09 (2.2e-16 eps * 14 dim * 1.6e+06  max singular value)\n",
      "    Estimated rank (mag): 14\n",
      "    MAG: rank 14 computed from 14 data channels with 0 projectors\n",
      "Reducing data rank from 14 -> 14\n",
      "Estimating covariance using EMPIRICAL\n",
      "Done.\n",
      "Computing rank from data with rank=None\n",
      "    Using tolerance 4.8e-09 (2.2e-16 eps * 14 dim * 1.5e+06  max singular value)\n",
      "    Estimated rank (mag): 14\n",
      "    MAG: rank 14 computed from 14 data channels with 0 projectors\n",
      "Reducing data rank from 14 -> 14\n",
      "Estimating covariance using EMPIRICAL\n",
      "Done.\n",
      "Computing rank from data with rank=None\n",
      "    Using tolerance 4.8e-09 (2.2e-16 eps * 14 dim * 1.5e+06  max singular value)\n",
      "    Estimated rank (mag): 14\n",
      "    MAG: rank 14 computed from 14 data channels with 0 projectors\n",
      "Reducing data rank from 14 -> 14\n",
      "Estimating covariance using EMPIRICAL\n",
      "Done.\n",
      "Computing rank from data with rank=None\n",
      "    Using tolerance 4.9e-09 (2.2e-16 eps * 14 dim * 1.6e+06  max singular value)\n",
      "    Estimated rank (mag): 14\n",
      "    MAG: rank 14 computed from 14 data channels with 0 projectors\n",
      "Reducing data rank from 14 -> 14\n",
      "Estimating covariance using EMPIRICAL\n",
      "Done.\n",
      "Computing rank from data with rank=None\n",
      "    Using tolerance 4.8e-09 (2.2e-16 eps * 14 dim * 1.5e+06  max singular value)\n",
      "    Estimated rank (mag): 14\n",
      "    MAG: rank 14 computed from 14 data channels with 0 projectors\n",
      "Reducing data rank from 14 -> 14\n",
      "Estimating covariance using EMPIRICAL\n",
      "Done.\n",
      "Computing rank from data with rank=None\n",
      "    Using tolerance 5e-09 (2.2e-16 eps * 14 dim * 1.6e+06  max singular value)\n",
      "    Estimated rank (mag): 14\n",
      "    MAG: rank 14 computed from 14 data channels with 0 projectors\n",
      "Reducing data rank from 14 -> 14\n",
      "Estimating covariance using EMPIRICAL\n",
      "Done.\n",
      "Computing rank from data with rank=None\n",
      "    Using tolerance 4.6e-09 (2.2e-16 eps * 14 dim * 1.5e+06  max singular value)\n",
      "    Estimated rank (mag): 14\n",
      "    MAG: rank 14 computed from 14 data channels with 0 projectors\n",
      "Reducing data rank from 14 -> 14\n",
      "Estimating covariance using EMPIRICAL\n",
      "Done.\n",
      "Computing rank from data with rank=None\n",
      "    Using tolerance 5e-09 (2.2e-16 eps * 14 dim * 1.6e+06  max singular value)\n",
      "    Estimated rank (mag): 14\n",
      "    MAG: rank 14 computed from 14 data channels with 0 projectors\n",
      "Reducing data rank from 14 -> 14\n",
      "Estimating covariance using EMPIRICAL\n",
      "Done.\n",
      "Computing rank from data with rank=None\n",
      "    Using tolerance 4.7e-09 (2.2e-16 eps * 14 dim * 1.5e+06  max singular value)\n",
      "    Estimated rank (mag): 14\n",
      "    MAG: rank 14 computed from 14 data channels with 0 projectors\n",
      "Reducing data rank from 14 -> 14\n",
      "Estimating covariance using EMPIRICAL\n",
      "Done.\n",
      "0.4688090737240076\n"
     ]
    }
   ],
   "source": [
    "scores = []\n",
    "\n",
    "# just alpha\n",
    "alpha_score = my_code.csp_lda(alpha_push_power, alpha_relax_power, 115)\n",
    "# just beta\n",
    "beta_score = my_code.csp_lda(beta_push_power, beta_relax_power, 115)\n",
    "# just gamma\n",
    "gamma_score = my_code.csp_lda(gamma_push_power, gamma_relax_power, 115)\n",
    "# alpha & beta\n",
    "alpha_beta_score = my_code.csp_lda(alpha_beta_push_power, alpha_beta_relax_power, 115)\n",
    "\n",
    "# alpha, beta & gamma\n",
    "\n",
    "alpha_beta_gamma_score = my_code.csp_lda(alpha_beta_gamma_push_power, alpha_beta_gamma_relax_power, 115)\n",
    "\n",
    "\n"
   ]
  },
  {
   "cell_type": "code",
   "execution_count": null,
   "metadata": {},
   "outputs": [],
   "source": [
    "# classifying combinations of TF, PyEEG, PCA & CSP features by LDA, SVM and DL architectures"
   ]
  },
  {
   "cell_type": "code",
   "execution_count": null,
   "metadata": {},
   "outputs": [],
   "source": [
    "alpha_powers = np.concatenate((alpha_push_power, alpha_push_power), axis = 0)\n",
    "alpha_powers.shape\n",
    "\n",
    "alpha_powers=alpha_powers.mean(axis=2)\n",
    "\n",
    "alpha_powers.shape\n",
    "\n",
    "alpha_powers = alpha_powers.reshape(230, -1)\n",
    "\n",
    "alpha_powers.shape\n",
    "\n",
    "alpha_fi_vectors = np.concatenate((alpha_powers, fi_epochs_over_channels), axis = 1)\n",
    "alpha_fi_vectors.shape\n",
    "\n",
    " \n",
    "    \n",
    "push = np.ones(shape=(115))\n",
    "relax = np.zeros(shape=(115))\n",
    "labels = np.concatenate((push ,relax), axis = 0)\n",
    "    \n",
    "    \n",
    "    # Now, we run the alpha data through LDA\n",
    "\n",
    "from sklearn.pipeline import Pipeline\n",
    "from sklearn.discriminant_analysis import LinearDiscriminantAnalysis\n",
    "from sklearn.model_selection import ShuffleSplit, cross_val_score\n",
    "\n",
    "scores = []\n",
    "all_data = alpha_fi_vectors\n",
    "all_data_train = alpha_fi_vectors.copy()\n",
    "cv = ShuffleSplit(10, test_size=0.2, random_state=42)\n",
    "cv_split = cv.split(all_data_train)\n",
    "\n",
    "# Assemble a classifier\n",
    "lda = LinearDiscriminantAnalysis()\n",
    "\n",
    "# Use scikit-learn Pipeline with cross_val_score function\n",
    "clf = Pipeline([('LDA', lda)])\n",
    "scores = cross_val_score(clf, all_data_train, labels, cv=cv, n_jobs=1)\n",
    "\n",
    "# Printing the results\n",
    "class_balance = np.mean(labels == labels[0])\n",
    "class_balance = max(class_balance, 1. - class_balance)\n",
    "print(\"Classification accuracy: %f / Chance level: %f\" % (np.mean(scores),\n",
    "                                                          class_balance))\n",
    "    \n",
    "    \n",
    "\n",
    "\n",
    "### Combining Fisher Information with gamma vectors\n",
    "\n",
    "gamma_powers = np.concatenate((gamma_push_power, gamma_push_power), axis = 0)\n",
    "gamma_powers.shape\n",
    "\n",
    "gamma_powers=gamma_powers.mean(axis=2)\n",
    "\n",
    "gamma_powers.shape\n",
    "\n",
    "gamma_powers = gamma_powers.reshape(230, -1)\n",
    "\n",
    "gamma_powers.shape\n",
    "\n",
    "gamma_fi_vectors = np.concatenate((gamma_powers, fi_epochs_over_channels), axis = 1)\n",
    "gamma_fi_vectors.shape\n",
    "\n",
    " \n",
    "    \n",
    "push = np.ones(shape=(121))\n",
    "relax = np.zeros(shape=(121))\n",
    "labels = np.concatenate((push ,relax), axis = 0)\n",
    "    \n",
    "    \n",
    "    # Now, we run the alpha data through LDA\n",
    "\n",
    "from sklearn.pipeline import Pipeline\n",
    "from sklearn.discriminant_analysis import LinearDiscriminantAnalysis\n",
    "from sklearn.model_selection import ShuffleSplit, cross_val_score\n",
    "\n",
    "scores = []\n",
    "all_data = alpha_fi_vectors\n",
    "all_data_train = gamma_fi_vectors.copy()\n",
    "cv = ShuffleSplit(10, test_size=0.2, random_state=42)\n",
    "cv_split = cv.split(all_data_train)\n",
    "\n",
    "# Assemble a classifier\n",
    "lda = LinearDiscriminantAnalysis()\n",
    "\n",
    "# Use scikit-learn Pipeline with cross_val_score function\n",
    "clf = Pipeline([('LDA', lda)])\n",
    "scores = cross_val_score(clf, all_data_train, labels, cv=cv, n_jobs=1)\n",
    "\n",
    "# Printing the results\n",
    "class_balance = np.mean(labels == labels[0])\n",
    "class_balance = max(class_balance, 1. - class_balance)\n",
    "print(\"Classification accuracy: %f / Chance level: %f\" % (np.mean(scores),\n",
    "                                                          class_balance))\n",
    "    \n",
    "    \n",
    "\n",
    "\n"
   ]
  },
  {
   "cell_type": "code",
   "execution_count": null,
   "metadata": {},
   "outputs": [],
   "source": [
    "# classifying raw data & spectograms by DL architectures \n",
    "\n",
    "# TO FINISH"
   ]
  },
  {
   "cell_type": "code",
   "execution_count": null,
   "metadata": {},
   "outputs": [],
   "source": [
    "# comparisons section\n",
    "\n",
    "# TO START"
   ]
  }
 ],
 "metadata": {
  "kernelspec": {
   "display_name": "Python 3",
   "language": "python",
   "name": "python3"
  },
  "language_info": {
   "codemirror_mode": {
    "name": "ipython",
    "version": 3
   },
   "file_extension": ".py",
   "mimetype": "text/x-python",
   "name": "python",
   "nbconvert_exporter": "python",
   "pygments_lexer": "ipython3",
   "version": "3.8.5"
  }
 },
 "nbformat": 4,
 "nbformat_minor": 4
}
